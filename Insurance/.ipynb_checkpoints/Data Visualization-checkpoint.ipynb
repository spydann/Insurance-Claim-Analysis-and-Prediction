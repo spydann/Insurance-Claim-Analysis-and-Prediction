{
 "cells": [
  {
   "cell_type": "code",
   "execution_count": 1,
   "id": "dd0d73a3",
   "metadata": {},
   "outputs": [],
   "source": [
    "# Import Relevant Libraries \n",
    "\n",
    "import pandas as pd\n",
    "import numpy as np \n",
    "import matplotlib.pyplot as plt \n",
    "import seaborn as sns \n",
    "\n",
    "\n",
    "sns.set()"
   ]
  },
  {
   "cell_type": "code",
   "execution_count": 2,
   "id": "5b56f9da",
   "metadata": {},
   "outputs": [
    {
     "data": {
      "text/html": [
       "<div>\n",
       "<style scoped>\n",
       "    .dataframe tbody tr th:only-of-type {\n",
       "        vertical-align: middle;\n",
       "    }\n",
       "\n",
       "    .dataframe tbody tr th {\n",
       "        vertical-align: top;\n",
       "    }\n",
       "\n",
       "    .dataframe thead th {\n",
       "        text-align: right;\n",
       "    }\n",
       "</style>\n",
       "<table border=\"1\" class=\"dataframe\">\n",
       "  <thead>\n",
       "    <tr style=\"text-align: right;\">\n",
       "      <th></th>\n",
       "      <th>Unnamed: 0</th>\n",
       "      <th>Year of Observation</th>\n",
       "      <th>Insurance Period</th>\n",
       "      <th>Residential</th>\n",
       "      <th>Building Painted</th>\n",
       "      <th>Building Fenced</th>\n",
       "      <th>Garden</th>\n",
       "      <th>Settlement</th>\n",
       "      <th>Building Dimension</th>\n",
       "      <th>Building Type</th>\n",
       "      <th>Date Of Occupancy</th>\n",
       "      <th>Number of Windows</th>\n",
       "      <th>Geo Code</th>\n",
       "      <th>Claim</th>\n",
       "    </tr>\n",
       "  </thead>\n",
       "  <tbody>\n",
       "    <tr>\n",
       "      <th>0</th>\n",
       "      <td>0</td>\n",
       "      <td>2013</td>\n",
       "      <td>6 Months - 1 Year</td>\n",
       "      <td>0</td>\n",
       "      <td>Painted</td>\n",
       "      <td>Not Fenced</td>\n",
       "      <td>Has Garden</td>\n",
       "      <td>Urban area</td>\n",
       "      <td>290</td>\n",
       "      <td>1</td>\n",
       "      <td>1960</td>\n",
       "      <td>4</td>\n",
       "      <td>1053</td>\n",
       "      <td>0</td>\n",
       "    </tr>\n",
       "    <tr>\n",
       "      <th>1</th>\n",
       "      <td>1</td>\n",
       "      <td>2015</td>\n",
       "      <td>6 Months - 1 Year</td>\n",
       "      <td>0</td>\n",
       "      <td>Not Painted</td>\n",
       "      <td>Fenced</td>\n",
       "      <td>No Garden</td>\n",
       "      <td>Rural area</td>\n",
       "      <td>490</td>\n",
       "      <td>1</td>\n",
       "      <td>1850</td>\n",
       "      <td>4</td>\n",
       "      <td>1053</td>\n",
       "      <td>0</td>\n",
       "    </tr>\n",
       "    <tr>\n",
       "      <th>2</th>\n",
       "      <td>2</td>\n",
       "      <td>2014</td>\n",
       "      <td>6 Months - 1 Year</td>\n",
       "      <td>0</td>\n",
       "      <td>Painted</td>\n",
       "      <td>Not Fenced</td>\n",
       "      <td>Has Garden</td>\n",
       "      <td>Urban area</td>\n",
       "      <td>595</td>\n",
       "      <td>1</td>\n",
       "      <td>1960</td>\n",
       "      <td>4</td>\n",
       "      <td>1053</td>\n",
       "      <td>0</td>\n",
       "    </tr>\n",
       "    <tr>\n",
       "      <th>3</th>\n",
       "      <td>3</td>\n",
       "      <td>2013</td>\n",
       "      <td>6 Months - 1 Year</td>\n",
       "      <td>0</td>\n",
       "      <td>Not Painted</td>\n",
       "      <td>Not Fenced</td>\n",
       "      <td>Has Garden</td>\n",
       "      <td>Urban area</td>\n",
       "      <td>2840</td>\n",
       "      <td>1</td>\n",
       "      <td>1960</td>\n",
       "      <td>4</td>\n",
       "      <td>1053</td>\n",
       "      <td>0</td>\n",
       "    </tr>\n",
       "    <tr>\n",
       "      <th>4</th>\n",
       "      <td>4</td>\n",
       "      <td>2014</td>\n",
       "      <td>6 Months - 1 Year</td>\n",
       "      <td>0</td>\n",
       "      <td>Not Painted</td>\n",
       "      <td>Fenced</td>\n",
       "      <td>No Garden</td>\n",
       "      <td>Rural area</td>\n",
       "      <td>680</td>\n",
       "      <td>1</td>\n",
       "      <td>1800</td>\n",
       "      <td>3</td>\n",
       "      <td>1053</td>\n",
       "      <td>0</td>\n",
       "    </tr>\n",
       "  </tbody>\n",
       "</table>\n",
       "</div>"
      ],
      "text/plain": [
       "   Unnamed: 0  Year of Observation   Insurance Period  Residential  \\\n",
       "0           0                 2013  6 Months - 1 Year            0   \n",
       "1           1                 2015  6 Months - 1 Year            0   \n",
       "2           2                 2014  6 Months - 1 Year            0   \n",
       "3           3                 2013  6 Months - 1 Year            0   \n",
       "4           4                 2014  6 Months - 1 Year            0   \n",
       "\n",
       "  Building Painted Building Fenced      Garden  Settlement  \\\n",
       "0          Painted      Not Fenced  Has Garden  Urban area   \n",
       "1      Not Painted          Fenced   No Garden  Rural area   \n",
       "2          Painted      Not Fenced  Has Garden  Urban area   \n",
       "3      Not Painted      Not Fenced  Has Garden  Urban area   \n",
       "4      Not Painted          Fenced   No Garden  Rural area   \n",
       "\n",
       "   Building Dimension  Building Type  Date Of Occupancy  Number of Windows  \\\n",
       "0                 290              1               1960                  4   \n",
       "1                 490              1               1850                  4   \n",
       "2                 595              1               1960                  4   \n",
       "3                2840              1               1960                  4   \n",
       "4                 680              1               1800                  3   \n",
       "\n",
       "  Geo Code  Claim  \n",
       "0     1053      0  \n",
       "1     1053      0  \n",
       "2     1053      0  \n",
       "3     1053      0  \n",
       "4     1053      0  "
      ]
     },
     "execution_count": 2,
     "metadata": {},
     "output_type": "execute_result"
    }
   ],
   "source": [
    "# Read the cleaned data \n",
    "cleaned_data = pd.read_csv('Datasets/Insurance_cleaned.csv')"
   ]
  },
  {
   "cell_type": "code",
   "execution_count": 3,
   "id": "9f76efcf",
   "metadata": {},
   "outputs": [
    {
     "data": {
      "text/html": [
       "<div>\n",
       "<style scoped>\n",
       "    .dataframe tbody tr th:only-of-type {\n",
       "        vertical-align: middle;\n",
       "    }\n",
       "\n",
       "    .dataframe tbody tr th {\n",
       "        vertical-align: top;\n",
       "    }\n",
       "\n",
       "    .dataframe thead th {\n",
       "        text-align: right;\n",
       "    }\n",
       "</style>\n",
       "<table border=\"1\" class=\"dataframe\">\n",
       "  <thead>\n",
       "    <tr style=\"text-align: right;\">\n",
       "      <th></th>\n",
       "      <th>Year of Observation</th>\n",
       "      <th>Insurance Period</th>\n",
       "      <th>Residential</th>\n",
       "      <th>Building Painted</th>\n",
       "      <th>Building Fenced</th>\n",
       "      <th>Garden</th>\n",
       "      <th>Settlement</th>\n",
       "      <th>Building Dimension</th>\n",
       "      <th>Building Type</th>\n",
       "      <th>Date Of Occupancy</th>\n",
       "      <th>Number of Windows</th>\n",
       "      <th>Geo Code</th>\n",
       "      <th>Claim</th>\n",
       "    </tr>\n",
       "  </thead>\n",
       "  <tbody>\n",
       "    <tr>\n",
       "      <th>0</th>\n",
       "      <td>2013</td>\n",
       "      <td>6 Months - 1 Year</td>\n",
       "      <td>0</td>\n",
       "      <td>Painted</td>\n",
       "      <td>Not Fenced</td>\n",
       "      <td>Has Garden</td>\n",
       "      <td>Urban area</td>\n",
       "      <td>290</td>\n",
       "      <td>1</td>\n",
       "      <td>1960</td>\n",
       "      <td>4</td>\n",
       "      <td>1053</td>\n",
       "      <td>0</td>\n",
       "    </tr>\n",
       "    <tr>\n",
       "      <th>1</th>\n",
       "      <td>2015</td>\n",
       "      <td>6 Months - 1 Year</td>\n",
       "      <td>0</td>\n",
       "      <td>Not Painted</td>\n",
       "      <td>Fenced</td>\n",
       "      <td>No Garden</td>\n",
       "      <td>Rural area</td>\n",
       "      <td>490</td>\n",
       "      <td>1</td>\n",
       "      <td>1850</td>\n",
       "      <td>4</td>\n",
       "      <td>1053</td>\n",
       "      <td>0</td>\n",
       "    </tr>\n",
       "    <tr>\n",
       "      <th>2</th>\n",
       "      <td>2014</td>\n",
       "      <td>6 Months - 1 Year</td>\n",
       "      <td>0</td>\n",
       "      <td>Painted</td>\n",
       "      <td>Not Fenced</td>\n",
       "      <td>Has Garden</td>\n",
       "      <td>Urban area</td>\n",
       "      <td>595</td>\n",
       "      <td>1</td>\n",
       "      <td>1960</td>\n",
       "      <td>4</td>\n",
       "      <td>1053</td>\n",
       "      <td>0</td>\n",
       "    </tr>\n",
       "    <tr>\n",
       "      <th>3</th>\n",
       "      <td>2013</td>\n",
       "      <td>6 Months - 1 Year</td>\n",
       "      <td>0</td>\n",
       "      <td>Not Painted</td>\n",
       "      <td>Not Fenced</td>\n",
       "      <td>Has Garden</td>\n",
       "      <td>Urban area</td>\n",
       "      <td>2840</td>\n",
       "      <td>1</td>\n",
       "      <td>1960</td>\n",
       "      <td>4</td>\n",
       "      <td>1053</td>\n",
       "      <td>0</td>\n",
       "    </tr>\n",
       "    <tr>\n",
       "      <th>4</th>\n",
       "      <td>2014</td>\n",
       "      <td>6 Months - 1 Year</td>\n",
       "      <td>0</td>\n",
       "      <td>Not Painted</td>\n",
       "      <td>Fenced</td>\n",
       "      <td>No Garden</td>\n",
       "      <td>Rural area</td>\n",
       "      <td>680</td>\n",
       "      <td>1</td>\n",
       "      <td>1800</td>\n",
       "      <td>3</td>\n",
       "      <td>1053</td>\n",
       "      <td>0</td>\n",
       "    </tr>\n",
       "  </tbody>\n",
       "</table>\n",
       "</div>"
      ],
      "text/plain": [
       "   Year of Observation   Insurance Period  Residential Building Painted  \\\n",
       "0                 2013  6 Months - 1 Year            0          Painted   \n",
       "1                 2015  6 Months - 1 Year            0      Not Painted   \n",
       "2                 2014  6 Months - 1 Year            0          Painted   \n",
       "3                 2013  6 Months - 1 Year            0      Not Painted   \n",
       "4                 2014  6 Months - 1 Year            0      Not Painted   \n",
       "\n",
       "  Building Fenced      Garden  Settlement  Building Dimension  Building Type  \\\n",
       "0      Not Fenced  Has Garden  Urban area                 290              1   \n",
       "1          Fenced   No Garden  Rural area                 490              1   \n",
       "2      Not Fenced  Has Garden  Urban area                 595              1   \n",
       "3      Not Fenced  Has Garden  Urban area                2840              1   \n",
       "4          Fenced   No Garden  Rural area                 680              1   \n",
       "\n",
       "   Date Of Occupancy  Number of Windows Geo Code  Claim  \n",
       "0               1960                  4     1053      0  \n",
       "1               1850                  4     1053      0  \n",
       "2               1960                  4     1053      0  \n",
       "3               1960                  4     1053      0  \n",
       "4               1800                  3     1053      0  "
      ]
     },
     "execution_count": 3,
     "metadata": {},
     "output_type": "execute_result"
    }
   ],
   "source": [
    "data = cleaned_data.copy()\n",
    "\n",
    "# drop index\n",
    "data = data.drop(['Unnamed: 0'], axis=1)\n",
    "data.reset_index(drop=True, inplace=True)\n",
    "\n",
    "data.head()"
   ]
  },
  {
   "cell_type": "code",
   "execution_count": 4,
   "id": "8b11cdb2",
   "metadata": {
    "scrolled": true
   },
   "outputs": [
    {
     "data": {
      "text/html": [
       "<div>\n",
       "<style scoped>\n",
       "    .dataframe tbody tr th:only-of-type {\n",
       "        vertical-align: middle;\n",
       "    }\n",
       "\n",
       "    .dataframe tbody tr th {\n",
       "        vertical-align: top;\n",
       "    }\n",
       "\n",
       "    .dataframe thead th {\n",
       "        text-align: right;\n",
       "    }\n",
       "</style>\n",
       "<table border=\"1\" class=\"dataframe\">\n",
       "  <thead>\n",
       "    <tr style=\"text-align: right;\">\n",
       "      <th></th>\n",
       "      <th>Year of Observation</th>\n",
       "      <th>Insurance Period</th>\n",
       "      <th>Residential</th>\n",
       "      <th>Building Painted</th>\n",
       "      <th>Building Fenced</th>\n",
       "      <th>Garden</th>\n",
       "      <th>Settlement</th>\n",
       "      <th>Building Dimension</th>\n",
       "      <th>Building Type</th>\n",
       "      <th>Date Of Occupancy</th>\n",
       "      <th>Number of Windows</th>\n",
       "      <th>Geo Code</th>\n",
       "      <th>Claim</th>\n",
       "    </tr>\n",
       "  </thead>\n",
       "  <tbody>\n",
       "    <tr>\n",
       "      <th>7143</th>\n",
       "      <td>2012</td>\n",
       "      <td>6 Months - 1 Year</td>\n",
       "      <td>1</td>\n",
       "      <td>Not Painted</td>\n",
       "      <td>Not Fenced</td>\n",
       "      <td>Has Garden</td>\n",
       "      <td>Urban area</td>\n",
       "      <td>1819</td>\n",
       "      <td>1</td>\n",
       "      <td>2001</td>\n",
       "      <td>4</td>\n",
       "      <td>6088</td>\n",
       "      <td>0</td>\n",
       "    </tr>\n",
       "    <tr>\n",
       "      <th>7144</th>\n",
       "      <td>2013</td>\n",
       "      <td>6 Months - 1 Year</td>\n",
       "      <td>0</td>\n",
       "      <td>Not Painted</td>\n",
       "      <td>Not Fenced</td>\n",
       "      <td>Has Garden</td>\n",
       "      <td>Urban area</td>\n",
       "      <td>1819</td>\n",
       "      <td>2</td>\n",
       "      <td>1980</td>\n",
       "      <td>4</td>\n",
       "      <td>6088</td>\n",
       "      <td>1</td>\n",
       "    </tr>\n",
       "    <tr>\n",
       "      <th>7145</th>\n",
       "      <td>2016</td>\n",
       "      <td>0 - 5 Months</td>\n",
       "      <td>0</td>\n",
       "      <td>Not Painted</td>\n",
       "      <td>Not Fenced</td>\n",
       "      <td>Has Garden</td>\n",
       "      <td>Urban area</td>\n",
       "      <td>1819</td>\n",
       "      <td>1</td>\n",
       "      <td>1992</td>\n",
       "      <td>4</td>\n",
       "      <td>6088</td>\n",
       "      <td>0</td>\n",
       "    </tr>\n",
       "    <tr>\n",
       "      <th>7146</th>\n",
       "      <td>2013</td>\n",
       "      <td>6 Months - 1 Year</td>\n",
       "      <td>0</td>\n",
       "      <td>Not Painted</td>\n",
       "      <td>Not Fenced</td>\n",
       "      <td>Has Garden</td>\n",
       "      <td>Urban area</td>\n",
       "      <td>1819</td>\n",
       "      <td>1</td>\n",
       "      <td>1972</td>\n",
       "      <td>4</td>\n",
       "      <td>6088</td>\n",
       "      <td>0</td>\n",
       "    </tr>\n",
       "    <tr>\n",
       "      <th>7147</th>\n",
       "      <td>2014</td>\n",
       "      <td>6 Months - 1 Year</td>\n",
       "      <td>0</td>\n",
       "      <td>Not Painted</td>\n",
       "      <td>Not Fenced</td>\n",
       "      <td>Has Garden</td>\n",
       "      <td>Urban area</td>\n",
       "      <td>1819</td>\n",
       "      <td>1</td>\n",
       "      <td>2004</td>\n",
       "      <td>4</td>\n",
       "      <td>6088</td>\n",
       "      <td>0</td>\n",
       "    </tr>\n",
       "  </tbody>\n",
       "</table>\n",
       "</div>"
      ],
      "text/plain": [
       "      Year of Observation   Insurance Period  Residential Building Painted  \\\n",
       "7143                 2012  6 Months - 1 Year            1      Not Painted   \n",
       "7144                 2013  6 Months - 1 Year            0      Not Painted   \n",
       "7145                 2016       0 - 5 Months            0      Not Painted   \n",
       "7146                 2013  6 Months - 1 Year            0      Not Painted   \n",
       "7147                 2014  6 Months - 1 Year            0      Not Painted   \n",
       "\n",
       "     Building Fenced      Garden  Settlement  Building Dimension  \\\n",
       "7143      Not Fenced  Has Garden  Urban area                1819   \n",
       "7144      Not Fenced  Has Garden  Urban area                1819   \n",
       "7145      Not Fenced  Has Garden  Urban area                1819   \n",
       "7146      Not Fenced  Has Garden  Urban area                1819   \n",
       "7147      Not Fenced  Has Garden  Urban area                1819   \n",
       "\n",
       "      Building Type  Date Of Occupancy  Number of Windows Geo Code  Claim  \n",
       "7143              1               2001                  4     6088      0  \n",
       "7144              2               1980                  4     6088      1  \n",
       "7145              1               1992                  4     6088      0  \n",
       "7146              1               1972                  4     6088      0  \n",
       "7147              1               2004                  4     6088      0  "
      ]
     },
     "execution_count": 4,
     "metadata": {},
     "output_type": "execute_result"
    }
   ],
   "source": [
    "data.tail()"
   ]
  },
  {
   "cell_type": "code",
   "execution_count": 5,
   "id": "8955d2f5",
   "metadata": {},
   "outputs": [
    {
     "data": {
      "text/html": [
       "<div>\n",
       "<style scoped>\n",
       "    .dataframe tbody tr th:only-of-type {\n",
       "        vertical-align: middle;\n",
       "    }\n",
       "\n",
       "    .dataframe tbody tr th {\n",
       "        vertical-align: top;\n",
       "    }\n",
       "\n",
       "    .dataframe thead th {\n",
       "        text-align: right;\n",
       "    }\n",
       "</style>\n",
       "<table border=\"1\" class=\"dataframe\">\n",
       "  <thead>\n",
       "    <tr style=\"text-align: right;\">\n",
       "      <th></th>\n",
       "      <th>Year of Observation</th>\n",
       "      <th>Residential</th>\n",
       "      <th>Building Dimension</th>\n",
       "      <th>Building Type</th>\n",
       "      <th>Date Of Occupancy</th>\n",
       "      <th>Number of Windows</th>\n",
       "      <th>Claim</th>\n",
       "    </tr>\n",
       "  </thead>\n",
       "  <tbody>\n",
       "    <tr>\n",
       "      <th>count</th>\n",
       "      <td>7148.000000</td>\n",
       "      <td>7148.000000</td>\n",
       "      <td>7148.000000</td>\n",
       "      <td>7148.000000</td>\n",
       "      <td>7148.000000</td>\n",
       "      <td>7148.000000</td>\n",
       "      <td>7148.000000</td>\n",
       "    </tr>\n",
       "    <tr>\n",
       "      <th>mean</th>\n",
       "      <td>2013.671237</td>\n",
       "      <td>0.305400</td>\n",
       "      <td>1882.147454</td>\n",
       "      <td>2.186626</td>\n",
       "      <td>1964.118215</td>\n",
       "      <td>4.167040</td>\n",
       "      <td>0.228316</td>\n",
       "    </tr>\n",
       "    <tr>\n",
       "      <th>std</th>\n",
       "      <td>1.383780</td>\n",
       "      <td>0.460609</td>\n",
       "      <td>2261.963222</td>\n",
       "      <td>0.941186</td>\n",
       "      <td>34.738361</td>\n",
       "      <td>1.295154</td>\n",
       "      <td>0.419776</td>\n",
       "    </tr>\n",
       "    <tr>\n",
       "      <th>min</th>\n",
       "      <td>2012.000000</td>\n",
       "      <td>0.000000</td>\n",
       "      <td>1.000000</td>\n",
       "      <td>1.000000</td>\n",
       "      <td>1545.000000</td>\n",
       "      <td>1.000000</td>\n",
       "      <td>0.000000</td>\n",
       "    </tr>\n",
       "    <tr>\n",
       "      <th>25%</th>\n",
       "      <td>2012.000000</td>\n",
       "      <td>0.000000</td>\n",
       "      <td>530.000000</td>\n",
       "      <td>2.000000</td>\n",
       "      <td>1960.000000</td>\n",
       "      <td>4.000000</td>\n",
       "      <td>0.000000</td>\n",
       "    </tr>\n",
       "    <tr>\n",
       "      <th>50%</th>\n",
       "      <td>2013.000000</td>\n",
       "      <td>0.000000</td>\n",
       "      <td>1100.000000</td>\n",
       "      <td>2.000000</td>\n",
       "      <td>1960.000000</td>\n",
       "      <td>4.000000</td>\n",
       "      <td>0.000000</td>\n",
       "    </tr>\n",
       "    <tr>\n",
       "      <th>75%</th>\n",
       "      <td>2015.000000</td>\n",
       "      <td>1.000000</td>\n",
       "      <td>2250.000000</td>\n",
       "      <td>3.000000</td>\n",
       "      <td>1980.000000</td>\n",
       "      <td>4.000000</td>\n",
       "      <td>0.000000</td>\n",
       "    </tr>\n",
       "    <tr>\n",
       "      <th>max</th>\n",
       "      <td>2016.000000</td>\n",
       "      <td>1.000000</td>\n",
       "      <td>20940.000000</td>\n",
       "      <td>4.000000</td>\n",
       "      <td>2016.000000</td>\n",
       "      <td>10.000000</td>\n",
       "      <td>1.000000</td>\n",
       "    </tr>\n",
       "  </tbody>\n",
       "</table>\n",
       "</div>"
      ],
      "text/plain": [
       "       Year of Observation  Residential  Building Dimension  Building Type  \\\n",
       "count          7148.000000  7148.000000         7148.000000    7148.000000   \n",
       "mean           2013.671237     0.305400         1882.147454       2.186626   \n",
       "std               1.383780     0.460609         2261.963222       0.941186   \n",
       "min            2012.000000     0.000000            1.000000       1.000000   \n",
       "25%            2012.000000     0.000000          530.000000       2.000000   \n",
       "50%            2013.000000     0.000000         1100.000000       2.000000   \n",
       "75%            2015.000000     1.000000         2250.000000       3.000000   \n",
       "max            2016.000000     1.000000        20940.000000       4.000000   \n",
       "\n",
       "       Date Of Occupancy  Number of Windows        Claim  \n",
       "count        7148.000000        7148.000000  7148.000000  \n",
       "mean         1964.118215           4.167040     0.228316  \n",
       "std            34.738361           1.295154     0.419776  \n",
       "min          1545.000000           1.000000     0.000000  \n",
       "25%          1960.000000           4.000000     0.000000  \n",
       "50%          1960.000000           4.000000     0.000000  \n",
       "75%          1980.000000           4.000000     0.000000  \n",
       "max          2016.000000          10.000000     1.000000  "
      ]
     },
     "execution_count": 5,
     "metadata": {},
     "output_type": "execute_result"
    }
   ],
   "source": [
    "# descriptives \n",
    "data.describe()"
   ]
  },
  {
   "cell_type": "markdown",
   "id": "3d6f04b3",
   "metadata": {},
   "source": [
    "# Exploratory Data Analysis\n"
   ]
  },
  {
   "cell_type": "markdown",
   "id": "8b5f4a45",
   "metadata": {},
   "source": [
    "Hypothesis \n",
    "\n",
    "1. Does Fenced Building Claim Insurance than Building Not Fenced?\n",
    "2. Does Longer Insurance Period Claim Insurance than shorter Period?\n",
    "3. what is the Percentage of Insurance Claim in Rural areas and Urban areas?\n",
    "4. What is the Trend of insurance made over the years?\n",
    "5. Does Residential Properties have longer Insurance Period?\n",
    "6. check if our targets variable is balanced? "
   ]
  },
  {
   "cell_type": "markdown",
   "id": "061ec2dd",
   "metadata": {},
   "source": [
    "# Does Number of Insurance made increase over the year of observation?"
   ]
  },
  {
   "cell_type": "code",
   "execution_count": 6,
   "id": "0e8bab3c",
   "metadata": {},
   "outputs": [
    {
     "data": {
      "image/png": "[encoded data removed]",
      "text/plain": [
       "<Figure size 432x288 with 1 Axes>"
      ]
     },
     "metadata": {},
     "output_type": "display_data"
    }
   ],
   "source": [
    "Year_of_observation = data['Year of Observation'].value_counts()\n",
    "\n",
    "sns.pointplot(x=Year_of_observation.index, y=Year_of_observation.values,color='green')\n",
    "plt.title(\"Number of Insurance made from (2012-2016)\",fontsize=15)\n",
    "plt.xlabel(\"Year of Observation\")\n",
    "\n",
    "plt.show()"
   ]
  },
  {
   "cell_type": "code",
   "execution_count": 22,
   "id": "f0d5a678",
   "metadata": {},
   "outputs": [
    {
     "data": {
      "text/plain": [
       "<AxesSubplot:xlabel='Year of Observation,Claim'>"
      ]
     },
     "execution_count": 22,
     "metadata": {},
     "output_type": "execute_result"
    },
    {
     "data": {
      "image/png": "[encoded data removed]",
      "text/plain": [
       "<Figure size 432x288 with 1 Axes>"
      ]
     },
     "metadata": {},
     "output_type": "display_data"
    }
   ],
   "source": [
    "data[data['Claim'] == 1].groupby('Year of Observation')['Claim'].value_counts().plot(kind='bar')"
   ]
  },
  {
   "cell_type": "code",
   "execution_count": 25,
   "id": "c7dd9281",
   "metadata": {},
   "outputs": [
    {
     "data": {
      "text/plain": [
       "Year of Observation  Claim\n",
       "2012                 0        1429\n",
       "                     1         422\n",
       "2013                 0        1384\n",
       "                     1         424\n",
       "2014                 0        1033\n",
       "                     1         339\n",
       "2015                 0         842\n",
       "                     1         232\n",
       "2016                 0         828\n",
       "                     1         215\n",
       "Name: Claim, dtype: int64"
      ]
     },
     "execution_count": 25,
     "metadata": {},
     "output_type": "execute_result"
    }
   ],
   "source": [
    "df_0 = pd.DataFrame(data.groupby('Year of Observation')['Claim'].value_counts(), columns=['Counts'])\n",
    "df_0 = df_0.reset_index()\n",
    "\n",
    "df_0_pivot = df_0.pivot(values = 'Counts', index='Year of Observation', columns=['Claim'])\n",
    "df_0_pivot['Claimed %'] = \n",
    "df_0_pivot['Not Claimed %']"
   ]
  },
  {
   "cell_type": "markdown",
   "id": "e58918cc",
   "metadata": {},
   "source": [
    "# Is the targets variable is balanced?"
   ]
  },
  {
   "cell_type": "code",
   "execution_count": 7,
   "id": "942588f5",
   "metadata": {},
   "outputs": [
    {
     "name": "stderr",
     "output_type": "stream",
     "text": [
      "C:\\Users\\User\\anaconda3\\lib\\site-packages\\seaborn\\_decorators.py:36: FutureWarning: Pass the following variable as a keyword arg: x. From version 0.12, the only valid positional argument will be `data`, and passing other arguments without an explicit keyword will result in an error or misinterpretation.\n",
      "  warnings.warn(\n"
     ]
    },
    {
     "data": {
      "image/png": "[encoded data removed]",
      "text/plain": [
       "<Figure size 432x288 with 1 Axes>"
      ]
     },
     "metadata": {},
     "output_type": "display_data"
    }
   ],
   "source": [
    "sns.countplot(data['Claim'])\n",
    "\n",
    "plt.show()"
   ]
  },
  {
   "cell_type": "markdown",
   "id": "51ed1be7",
   "metadata": {},
   "source": [
    "This Claim column consists of the Insurance Claimed and Not Claimed and the Countplot above visualizes the amount of Insurance Claimed and Not Claimed.\n",
    "Majority of the Insurance happens not to be claimed leaving Insurance Claimed to be the Minority.\n",
    "\n",
    "Why are Majority of the Insurance Not Claimed?\n",
    "This Plot only shows us the majority, to gain futher insight about the Insurance Not Claimed \n",
    "we'd have to check for what Claimed and non claimed insurance consists by comparing with other variables."
   ]
  },
  {
   "cell_type": "markdown",
   "id": "b996acfa",
   "metadata": {},
   "source": [
    "# Does Fenced Building Claim Insurance than Building Not Fenced?"
   ]
  },
  {
   "cell_type": "code",
   "execution_count": 8,
   "id": "781e480a",
   "metadata": {},
   "outputs": [],
   "source": [
    "# Visualize the Insurance Claimed between Fenced Building and Not Fenced Building \n",
    "\n",
    "Fenced_gb = data.groupby('Building Fenced')[['Claim','Building Fenced']].value_counts()\n",
    "df_1 = pd.DataFrame({'Building Type': ['Fenced','Not Fenced'],'Claimed':[901,731], 'Not Claimed':[3531,5032]})"
   ]
  },
  {
   "cell_type": "code",
   "execution_count": 9,
   "id": "91b2745b",
   "metadata": {},
   "outputs": [
    {
     "data": {
      "image/png": "[encoded data removed]",
      "text/plain": [
       "<Figure size 432x288 with 1 Axes>"
      ]
     },
     "metadata": {},
     "output_type": "display_data"
    }
   ],
   "source": [
    "#plot the bar chart\n",
    "n = len(df_1)\n",
    "r = np.arange(n)\n",
    "width = 0.25\n",
    "\n",
    "plt.bar(r,df_1['Claimed'], color = 'darkblue',\n",
    "       width = width, edgecolor = 'black',label='Claim')\n",
    "plt.bar(r + width,df_1['Not Claimed'], color='y',\n",
    "       width = width, edgecolor = 'black',label='Not Claimed')\n",
    "\n",
    "plt.xlabel('Building',fontsize = 14)\n",
    "plt.ylabel('Counts', fontsize = 14)\n",
    "plt.title('Fenced and Not Fenced Insurance Claim Counts',fontsize = 16)\n",
    "plt.grid(False)\n",
    "plt.xticks(r + width/2,['Fenced','Not Fenced'])\n",
    "plt.legend()\n",
    "\n",
    "plt.show()\n"
   ]
  },
  {
   "cell_type": "markdown",
   "id": "f4dfe331",
   "metadata": {},
   "source": [
    "According to the visuals \n",
    "Fenced Building does have higher insurance claim than Building Not Fenced \n",
    "The Bar chat also implies that whether a Building is fenced or not, it is not a strong determinant of insurance Claim"
   ]
  },
  {
   "cell_type": "markdown",
   "id": "04053197",
   "metadata": {},
   "source": [
    "# Does Longer Insurance Period Claim Insurance than shorter Period?"
   ]
  },
  {
   "cell_type": "code",
   "execution_count": 10,
   "id": "c9524898",
   "metadata": {},
   "outputs": [
    {
     "data": {
      "image/png": "[encoded data removed]",
      "text/plain": [
       "<Figure size 432x288 with 1 Axes>"
      ]
     },
     "metadata": {},
     "output_type": "display_data"
    }
   ],
   "source": [
    "# Insurance Claim Period \n",
    "\n",
    "df_2 = pd.DataFrame(data.groupby('Insurance Period')[['Claim','Insurance Period']].value_counts(), columns=[\"Counts\"])\n",
    "df_2 = df_2.reset_index()\n",
    "df_pivot = df_2.pivot(index='Insurance Period', values ='Counts', columns=['Claim'])\n",
    "\n",
    "n = len(df_pivot)\n",
    "r = range(n)\n",
    "width = 0.25\n",
    "\n",
    "\n",
    "plt.bar(r,df_pivot.loc[:,0], color='green', \n",
    "       width=width,label=\"Not Claimed\")\n",
    "plt.bar(r,df_pivot.loc[:,1], color='darkblue',\n",
    "       width=width, label=\"Claimed\")\n",
    "plt.xlabel(\"Insurance Period\")\n",
    "plt.ylabel(\"Counts\")\n",
    "plt.xticks(r, ['0-5 Months','6 Months - 1 Year'])\n",
    "plt.legend()\n",
    "\n",
    "plt.show()\n"
   ]
  },
  {
   "cell_type": "markdown",
   "id": "3e775ad5",
   "metadata": {},
   "source": [
    "The Insurance period doesn't really explains much on the Insurance Claim\n",
    "but rather shows that Majority of the insurance made are six months upwards"
   ]
  },
  {
   "cell_type": "markdown",
   "id": "b7471dc1",
   "metadata": {},
   "source": [
    "# what is the Percentage of Insurance Claim in Rural areas and Urban areas?"
   ]
  },
  {
   "cell_type": "code",
   "execution_count": 11,
   "id": "e8ccf560",
   "metadata": {},
   "outputs": [
    {
     "data": {
      "image/png": "[encoded data removed]",
      "text/plain": [
       "<Figure size 432x288 with 1 Axes>"
      ]
     },
     "metadata": {},
     "output_type": "display_data"
    }
   ],
   "source": [
    "data.groupby('Settlement')['Claim'].value_counts().plot(kind= \"pie\",autopct=\"%1.2f%%\")\n",
    "plt.title(\"Percentage of Insurance Claim across Settlements\",fontsize=15)\n",
    "\n",
    "plt.show()"
   ]
  },
  {
   "cell_type": "code",
   "execution_count": null,
   "id": "4a2093b9",
   "metadata": {},
   "outputs": [],
   "source": []
  },
  {
   "cell_type": "markdown",
   "id": "0195784a",
   "metadata": {},
   "source": [
    "# Does Residential Properties have longer Insurance Period?"
   ]
  },
  {
   "cell_type": "code",
   "execution_count": 12,
   "id": "fcb4f5b2",
   "metadata": {},
   "outputs": [],
   "source": [
    "df_5 = pd.DataFrame(data.groupby('Insurance Period')[['Insurance Period','Residential']].value_counts(),columns=['Counts'])\n",
    "df_5 = df_5.reset_index()"
   ]
  },
  {
   "cell_type": "code",
   "execution_count": 13,
   "id": "9b03b814",
   "metadata": {},
   "outputs": [
    {
     "data": {
      "image/png": "[encoded data removed]",
      "text/plain": [
       "<Figure size 432x360 with 1 Axes>"
      ]
     },
     "metadata": {},
     "output_type": "display_data"
    }
   ],
   "source": [
    "plt.figure(figsize=(6,5))\n",
    "\n",
    "sns.barplot(data=df_5, x='Insurance Period', y= 'Counts',hue=\"Residential\",palette = ['darkblue','green'] )\n",
    "\n",
    "plt.show()"
   ]
  },
  {
   "cell_type": "code",
   "execution_count": 14,
   "id": "3ff15b13",
   "metadata": {},
   "outputs": [],
   "source": [
    "# plot insured period of residential and non residential properties \n",
    "\n",
    "Groupby = pd.DataFrame(data.groupby('Insurance Period')['Residential'].value_counts(),\n",
    "                      \n",
    "                      )\n",
    "Groupby.rename(columns={'Residential':'Counts'},inplace=True)\n",
    "Groupby.reset_index(inplace=True)\n",
    "\n",
    "residential = Groupby[Groupby['Residential'] == 1]\n",
    "non_residential = Groupby[Groupby['Residential'] == 0]\n"
   ]
  },
  {
   "cell_type": "code",
   "execution_count": 15,
   "id": "837487b9",
   "metadata": {},
   "outputs": [
    {
     "data": {
      "image/png": "[encoded data removed]",
      "text/plain": [
       "<Figure size 576x432 with 1 Axes>"
      ]
     },
     "metadata": {},
     "output_type": "display_data"
    }
   ],
   "source": [
    "n = len(residential['Counts'])\n",
    "r = np.arange(n)\n",
    "width = 0.25\n",
    "\n",
    "plt.figure(figsize=(8,6))\n",
    "sns.set_theme(font_scale=1.5)\n",
    "plt.bar(r,residential['Counts'], color='g',\n",
    "       width = width, edgecolor = 'black',label='Residential')\n",
    "plt.bar(r + width,non_residential['Counts'], color='b',\n",
    "       width = width, edgecolor = 'black',label='Non Residential')\n",
    "\n",
    "plt.xlabel('Insurance',fontsize = 14)\n",
    "plt.ylabel('Counts', fontsize = 14)\n",
    "plt.title('Insurance Period of Residential and Non Residential Properties',fontsize = 20)\n",
    "\n",
    "plt.xticks(r + width/2,['0 - 5 Months','6 Months - 1 Year'])\n",
    "plt.legend()\n",
    "\n",
    "plt.show()"
   ]
  },
  {
   "cell_type": "code",
   "execution_count": 16,
   "id": "58804281",
   "metadata": {},
   "outputs": [
    {
     "data": {
      "image/png": "[encoded data removed]",
      "text/plain": [
       "<Figure size 432x360 with 1 Axes>"
      ]
     },
     "metadata": {},
     "output_type": "display_data"
    }
   ],
   "source": [
    "df_6 = pd.DataFrame(data.groupby('Garden')[['Claim','Garden']].value_counts(),columns=['Counts'])\n",
    "df_6 = df_6.reset_index()\n",
    "\n",
    "plt.figure(figsize=(6,5))\n",
    "\n",
    "sns.barplot(data=df_6, x='Garden', y= 'Counts',hue=\"Claim\",palette = ['darkblue','green'] )\n",
    "\n",
    "plt.show()"
   ]
  },
  {
   "cell_type": "markdown",
   "id": "99ca66d4",
   "metadata": {},
   "source": [
    "# Conclusion"
   ]
  },
  {
   "cell_type": "code",
   "execution_count": null,
   "id": "a3d30207",
   "metadata": {},
   "outputs": [],
   "source": [
    "Based on the brief analysis done on this Insurance dataset to discover the catergorical variables that contributes most to the target variable \n",
    "(claimed & Not claimed).\n",
    "\n",
    "We were able to discover that the insrance made declines as the year passes by \n"
   ]
  },
  {
   "cell_type": "code",
   "execution_count": null,
   "id": "02053b40",
   "metadata": {},
   "outputs": [],
   "source": []
  }
 ],
 "metadata": {
  "kernelspec": {
   "display_name": "Python 3 (ipykernel)",
   "language": "python",
   "name": "python3"
  },
  "language_info": {
   "codemirror_mode": {
    "name": "ipython",
    "version": 3
   },
   "file_extension": ".py",
   "mimetype": "text/x-python",
   "name": "python",
   "nbconvert_exporter": "python",
   "pygments_lexer": "ipython3",
   "version": "3.9.12"
  }
 },
 "nbformat": 4,
 "nbformat_minor": 5
}
