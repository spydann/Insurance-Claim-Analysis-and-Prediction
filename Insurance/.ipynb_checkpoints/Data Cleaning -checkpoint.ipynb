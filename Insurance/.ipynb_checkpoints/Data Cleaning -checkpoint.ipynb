{
 "cells": [
  {
   "cell_type": "markdown",
   "id": "12e32f0e",
   "metadata": {},
   "source": [
    "# Data Cleaning "
   ]
  },
  {
   "cell_type": "code",
   "execution_count": 1,
   "id": "d21dc9fd",
   "metadata": {},
   "outputs": [],
   "source": [
    "#import relevant Libraries \n",
    "import warnings\n",
    "warnings.filterwarnings('ignore')\n",
    "\n",
    "import pandas as pd\n",
    "import numpy as np \n",
    "import matplotlib.pyplot as plt \n",
    "import seaborn as sns \n",
    "\n",
    "sns.set()"
   ]
  },
  {
   "cell_type": "code",
   "execution_count": 2,
   "id": "98fa7c11",
   "metadata": {},
   "outputs": [
    {
     "data": {
      "text/html": [
       "<div>\n",
       "<style scoped>\n",
       "    .dataframe tbody tr th:only-of-type {\n",
       "        vertical-align: middle;\n",
       "    }\n",
       "\n",
       "    .dataframe tbody tr th {\n",
       "        vertical-align: top;\n",
       "    }\n",
       "\n",
       "    .dataframe thead th {\n",
       "        text-align: right;\n",
       "    }\n",
       "</style>\n",
       "<table border=\"1\" class=\"dataframe\">\n",
       "  <thead>\n",
       "    <tr style=\"text-align: right;\">\n",
       "      <th></th>\n",
       "      <th>Unnamed: 0</th>\n",
       "      <th>Customer Id</th>\n",
       "      <th>YearOfObservation</th>\n",
       "      <th>Insured_Period</th>\n",
       "      <th>Residential</th>\n",
       "      <th>Building_Painted</th>\n",
       "      <th>Building_Fenced</th>\n",
       "      <th>Garden</th>\n",
       "      <th>Settlement</th>\n",
       "      <th>Building Dimension</th>\n",
       "      <th>Building_Type</th>\n",
       "      <th>Date_of_Occupancy</th>\n",
       "      <th>NumberOfWindows</th>\n",
       "      <th>Geo_Code</th>\n",
       "      <th>Claim</th>\n",
       "    </tr>\n",
       "  </thead>\n",
       "  <tbody>\n",
       "    <tr>\n",
       "      <th>0</th>\n",
       "      <td>0</td>\n",
       "      <td>H14663</td>\n",
       "      <td>2013</td>\n",
       "      <td>1.0</td>\n",
       "      <td>0</td>\n",
       "      <td>N</td>\n",
       "      <td>V</td>\n",
       "      <td>V</td>\n",
       "      <td>U</td>\n",
       "      <td>290.0</td>\n",
       "      <td>1</td>\n",
       "      <td>1960.0</td>\n",
       "      <td>.</td>\n",
       "      <td>1053</td>\n",
       "      <td>0.0</td>\n",
       "    </tr>\n",
       "    <tr>\n",
       "      <th>1</th>\n",
       "      <td>1</td>\n",
       "      <td>H2037</td>\n",
       "      <td>2015</td>\n",
       "      <td>1.0</td>\n",
       "      <td>0</td>\n",
       "      <td>V</td>\n",
       "      <td>N</td>\n",
       "      <td>O</td>\n",
       "      <td>R</td>\n",
       "      <td>490.0</td>\n",
       "      <td>1</td>\n",
       "      <td>1850.0</td>\n",
       "      <td>4</td>\n",
       "      <td>1053</td>\n",
       "      <td>0.0</td>\n",
       "    </tr>\n",
       "    <tr>\n",
       "      <th>2</th>\n",
       "      <td>2</td>\n",
       "      <td>H3802</td>\n",
       "      <td>2014</td>\n",
       "      <td>1.0</td>\n",
       "      <td>0</td>\n",
       "      <td>N</td>\n",
       "      <td>V</td>\n",
       "      <td>V</td>\n",
       "      <td>U</td>\n",
       "      <td>595.0</td>\n",
       "      <td>1</td>\n",
       "      <td>1960.0</td>\n",
       "      <td>.</td>\n",
       "      <td>1053</td>\n",
       "      <td>0.0</td>\n",
       "    </tr>\n",
       "    <tr>\n",
       "      <th>3</th>\n",
       "      <td>3</td>\n",
       "      <td>H3834</td>\n",
       "      <td>2013</td>\n",
       "      <td>1.0</td>\n",
       "      <td>0</td>\n",
       "      <td>V</td>\n",
       "      <td>V</td>\n",
       "      <td>V</td>\n",
       "      <td>U</td>\n",
       "      <td>2840.0</td>\n",
       "      <td>1</td>\n",
       "      <td>1960.0</td>\n",
       "      <td>.</td>\n",
       "      <td>1053</td>\n",
       "      <td>0.0</td>\n",
       "    </tr>\n",
       "    <tr>\n",
       "      <th>4</th>\n",
       "      <td>4</td>\n",
       "      <td>H5053</td>\n",
       "      <td>2014</td>\n",
       "      <td>1.0</td>\n",
       "      <td>0</td>\n",
       "      <td>V</td>\n",
       "      <td>N</td>\n",
       "      <td>O</td>\n",
       "      <td>R</td>\n",
       "      <td>680.0</td>\n",
       "      <td>1</td>\n",
       "      <td>1800.0</td>\n",
       "      <td>3</td>\n",
       "      <td>1053</td>\n",
       "      <td>0.0</td>\n",
       "    </tr>\n",
       "  </tbody>\n",
       "</table>\n",
       "</div>"
      ],
      "text/plain": [
       "   Unnamed: 0 Customer Id  YearOfObservation  Insured_Period  Residential  \\\n",
       "0           0      H14663               2013             1.0            0   \n",
       "1           1       H2037               2015             1.0            0   \n",
       "2           2       H3802               2014             1.0            0   \n",
       "3           3       H3834               2013             1.0            0   \n",
       "4           4       H5053               2014             1.0            0   \n",
       "\n",
       "  Building_Painted Building_Fenced Garden Settlement  Building Dimension  \\\n",
       "0                N               V      V          U               290.0   \n",
       "1                V               N      O          R               490.0   \n",
       "2                N               V      V          U               595.0   \n",
       "3                V               V      V          U              2840.0   \n",
       "4                V               N      O          R               680.0   \n",
       "\n",
       "   Building_Type  Date_of_Occupancy NumberOfWindows Geo_Code  Claim  \n",
       "0              1             1960.0               .     1053    0.0  \n",
       "1              1             1850.0               4     1053    0.0  \n",
       "2              1             1960.0               .     1053    0.0  \n",
       "3              1             1960.0               .     1053    0.0  \n",
       "4              1             1800.0               3     1053    0.0  "
      ]
     },
     "execution_count": 2,
     "metadata": {},
     "output_type": "execute_result"
    }
   ],
   "source": [
    "raw_data = pd.read_csv('Datasets/InsuranceData.csv')\n",
    "\n",
    "raw_data.head()"
   ]
  },
  {
   "cell_type": "code",
   "execution_count": 3,
   "id": "a6566abf",
   "metadata": {},
   "outputs": [],
   "source": [
    "data = raw_data.copy()\n",
    "\n",
    "# drop index and customer_id column\n",
    "data = data.drop(['Unnamed: 0','Customer Id'], axis=1)\n",
    "\n",
    "data.reset_index(drop=True, inplace=True)"
   ]
  },
  {
   "cell_type": "code",
   "execution_count": 4,
   "id": "a7d52aa7",
   "metadata": {},
   "outputs": [
    {
     "data": {
      "text/html": [
       "<div>\n",
       "<style scoped>\n",
       "    .dataframe tbody tr th:only-of-type {\n",
       "        vertical-align: middle;\n",
       "    }\n",
       "\n",
       "    .dataframe tbody tr th {\n",
       "        vertical-align: top;\n",
       "    }\n",
       "\n",
       "    .dataframe thead th {\n",
       "        text-align: right;\n",
       "    }\n",
       "</style>\n",
       "<table border=\"1\" class=\"dataframe\">\n",
       "  <thead>\n",
       "    <tr style=\"text-align: right;\">\n",
       "      <th></th>\n",
       "      <th>YearOfObservation</th>\n",
       "      <th>Insured_Period</th>\n",
       "      <th>Residential</th>\n",
       "      <th>Building_Painted</th>\n",
       "      <th>Building_Fenced</th>\n",
       "      <th>Garden</th>\n",
       "      <th>Settlement</th>\n",
       "      <th>Building Dimension</th>\n",
       "      <th>Building_Type</th>\n",
       "      <th>Date_of_Occupancy</th>\n",
       "      <th>NumberOfWindows</th>\n",
       "      <th>Geo_Code</th>\n",
       "      <th>Claim</th>\n",
       "    </tr>\n",
       "  </thead>\n",
       "  <tbody>\n",
       "    <tr>\n",
       "      <th>10224</th>\n",
       "      <td>2015</td>\n",
       "      <td>1.0</td>\n",
       "      <td>0</td>\n",
       "      <td>V</td>\n",
       "      <td>V</td>\n",
       "      <td>V</td>\n",
       "      <td>U</td>\n",
       "      <td>NaN</td>\n",
       "      <td>4</td>\n",
       "      <td>1900.0</td>\n",
       "      <td>.</td>\n",
       "      <td>NaN</td>\n",
       "      <td>NaN</td>\n",
       "    </tr>\n",
       "    <tr>\n",
       "      <th>10225</th>\n",
       "      <td>2012</td>\n",
       "      <td>1.0</td>\n",
       "      <td>0</td>\n",
       "      <td>V</td>\n",
       "      <td>V</td>\n",
       "      <td>V</td>\n",
       "      <td>U</td>\n",
       "      <td>NaN</td>\n",
       "      <td>2</td>\n",
       "      <td>1948.0</td>\n",
       "      <td>.</td>\n",
       "      <td>NaN</td>\n",
       "      <td>NaN</td>\n",
       "    </tr>\n",
       "    <tr>\n",
       "      <th>10226</th>\n",
       "      <td>2012</td>\n",
       "      <td>1.0</td>\n",
       "      <td>0</td>\n",
       "      <td>V</td>\n",
       "      <td>V</td>\n",
       "      <td>V</td>\n",
       "      <td>U</td>\n",
       "      <td>NaN</td>\n",
       "      <td>2</td>\n",
       "      <td>1993.0</td>\n",
       "      <td>.</td>\n",
       "      <td>NaN</td>\n",
       "      <td>NaN</td>\n",
       "    </tr>\n",
       "    <tr>\n",
       "      <th>10227</th>\n",
       "      <td>2013</td>\n",
       "      <td>1.0</td>\n",
       "      <td>0</td>\n",
       "      <td>V</td>\n",
       "      <td>V</td>\n",
       "      <td>V</td>\n",
       "      <td>U</td>\n",
       "      <td>NaN</td>\n",
       "      <td>1</td>\n",
       "      <td>1800.0</td>\n",
       "      <td>.</td>\n",
       "      <td>NaN</td>\n",
       "      <td>NaN</td>\n",
       "    </tr>\n",
       "    <tr>\n",
       "      <th>10228</th>\n",
       "      <td>2012</td>\n",
       "      <td>1.0</td>\n",
       "      <td>0</td>\n",
       "      <td>V</td>\n",
       "      <td>V</td>\n",
       "      <td>V</td>\n",
       "      <td>U</td>\n",
       "      <td>NaN</td>\n",
       "      <td>2</td>\n",
       "      <td>1950.0</td>\n",
       "      <td>.</td>\n",
       "      <td>NaN</td>\n",
       "      <td>NaN</td>\n",
       "    </tr>\n",
       "  </tbody>\n",
       "</table>\n",
       "</div>"
      ],
      "text/plain": [
       "       YearOfObservation  Insured_Period  Residential Building_Painted  \\\n",
       "10224               2015             1.0            0                V   \n",
       "10225               2012             1.0            0                V   \n",
       "10226               2012             1.0            0                V   \n",
       "10227               2013             1.0            0                V   \n",
       "10228               2012             1.0            0                V   \n",
       "\n",
       "      Building_Fenced Garden Settlement  Building Dimension  Building_Type  \\\n",
       "10224               V      V          U                 NaN              4   \n",
       "10225               V      V          U                 NaN              2   \n",
       "10226               V      V          U                 NaN              2   \n",
       "10227               V      V          U                 NaN              1   \n",
       "10228               V      V          U                 NaN              2   \n",
       "\n",
       "       Date_of_Occupancy NumberOfWindows Geo_Code  Claim  \n",
       "10224             1900.0               .      NaN    NaN  \n",
       "10225             1948.0               .      NaN    NaN  \n",
       "10226             1993.0               .      NaN    NaN  \n",
       "10227             1800.0               .      NaN    NaN  \n",
       "10228             1950.0               .      NaN    NaN  "
      ]
     },
     "execution_count": 4,
     "metadata": {},
     "output_type": "execute_result"
    }
   ],
   "source": [
    "data.tail()"
   ]
  },
  {
   "cell_type": "code",
   "execution_count": 5,
   "id": "381f01ff",
   "metadata": {
    "scrolled": true
   },
   "outputs": [
    {
     "data": {
      "text/html": [
       "<div>\n",
       "<style scoped>\n",
       "    .dataframe tbody tr th:only-of-type {\n",
       "        vertical-align: middle;\n",
       "    }\n",
       "\n",
       "    .dataframe tbody tr th {\n",
       "        vertical-align: top;\n",
       "    }\n",
       "\n",
       "    .dataframe thead th {\n",
       "        text-align: right;\n",
       "    }\n",
       "</style>\n",
       "<table border=\"1\" class=\"dataframe\">\n",
       "  <thead>\n",
       "    <tr style=\"text-align: right;\">\n",
       "      <th></th>\n",
       "      <th>YearOfObservation</th>\n",
       "      <th>Insured_Period</th>\n",
       "      <th>Residential</th>\n",
       "      <th>Building_Painted</th>\n",
       "      <th>Building_Fenced</th>\n",
       "      <th>Garden</th>\n",
       "      <th>Settlement</th>\n",
       "      <th>Building Dimension</th>\n",
       "      <th>Building_Type</th>\n",
       "      <th>Date_of_Occupancy</th>\n",
       "      <th>NumberOfWindows</th>\n",
       "      <th>Geo_Code</th>\n",
       "      <th>Claim</th>\n",
       "    </tr>\n",
       "  </thead>\n",
       "  <tbody>\n",
       "    <tr>\n",
       "      <th>count</th>\n",
       "      <td>10229.000000</td>\n",
       "      <td>10229.000000</td>\n",
       "      <td>10229.000000</td>\n",
       "      <td>10229</td>\n",
       "      <td>10229</td>\n",
       "      <td>10218</td>\n",
       "      <td>10229</td>\n",
       "      <td>10110.000000</td>\n",
       "      <td>10229.000000</td>\n",
       "      <td>8993.000000</td>\n",
       "      <td>10229</td>\n",
       "      <td>10114</td>\n",
       "      <td>7160.000000</td>\n",
       "    </tr>\n",
       "    <tr>\n",
       "      <th>unique</th>\n",
       "      <td>NaN</td>\n",
       "      <td>NaN</td>\n",
       "      <td>NaN</td>\n",
       "      <td>2</td>\n",
       "      <td>2</td>\n",
       "      <td>2</td>\n",
       "      <td>2</td>\n",
       "      <td>NaN</td>\n",
       "      <td>NaN</td>\n",
       "      <td>NaN</td>\n",
       "      <td>11</td>\n",
       "      <td>1525</td>\n",
       "      <td>NaN</td>\n",
       "    </tr>\n",
       "    <tr>\n",
       "      <th>top</th>\n",
       "      <td>NaN</td>\n",
       "      <td>NaN</td>\n",
       "      <td>NaN</td>\n",
       "      <td>V</td>\n",
       "      <td>V</td>\n",
       "      <td>V</td>\n",
       "      <td>U</td>\n",
       "      <td>NaN</td>\n",
       "      <td>NaN</td>\n",
       "      <td>NaN</td>\n",
       "      <td>.</td>\n",
       "      <td>6088</td>\n",
       "      <td>NaN</td>\n",
       "    </tr>\n",
       "    <tr>\n",
       "      <th>freq</th>\n",
       "      <td>NaN</td>\n",
       "      <td>NaN</td>\n",
       "      <td>NaN</td>\n",
       "      <td>7066</td>\n",
       "      <td>5792</td>\n",
       "      <td>5791</td>\n",
       "      <td>5790</td>\n",
       "      <td>NaN</td>\n",
       "      <td>NaN</td>\n",
       "      <td>NaN</td>\n",
       "      <td>5791</td>\n",
       "      <td>238</td>\n",
       "      <td>NaN</td>\n",
       "    </tr>\n",
       "    <tr>\n",
       "      <th>mean</th>\n",
       "      <td>2013.646789</td>\n",
       "      <td>0.913672</td>\n",
       "      <td>0.281064</td>\n",
       "      <td>NaN</td>\n",
       "      <td>NaN</td>\n",
       "      <td>NaN</td>\n",
       "      <td>NaN</td>\n",
       "      <td>1818.152918</td>\n",
       "      <td>2.238049</td>\n",
       "      <td>1965.061715</td>\n",
       "      <td>NaN</td>\n",
       "      <td>NaN</td>\n",
       "      <td>0.228212</td>\n",
       "    </tr>\n",
       "    <tr>\n",
       "      <th>std</th>\n",
       "      <td>1.380660</td>\n",
       "      <td>0.233806</td>\n",
       "      <td>0.449540</td>\n",
       "      <td>NaN</td>\n",
       "      <td>NaN</td>\n",
       "      <td>NaN</td>\n",
       "      <td>NaN</td>\n",
       "      <td>2272.111284</td>\n",
       "      <td>0.961589</td>\n",
       "      <td>33.548619</td>\n",
       "      <td>NaN</td>\n",
       "      <td>NaN</td>\n",
       "      <td>0.419709</td>\n",
       "    </tr>\n",
       "    <tr>\n",
       "      <th>min</th>\n",
       "      <td>2012.000000</td>\n",
       "      <td>0.000000</td>\n",
       "      <td>0.000000</td>\n",
       "      <td>NaN</td>\n",
       "      <td>NaN</td>\n",
       "      <td>NaN</td>\n",
       "      <td>NaN</td>\n",
       "      <td>1.000000</td>\n",
       "      <td>1.000000</td>\n",
       "      <td>1545.000000</td>\n",
       "      <td>NaN</td>\n",
       "      <td>NaN</td>\n",
       "      <td>0.000000</td>\n",
       "    </tr>\n",
       "    <tr>\n",
       "      <th>25%</th>\n",
       "      <td>2012.000000</td>\n",
       "      <td>1.000000</td>\n",
       "      <td>0.000000</td>\n",
       "      <td>NaN</td>\n",
       "      <td>NaN</td>\n",
       "      <td>NaN</td>\n",
       "      <td>NaN</td>\n",
       "      <td>500.000000</td>\n",
       "      <td>2.000000</td>\n",
       "      <td>1960.000000</td>\n",
       "      <td>NaN</td>\n",
       "      <td>NaN</td>\n",
       "      <td>0.000000</td>\n",
       "    </tr>\n",
       "    <tr>\n",
       "      <th>50%</th>\n",
       "      <td>2013.000000</td>\n",
       "      <td>1.000000</td>\n",
       "      <td>0.000000</td>\n",
       "      <td>NaN</td>\n",
       "      <td>NaN</td>\n",
       "      <td>NaN</td>\n",
       "      <td>NaN</td>\n",
       "      <td>1002.000000</td>\n",
       "      <td>2.000000</td>\n",
       "      <td>1970.000000</td>\n",
       "      <td>NaN</td>\n",
       "      <td>NaN</td>\n",
       "      <td>0.000000</td>\n",
       "    </tr>\n",
       "    <tr>\n",
       "      <th>75%</th>\n",
       "      <td>2015.000000</td>\n",
       "      <td>1.000000</td>\n",
       "      <td>1.000000</td>\n",
       "      <td>NaN</td>\n",
       "      <td>NaN</td>\n",
       "      <td>NaN</td>\n",
       "      <td>NaN</td>\n",
       "      <td>2190.000000</td>\n",
       "      <td>3.000000</td>\n",
       "      <td>1980.000000</td>\n",
       "      <td>NaN</td>\n",
       "      <td>NaN</td>\n",
       "      <td>0.000000</td>\n",
       "    </tr>\n",
       "    <tr>\n",
       "      <th>max</th>\n",
       "      <td>2016.000000</td>\n",
       "      <td>1.000000</td>\n",
       "      <td>1.000000</td>\n",
       "      <td>NaN</td>\n",
       "      <td>NaN</td>\n",
       "      <td>NaN</td>\n",
       "      <td>NaN</td>\n",
       "      <td>30745.000000</td>\n",
       "      <td>4.000000</td>\n",
       "      <td>2016.000000</td>\n",
       "      <td>NaN</td>\n",
       "      <td>NaN</td>\n",
       "      <td>1.000000</td>\n",
       "    </tr>\n",
       "  </tbody>\n",
       "</table>\n",
       "</div>"
      ],
      "text/plain": [
       "        YearOfObservation  Insured_Period   Residential Building_Painted  \\\n",
       "count        10229.000000    10229.000000  10229.000000            10229   \n",
       "unique                NaN             NaN           NaN                2   \n",
       "top                   NaN             NaN           NaN                V   \n",
       "freq                  NaN             NaN           NaN             7066   \n",
       "mean          2013.646789        0.913672      0.281064              NaN   \n",
       "std              1.380660        0.233806      0.449540              NaN   \n",
       "min           2012.000000        0.000000      0.000000              NaN   \n",
       "25%           2012.000000        1.000000      0.000000              NaN   \n",
       "50%           2013.000000        1.000000      0.000000              NaN   \n",
       "75%           2015.000000        1.000000      1.000000              NaN   \n",
       "max           2016.000000        1.000000      1.000000              NaN   \n",
       "\n",
       "       Building_Fenced Garden Settlement  Building Dimension  Building_Type  \\\n",
       "count            10229  10218      10229        10110.000000   10229.000000   \n",
       "unique               2      2          2                 NaN            NaN   \n",
       "top                  V      V          U                 NaN            NaN   \n",
       "freq              5792   5791       5790                 NaN            NaN   \n",
       "mean               NaN    NaN        NaN         1818.152918       2.238049   \n",
       "std                NaN    NaN        NaN         2272.111284       0.961589   \n",
       "min                NaN    NaN        NaN            1.000000       1.000000   \n",
       "25%                NaN    NaN        NaN          500.000000       2.000000   \n",
       "50%                NaN    NaN        NaN         1002.000000       2.000000   \n",
       "75%                NaN    NaN        NaN         2190.000000       3.000000   \n",
       "max                NaN    NaN        NaN        30745.000000       4.000000   \n",
       "\n",
       "        Date_of_Occupancy NumberOfWindows Geo_Code        Claim  \n",
       "count         8993.000000           10229    10114  7160.000000  \n",
       "unique                NaN              11     1525          NaN  \n",
       "top                   NaN               .     6088          NaN  \n",
       "freq                  NaN            5791      238          NaN  \n",
       "mean          1965.061715             NaN      NaN     0.228212  \n",
       "std             33.548619             NaN      NaN     0.419709  \n",
       "min           1545.000000             NaN      NaN     0.000000  \n",
       "25%           1960.000000             NaN      NaN     0.000000  \n",
       "50%           1970.000000             NaN      NaN     0.000000  \n",
       "75%           1980.000000             NaN      NaN     0.000000  \n",
       "max           2016.000000             NaN      NaN     1.000000  "
      ]
     },
     "execution_count": 5,
     "metadata": {},
     "output_type": "execute_result"
    }
   ],
   "source": [
    "#check the descriptives \n",
    "data.describe(include='all')"
   ]
  },
  {
   "cell_type": "code",
   "execution_count": 6,
   "id": "d4b70e78",
   "metadata": {},
   "outputs": [
    {
     "name": "stdout",
     "output_type": "stream",
     "text": [
      "<class 'pandas.core.frame.DataFrame'>\n",
      "RangeIndex: 10229 entries, 0 to 10228\n",
      "Data columns (total 13 columns):\n",
      " #   Column              Non-Null Count  Dtype  \n",
      "---  ------              --------------  -----  \n",
      " 0   YearOfObservation   10229 non-null  int64  \n",
      " 1   Insured_Period      10229 non-null  float64\n",
      " 2   Residential         10229 non-null  int64  \n",
      " 3   Building_Painted    10229 non-null  object \n",
      " 4   Building_Fenced     10229 non-null  object \n",
      " 5   Garden              10218 non-null  object \n",
      " 6   Settlement          10229 non-null  object \n",
      " 7   Building Dimension  10110 non-null  float64\n",
      " 8   Building_Type       10229 non-null  int64  \n",
      " 9   Date_of_Occupancy   8993 non-null   float64\n",
      " 10  NumberOfWindows     10229 non-null  object \n",
      " 11  Geo_Code            10114 non-null  object \n",
      " 12  Claim               7160 non-null   float64\n",
      "dtypes: float64(4), int64(3), object(6)\n",
      "memory usage: 1.0+ MB\n"
     ]
    }
   ],
   "source": [
    "data.info()"
   ]
  },
  {
   "cell_type": "code",
   "execution_count": 7,
   "id": "480616e1",
   "metadata": {},
   "outputs": [
    {
     "data": {
      "text/plain": [
       "YearOfObservation        0\n",
       "Insured_Period           0\n",
       "Residential              0\n",
       "Building_Painted         0\n",
       "Building_Fenced          0\n",
       "Garden                  11\n",
       "Settlement               0\n",
       "Building Dimension     119\n",
       "Building_Type            0\n",
       "Date_of_Occupancy     1236\n",
       "NumberOfWindows          0\n",
       "Geo_Code               115\n",
       "Claim                 3069\n",
       "dtype: int64"
      ]
     },
     "execution_count": 7,
     "metadata": {},
     "output_type": "execute_result"
    }
   ],
   "source": [
    "#check for missing values \n",
    "data.isna().sum()"
   ]
  },
  {
   "cell_type": "code",
   "execution_count": 8,
   "id": "8d41edad",
   "metadata": {},
   "outputs": [
    {
     "name": "stdout",
     "output_type": "stream",
     "text": [
      "Data Shape : \t (10229, 13) \n",
      "\n",
      "% Of NAN Values :\n",
      " \n",
      "YearOfObservation      0.000000\n",
      "Insured_Period         0.000000\n",
      "Residential            0.000000\n",
      "Building_Painted       0.000000\n",
      "Building_Fenced        0.000000\n",
      "Garden                 0.107537\n",
      "Settlement             0.000000\n",
      "Building Dimension     1.163359\n",
      "Building_Type          0.000000\n",
      "Date_of_Occupancy     12.083293\n",
      "NumberOfWindows        0.000000\n",
      "Geo_Code               1.124255\n",
      "Claim                 30.002933\n",
      "dtype: float64\n",
      "\n",
      "Sum Of Duplicate Values :\t 34\n"
     ]
    }
   ],
   "source": [
    "# data shape,percentagee of null values and duplicates \n",
    "print(f'Data Shape : \\t {data.shape} \\n')\n",
    "print(f'% Of NAN Values :\\n \\n{data.isna().sum()/len(data)*100}\\n')\n",
    "print(f'Sum Of Duplicate Values :\\t {data.duplicated().sum()}')"
   ]
  },
  {
   "cell_type": "markdown",
   "id": "b3384e69",
   "metadata": {},
   "source": [
    "Note: Dealing with Missing values \n",
    "1. remove duplicates \n",
    "3. Replace the null values with mean for categorical and with mean for numerical data\n",
    "\n"
   ]
  },
  {
   "cell_type": "code",
   "execution_count": 9,
   "id": "0dfebc60",
   "metadata": {},
   "outputs": [
    {
     "name": "stdout",
     "output_type": "stream",
     "text": [
      "<class 'pandas.core.frame.DataFrame'>\n",
      "RangeIndex: 10229 entries, 0 to 10228\n",
      "Data columns (total 13 columns):\n",
      " #   Column              Non-Null Count  Dtype  \n",
      "---  ------              --------------  -----  \n",
      " 0   YearOfObservation   10229 non-null  int64  \n",
      " 1   Insured_Period      10229 non-null  float64\n",
      " 2   Residential         10229 non-null  int64  \n",
      " 3   Building_Painted    10229 non-null  object \n",
      " 4   Building_Fenced     10229 non-null  object \n",
      " 5   Garden              10218 non-null  object \n",
      " 6   Settlement          10229 non-null  object \n",
      " 7   Building Dimension  10110 non-null  float64\n",
      " 8   Building_Type       10229 non-null  int64  \n",
      " 9   Date_of_Occupancy   8993 non-null   float64\n",
      " 10  NumberOfWindows     10229 non-null  object \n",
      " 11  Geo_Code            10114 non-null  object \n",
      " 12  Claim               7160 non-null   float64\n",
      "dtypes: float64(4), int64(3), object(6)\n",
      "memory usage: 1.0+ MB\n"
     ]
    }
   ],
   "source": [
    "data.info()"
   ]
  },
  {
   "cell_type": "code",
   "execution_count": 10,
   "id": "82630756",
   "metadata": {},
   "outputs": [],
   "source": [
    "# removing duplicates rows \n",
    "data.drop_duplicates(inplace = True)"
   ]
  },
  {
   "cell_type": "code",
   "execution_count": 11,
   "id": "d52327c6",
   "metadata": {},
   "outputs": [
    {
     "data": {
      "text/plain": [
       "0    V\n",
       "Name: Garden, dtype: object"
      ]
     },
     "execution_count": 11,
     "metadata": {},
     "output_type": "execute_result"
    }
   ],
   "source": [
    "# check for the mode of the columns 'Garden'\n",
    "data['Garden'].mode()"
   ]
  },
  {
   "cell_type": "code",
   "execution_count": 12,
   "id": "ed70eeeb",
   "metadata": {},
   "outputs": [
    {
     "data": {
      "text/plain": [
       "1819.6649141950204"
      ]
     },
     "execution_count": 12,
     "metadata": {},
     "output_type": "execute_result"
    }
   ],
   "source": [
    "# check for the mode of the columns 'Building Dimension'\n",
    "data['Building Dimension'].mean()"
   ]
  },
  {
   "cell_type": "code",
   "execution_count": 13,
   "id": "00d72657",
   "metadata": {},
   "outputs": [
    {
     "data": {
      "text/plain": [
       "0    1960.0\n",
       "Name: Date_of_Occupancy, dtype: float64"
      ]
     },
     "execution_count": 13,
     "metadata": {},
     "output_type": "execute_result"
    }
   ],
   "source": [
    "# check for the mode of the columns 'Date_of_Occupancy'\n",
    "data['Date_of_Occupancy'].mode()"
   ]
  },
  {
   "cell_type": "code",
   "execution_count": 14,
   "id": "7d08ac09",
   "metadata": {},
   "outputs": [
    {
     "data": {
      "text/plain": [
       "0    6088\n",
       "Name: Geo_Code, dtype: object"
      ]
     },
     "execution_count": 14,
     "metadata": {},
     "output_type": "execute_result"
    }
   ],
   "source": [
    "# check for the mode of the columns 'Geo_Code'\n",
    "data[\"Geo_Code\"].mode()"
   ]
  },
  {
   "cell_type": "code",
   "execution_count": 15,
   "id": "03f4d9c3",
   "metadata": {},
   "outputs": [],
   "source": [
    "values = {\"Garden\":'V',\n",
    "          \"Building Dimension\":1819.6649141950145,\n",
    "          \"Date_of_Occupancy\":1960.0,\n",
    "          \"Geo_Code\":6088\n",
    "          }"
   ]
  },
  {
   "cell_type": "code",
   "execution_count": 16,
   "id": "6907deae",
   "metadata": {},
   "outputs": [],
   "source": [
    "# Replace all NaN value;'Garden','Date_of_Occupancy','Geo_code','Claim' with the mode\n",
    "# and 'Building Dimension' with the mean \n",
    "\n",
    "data.fillna(value=values, inplace=True)"
   ]
  },
  {
   "cell_type": "markdown",
   "id": "ba52c7c0",
   "metadata": {},
   "source": [
    "NOTE: The Claim columns also contains Missing values instead of replacing the values we'd drop them, the missing data cannot be imputed accurately or reliably, we would store them as unlabelled test set \n",
    "and feed them into trained model in the third chapter of this Project \"data modelling\"."
   ]
  },
  {
   "cell_type": "code",
   "execution_count": 17,
   "id": "c91a9194",
   "metadata": {},
   "outputs": [],
   "source": [
    "unlabelled_test_set = data[data[\"Claim\"].isna()]"
   ]
  },
  {
   "cell_type": "code",
   "execution_count": 18,
   "id": "1588e76d",
   "metadata": {},
   "outputs": [],
   "source": [
    "unlabelled_test_set.to_csv(\"unlabelled_test_set.csv\")"
   ]
  },
  {
   "cell_type": "code",
   "execution_count": 19,
   "id": "eea02e48",
   "metadata": {},
   "outputs": [],
   "source": [
    "#Dropped the missing values in our labels\n",
    "data2 = data.dropna()"
   ]
  },
  {
   "cell_type": "markdown",
   "id": "19b66192",
   "metadata": {},
   "source": [
    "Check for inconsistency in the data "
   ]
  },
  {
   "cell_type": "code",
   "execution_count": 20,
   "id": "772bec90",
   "metadata": {},
   "outputs": [
    {
     "name": "stdout",
     "output_type": "stream",
     "text": [
      "<class 'pandas.core.frame.DataFrame'>\n",
      "Int64Index: 7148 entries, 0 to 7159\n",
      "Data columns (total 13 columns):\n",
      " #   Column              Non-Null Count  Dtype  \n",
      "---  ------              --------------  -----  \n",
      " 0   YearOfObservation   7148 non-null   int64  \n",
      " 1   Insured_Period      7148 non-null   float64\n",
      " 2   Residential         7148 non-null   int64  \n",
      " 3   Building_Painted    7148 non-null   object \n",
      " 4   Building_Fenced     7148 non-null   object \n",
      " 5   Garden              7148 non-null   object \n",
      " 6   Settlement          7148 non-null   object \n",
      " 7   Building Dimension  7148 non-null   float64\n",
      " 8   Building_Type       7148 non-null   int64  \n",
      " 9   Date_of_Occupancy   7148 non-null   float64\n",
      " 10  NumberOfWindows     7148 non-null   object \n",
      " 11  Geo_Code            7148 non-null   object \n",
      " 12  Claim               7148 non-null   float64\n",
      "dtypes: float64(4), int64(3), object(6)\n",
      "memory usage: 781.8+ KB\n"
     ]
    }
   ],
   "source": [
    "data2.info()"
   ]
  },
  {
   "cell_type": "code",
   "execution_count": 21,
   "id": "3a3c4823",
   "metadata": {},
   "outputs": [],
   "source": [
    "#  display unique values \n",
    "def unique_values(df):\n",
    "    for col in df.columns:\n",
    "        unique_vals = df[col].unique()\n",
    "        print(f\"Unique values {col} : {unique_vals}\")"
   ]
  },
  {
   "cell_type": "code",
   "execution_count": 22,
   "id": "8d017855",
   "metadata": {
    "scrolled": true
   },
   "outputs": [
    {
     "name": "stdout",
     "output_type": "stream",
     "text": [
      "Unique values Residential : [0 1]\n",
      "Unique values Building_Painted : ['N' 'V']\n",
      "Unique values Building_Fenced : ['V' 'N']\n",
      "Unique values Garden : ['V' 'O']\n",
      "Unique values Settlement : ['U' 'R']\n",
      "Unique values Building Dimension : [ 290.  490.  595. ... 4207. 1775. 1017.]\n",
      "Unique values Building_Type : [1 2 4 3]\n",
      "Unique values Date_of_Occupancy : [1960. 1850. 1800. 1980. 1988. 2013. 2011. 1550. 1900. 2007. 1970. 1950.\n",
      " 1700. 1976. 1940. 1920. 1982. 1972. 2010. 1971. 1995. 2006. 1999. 1969.\n",
      " 1985. 1965. 1981. 1975. 1997. 2003. 1990. 1930. 1973. 1991. 1974. 1978.\n",
      " 1967. 1927. 1952. 1957. 2009. 1977. 1890. 1949. 1951. 2008. 1987. 2000.\n",
      " 1962. 1956. 1993. 1912. 1983. 1954. 1968. 2004. 1936. 1958. 1966. 1953.\n",
      " 1979. 1946. 1955. 2001. 1870. 1961. 2015. 1613. 1964. 1984. 2014. 2002.\n",
      " 1986. 1992. 2005. 2012. 1910. 1945. 1864. 1942. 1939. 1934. 1998. 1908.\n",
      " 1948. 1860. 1926. 1938. 1895. 1545. 1959. 1989. 1996. 1963. 1840. 2016.\n",
      " 1718. 1600. 1875. 1898. 1880. 1915. 1994. 1810. 1937. 1907. 1931. 1925.\n",
      " 1935. 1824. 1914. 1750. 1846. 1903. 1905. 1906. 1830. 1923. 1924. 1928.\n",
      " 1947. 1911. 1901. 1902. 1904. 1919. 1896. 1913. 1893. 1820. 1884. 1871.\n",
      " 1780. 1929.]\n",
      "Unique values NumberOfWindows : ['   .' '4' '3' '2' '5' '>=10' '6' '7' '9' '8' '1']\n",
      "Unique values Geo_Code : ['1053' '1143' '1160' ... '2B096' '2B353' 6088]\n",
      "Unique values Claim : [0. 1.]\n"
     ]
    }
   ],
   "source": [
    "unique_values(data2.iloc[:,2:])"
   ]
  },
  {
   "cell_type": "markdown",
   "id": "b991d5d8",
   "metadata": {},
   "source": [
    "# Dealing with inconsistencies"
   ]
  },
  {
   "cell_type": "code",
   "execution_count": 23,
   "id": "f4d4696d",
   "metadata": {
    "scrolled": true
   },
   "outputs": [
    {
     "data": {
      "text/plain": [
       "array(['6 Months - 1 Year', '0 - 5 Months'], dtype=object)"
      ]
     },
     "execution_count": 23,
     "metadata": {},
     "output_type": "execute_result"
    }
   ],
   "source": [
    "# Type Conversion\n",
    "data2.loc[:,'Insured_Period'] = pd.to_numeric(data2['Insured_Period'])\n",
    "\n",
    "\n",
    "# Filtering\n",
    "dfLess50Percent = data2[data2['Insured_Period'] <= 0.50]\n",
    "dfOver50Percent = data2[data2['Insured_Period'] > 0.50]\n",
    "\n",
    "# Values Replacement\n",
    "data2.loc[dfLess50Percent.index, 'Insured_Period'] = \"0 - 5 Months\"\n",
    "data2.loc[dfOver50Percent.index, 'Insured_Period'] = \"6 Months - 1 Year\"\n",
    "\n",
    "# Unique Values\n",
    "data2['Insured_Period'].unique()"
   ]
  },
  {
   "cell_type": "code",
   "execution_count": 24,
   "id": "6511797b",
   "metadata": {},
   "outputs": [],
   "source": [
    "# Replace incosistent '  .' with 4 the second mode and '>=10' with 10 since 10 is the highest value recorded \n",
    "data2['NumberOfWindows'].replace({'   .':4, '>=10':10}, inplace=True)\n",
    "\n",
    "# change to dtype to int64\n",
    "data2['NumberOfWindows'] = data2['NumberOfWindows'].astype('int64')\n",
    "#data['NumberOfWindows'].str.isdigit().sum()\n",
    "#df = data[data['NumberOfWindows'].str.isdigit()]"
   ]
  },
  {
   "cell_type": "code",
   "execution_count": 25,
   "id": "2400988f",
   "metadata": {},
   "outputs": [],
   "source": [
    "# change yeaof obseravtion to date type \n",
    "data2['YearOfObservation'] = pd.to_datetime(data['YearOfObservation'], format='%Y')\n",
    "#change dtype to 'int64'\n",
    "\n",
    "data2['Date_of_Occupancy'] = data2['Date_of_Occupancy'].astype('int64')\n",
    "data2['Claim'] = data2['Claim'].astype('int64')\n",
    "data2['Building Dimension'] = data2['Building Dimension'].astype('int64')"
   ]
  },
  {
   "cell_type": "code",
   "execution_count": 26,
   "id": "05262327",
   "metadata": {},
   "outputs": [],
   "source": [
    "# Replace (N-Painted, V-Not Painted)\n",
    "data2['Building_Painted'].replace({'N':'Painted','V':'Not Painted'},inplace=True)\n",
    "# Replace (V-has garden; O-no garden)\n",
    "data2['Garden'].replace({'V':'Has Garden','O':'No Garden'}, inplace=True)\n",
    "# Replace (N-Fenced, V-Not Fenced)\n",
    "data2['Building_Fenced'].replace({'N':'Fenced','V':'Not Fenced'},inplace=True)\n",
    "# Replace (R- rural area; U- urban area)\n",
    "data2['Settlement'].replace({'R': 'Rural area','U': 'Urban area'},inplace=True)"
   ]
  },
  {
   "cell_type": "code",
   "execution_count": 27,
   "id": "862c43af",
   "metadata": {},
   "outputs": [],
   "source": [
    "#  Rename columns\n",
    "data2 = data2.rename({'Insured_Period':'Insurance Period', \n",
    "           'Building_Type':'Building Type', \n",
    "           'Building_Painted': 'Building Painted',\n",
    "           'Building_Fenced' : 'Building Fenced',\n",
    "           'NumberOfWindows' : 'Number of Windows',\n",
    "           'Geo_Code': 'Geo Code',\n",
    "           'Date_of_Occupancy':'Date Of Occupancy',\n",
    "           'YearOfObservation':'Year of Observation'},\n",
    "          axis=1)"
   ]
  },
  {
   "cell_type": "code",
   "execution_count": 28,
   "id": "70af9e96",
   "metadata": {},
   "outputs": [],
   "source": [
    "Insurance_cleaned = data2.copy()"
   ]
  },
  {
   "cell_type": "code",
   "execution_count": 29,
   "id": "b18df101",
   "metadata": {},
   "outputs": [],
   "source": [
    "Insurance_cleaned.to_csv('Insurance_cleaned.csv')"
   ]
  },
  {
   "cell_type": "code",
   "execution_count": null,
   "id": "57ffc667",
   "metadata": {},
   "outputs": [],
   "source": []
  },
  {
   "cell_type": "code",
   "execution_count": null,
   "id": "e7a7a9a1",
   "metadata": {},
   "outputs": [],
   "source": []
  }
 ],
 "metadata": {
  "kernelspec": {
   "display_name": "Python 3 (ipykernel)",
   "language": "python",
   "name": "python3"
  },
  "language_info": {
   "codemirror_mode": {
    "name": "ipython",
    "version": 3
   },
   "file_extension": ".py",
   "mimetype": "text/x-python",
   "name": "python",
   "nbconvert_exporter": "python",
   "pygments_lexer": "ipython3",
   "version": "3.9.12"
  }
 },
 "nbformat": 4,
 "nbformat_minor": 5
}
