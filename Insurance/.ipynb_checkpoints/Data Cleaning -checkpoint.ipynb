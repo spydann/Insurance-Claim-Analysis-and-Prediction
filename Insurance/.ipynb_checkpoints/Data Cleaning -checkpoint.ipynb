{
 "cells": [
  {
   "cell_type": "markdown",
   "id": "12e32f0e",
   "metadata": {},
   "source": [
    "# Data Cleaning "
   ]
  },
  {
   "cell_type": "code",
   "execution_count": 1,
   "id": "d21dc9fd",
   "metadata": {},
   "outputs": [],
   "source": [
    "#import relevant Libraries \n",
    "import pandas as pd\n",
    "import numpy as np \n",
    "import matplotlib.pyplot as plt \n",
    "import seaborn as sns \n",
    "\n",
    "\n",
    "sns.set()"
   ]
  },
  {
   "cell_type": "code",
   "execution_count": 2,
   "id": "98fa7c11",
   "metadata": {},
   "outputs": [
    {
     "data": {
      "text/html": [
       "<div>\n",
       "<style scoped>\n",
       "    .dataframe tbody tr th:only-of-type {\n",
       "        vertical-align: middle;\n",
       "    }\n",
       "\n",
       "    .dataframe tbody tr th {\n",
       "        vertical-align: top;\n",
       "    }\n",
       "\n",
       "    .dataframe thead th {\n",
       "        text-align: right;\n",
       "    }\n",
       "</style>\n",
       "<table border=\"1\" class=\"dataframe\">\n",
       "  <thead>\n",
       "    <tr style=\"text-align: right;\">\n",
       "      <th></th>\n",
       "      <th>Unnamed: 0</th>\n",
       "      <th>Customer Id</th>\n",
       "      <th>YearOfObservation</th>\n",
       "      <th>Insured_Period</th>\n",
       "      <th>Residential</th>\n",
       "      <th>Building_Painted</th>\n",
       "      <th>Building_Fenced</th>\n",
       "      <th>Garden</th>\n",
       "      <th>Settlement</th>\n",
       "      <th>Building Dimension</th>\n",
       "      <th>Building_Type</th>\n",
       "      <th>Date_of_Occupancy</th>\n",
       "      <th>NumberOfWindows</th>\n",
       "      <th>Geo_Code</th>\n",
       "      <th>Claim</th>\n",
       "    </tr>\n",
       "  </thead>\n",
       "  <tbody>\n",
       "    <tr>\n",
       "      <th>0</th>\n",
       "      <td>0</td>\n",
       "      <td>H14663</td>\n",
       "      <td>2013</td>\n",
       "      <td>1.0</td>\n",
       "      <td>0</td>\n",
       "      <td>N</td>\n",
       "      <td>V</td>\n",
       "      <td>V</td>\n",
       "      <td>U</td>\n",
       "      <td>290.0</td>\n",
       "      <td>1</td>\n",
       "      <td>1960.0</td>\n",
       "      <td>.</td>\n",
       "      <td>1053</td>\n",
       "      <td>0.0</td>\n",
       "    </tr>\n",
       "    <tr>\n",
       "      <th>1</th>\n",
       "      <td>1</td>\n",
       "      <td>H2037</td>\n",
       "      <td>2015</td>\n",
       "      <td>1.0</td>\n",
       "      <td>0</td>\n",
       "      <td>V</td>\n",
       "      <td>N</td>\n",
       "      <td>O</td>\n",
       "      <td>R</td>\n",
       "      <td>490.0</td>\n",
       "      <td>1</td>\n",
       "      <td>1850.0</td>\n",
       "      <td>4</td>\n",
       "      <td>1053</td>\n",
       "      <td>0.0</td>\n",
       "    </tr>\n",
       "    <tr>\n",
       "      <th>2</th>\n",
       "      <td>2</td>\n",
       "      <td>H3802</td>\n",
       "      <td>2014</td>\n",
       "      <td>1.0</td>\n",
       "      <td>0</td>\n",
       "      <td>N</td>\n",
       "      <td>V</td>\n",
       "      <td>V</td>\n",
       "      <td>U</td>\n",
       "      <td>595.0</td>\n",
       "      <td>1</td>\n",
       "      <td>1960.0</td>\n",
       "      <td>.</td>\n",
       "      <td>1053</td>\n",
       "      <td>0.0</td>\n",
       "    </tr>\n",
       "    <tr>\n",
       "      <th>3</th>\n",
       "      <td>3</td>\n",
       "      <td>H3834</td>\n",
       "      <td>2013</td>\n",
       "      <td>1.0</td>\n",
       "      <td>0</td>\n",
       "      <td>V</td>\n",
       "      <td>V</td>\n",
       "      <td>V</td>\n",
       "      <td>U</td>\n",
       "      <td>2840.0</td>\n",
       "      <td>1</td>\n",
       "      <td>1960.0</td>\n",
       "      <td>.</td>\n",
       "      <td>1053</td>\n",
       "      <td>0.0</td>\n",
       "    </tr>\n",
       "    <tr>\n",
       "      <th>4</th>\n",
       "      <td>4</td>\n",
       "      <td>H5053</td>\n",
       "      <td>2014</td>\n",
       "      <td>1.0</td>\n",
       "      <td>0</td>\n",
       "      <td>V</td>\n",
       "      <td>N</td>\n",
       "      <td>O</td>\n",
       "      <td>R</td>\n",
       "      <td>680.0</td>\n",
       "      <td>1</td>\n",
       "      <td>1800.0</td>\n",
       "      <td>3</td>\n",
       "      <td>1053</td>\n",
       "      <td>0.0</td>\n",
       "    </tr>\n",
       "  </tbody>\n",
       "</table>\n",
       "</div>"
      ],
      "text/plain": [
       "   Unnamed: 0 Customer Id  YearOfObservation  Insured_Period  Residential  \\\n",
       "0           0      H14663               2013             1.0            0   \n",
       "1           1       H2037               2015             1.0            0   \n",
       "2           2       H3802               2014             1.0            0   \n",
       "3           3       H3834               2013             1.0            0   \n",
       "4           4       H5053               2014             1.0            0   \n",
       "\n",
       "  Building_Painted Building_Fenced Garden Settlement  Building Dimension  \\\n",
       "0                N               V      V          U               290.0   \n",
       "1                V               N      O          R               490.0   \n",
       "2                N               V      V          U               595.0   \n",
       "3                V               V      V          U              2840.0   \n",
       "4                V               N      O          R               680.0   \n",
       "\n",
       "   Building_Type  Date_of_Occupancy NumberOfWindows Geo_Code  Claim  \n",
       "0              1             1960.0               .     1053    0.0  \n",
       "1              1             1850.0               4     1053    0.0  \n",
       "2              1             1960.0               .     1053    0.0  \n",
       "3              1             1960.0               .     1053    0.0  \n",
       "4              1             1800.0               3     1053    0.0  "
      ]
     },
     "execution_count": 2,
     "metadata": {},
     "output_type": "execute_result"
    }
   ],
   "source": [
    "raw_data = pd.read_csv('Datasets/InsuranceData.csv')\n",
    "\n",
    "raw_data.head()"
   ]
  },
  {
   "cell_type": "code",
   "execution_count": 3,
   "id": "a6566abf",
   "metadata": {},
   "outputs": [],
   "source": [
    "data = raw_data.copy()\n",
    "\n",
    "# drop index and customer_id column\n",
    "data = data.drop(['Unnamed: 0','Customer Id'], axis=1)\n",
    "\n",
    "data.reset_index(drop=True, inplace=True)"
   ]
  },
  {
   "cell_type": "code",
   "execution_count": 4,
   "id": "a7d52aa7",
   "metadata": {},
   "outputs": [
    {
     "data": {
      "text/html": [
       "<div>\n",
       "<style scoped>\n",
       "    .dataframe tbody tr th:only-of-type {\n",
       "        vertical-align: middle;\n",
       "    }\n",
       "\n",
       "    .dataframe tbody tr th {\n",
       "        vertical-align: top;\n",
       "    }\n",
       "\n",
       "    .dataframe thead th {\n",
       "        text-align: right;\n",
       "    }\n",
       "</style>\n",
       "<table border=\"1\" class=\"dataframe\">\n",
       "  <thead>\n",
       "    <tr style=\"text-align: right;\">\n",
       "      <th></th>\n",
       "      <th>YearOfObservation</th>\n",
       "      <th>Insured_Period</th>\n",
       "      <th>Residential</th>\n",
       "      <th>Building_Painted</th>\n",
       "      <th>Building_Fenced</th>\n",
       "      <th>Garden</th>\n",
       "      <th>Settlement</th>\n",
       "      <th>Building Dimension</th>\n",
       "      <th>Building_Type</th>\n",
       "      <th>Date_of_Occupancy</th>\n",
       "      <th>NumberOfWindows</th>\n",
       "      <th>Geo_Code</th>\n",
       "      <th>Claim</th>\n",
       "    </tr>\n",
       "  </thead>\n",
       "  <tbody>\n",
       "    <tr>\n",
       "      <th>10224</th>\n",
       "      <td>2015</td>\n",
       "      <td>1.0</td>\n",
       "      <td>0</td>\n",
       "      <td>V</td>\n",
       "      <td>V</td>\n",
       "      <td>V</td>\n",
       "      <td>U</td>\n",
       "      <td>NaN</td>\n",
       "      <td>4</td>\n",
       "      <td>1900.0</td>\n",
       "      <td>.</td>\n",
       "      <td>NaN</td>\n",
       "      <td>NaN</td>\n",
       "    </tr>\n",
       "    <tr>\n",
       "      <th>10225</th>\n",
       "      <td>2012</td>\n",
       "      <td>1.0</td>\n",
       "      <td>0</td>\n",
       "      <td>V</td>\n",
       "      <td>V</td>\n",
       "      <td>V</td>\n",
       "      <td>U</td>\n",
       "      <td>NaN</td>\n",
       "      <td>2</td>\n",
       "      <td>1948.0</td>\n",
       "      <td>.</td>\n",
       "      <td>NaN</td>\n",
       "      <td>NaN</td>\n",
       "    </tr>\n",
       "    <tr>\n",
       "      <th>10226</th>\n",
       "      <td>2012</td>\n",
       "      <td>1.0</td>\n",
       "      <td>0</td>\n",
       "      <td>V</td>\n",
       "      <td>V</td>\n",
       "      <td>V</td>\n",
       "      <td>U</td>\n",
       "      <td>NaN</td>\n",
       "      <td>2</td>\n",
       "      <td>1993.0</td>\n",
       "      <td>.</td>\n",
       "      <td>NaN</td>\n",
       "      <td>NaN</td>\n",
       "    </tr>\n",
       "    <tr>\n",
       "      <th>10227</th>\n",
       "      <td>2013</td>\n",
       "      <td>1.0</td>\n",
       "      <td>0</td>\n",
       "      <td>V</td>\n",
       "      <td>V</td>\n",
       "      <td>V</td>\n",
       "      <td>U</td>\n",
       "      <td>NaN</td>\n",
       "      <td>1</td>\n",
       "      <td>1800.0</td>\n",
       "      <td>.</td>\n",
       "      <td>NaN</td>\n",
       "      <td>NaN</td>\n",
       "    </tr>\n",
       "    <tr>\n",
       "      <th>10228</th>\n",
       "      <td>2012</td>\n",
       "      <td>1.0</td>\n",
       "      <td>0</td>\n",
       "      <td>V</td>\n",
       "      <td>V</td>\n",
       "      <td>V</td>\n",
       "      <td>U</td>\n",
       "      <td>NaN</td>\n",
       "      <td>2</td>\n",
       "      <td>1950.0</td>\n",
       "      <td>.</td>\n",
       "      <td>NaN</td>\n",
       "      <td>NaN</td>\n",
       "    </tr>\n",
       "  </tbody>\n",
       "</table>\n",
       "</div>"
      ],
      "text/plain": [
       "       YearOfObservation  Insured_Period  Residential Building_Painted  \\\n",
       "10224               2015             1.0            0                V   \n",
       "10225               2012             1.0            0                V   \n",
       "10226               2012             1.0            0                V   \n",
       "10227               2013             1.0            0                V   \n",
       "10228               2012             1.0            0                V   \n",
       "\n",
       "      Building_Fenced Garden Settlement  Building Dimension  Building_Type  \\\n",
       "10224               V      V          U                 NaN              4   \n",
       "10225               V      V          U                 NaN              2   \n",
       "10226               V      V          U                 NaN              2   \n",
       "10227               V      V          U                 NaN              1   \n",
       "10228               V      V          U                 NaN              2   \n",
       "\n",
       "       Date_of_Occupancy NumberOfWindows Geo_Code  Claim  \n",
       "10224             1900.0               .      NaN    NaN  \n",
       "10225             1948.0               .      NaN    NaN  \n",
       "10226             1993.0               .      NaN    NaN  \n",
       "10227             1800.0               .      NaN    NaN  \n",
       "10228             1950.0               .      NaN    NaN  "
      ]
     },
     "execution_count": 4,
     "metadata": {},
     "output_type": "execute_result"
    }
   ],
   "source": [
    "data.tail()"
   ]
  },
  {
   "cell_type": "code",
   "execution_count": 5,
   "id": "381f01ff",
   "metadata": {
    "scrolled": true
   },
   "outputs": [
    {
     "data": {
      "text/html": [
       "<div>\n",
       "<style scoped>\n",
       "    .dataframe tbody tr th:only-of-type {\n",
       "        vertical-align: middle;\n",
       "    }\n",
       "\n",
       "    .dataframe tbody tr th {\n",
       "        vertical-align: top;\n",
       "    }\n",
       "\n",
       "    .dataframe thead th {\n",
       "        text-align: right;\n",
       "    }\n",
       "</style>\n",
       "<table border=\"1\" class=\"dataframe\">\n",
       "  <thead>\n",
       "    <tr style=\"text-align: right;\">\n",
       "      <th></th>\n",
       "      <th>YearOfObservation</th>\n",
       "      <th>Insured_Period</th>\n",
       "      <th>Residential</th>\n",
       "      <th>Building_Painted</th>\n",
       "      <th>Building_Fenced</th>\n",
       "      <th>Garden</th>\n",
       "      <th>Settlement</th>\n",
       "      <th>Building Dimension</th>\n",
       "      <th>Building_Type</th>\n",
       "      <th>Date_of_Occupancy</th>\n",
       "      <th>NumberOfWindows</th>\n",
       "      <th>Geo_Code</th>\n",
       "      <th>Claim</th>\n",
       "    </tr>\n",
       "  </thead>\n",
       "  <tbody>\n",
       "    <tr>\n",
       "      <th>count</th>\n",
       "      <td>10229.000000</td>\n",
       "      <td>10229.000000</td>\n",
       "      <td>10229.000000</td>\n",
       "      <td>10229</td>\n",
       "      <td>10229</td>\n",
       "      <td>10218</td>\n",
       "      <td>10229</td>\n",
       "      <td>10110.000000</td>\n",
       "      <td>10229.000000</td>\n",
       "      <td>8993.000000</td>\n",
       "      <td>10229</td>\n",
       "      <td>10114</td>\n",
       "      <td>7160.000000</td>\n",
       "    </tr>\n",
       "    <tr>\n",
       "      <th>unique</th>\n",
       "      <td>NaN</td>\n",
       "      <td>NaN</td>\n",
       "      <td>NaN</td>\n",
       "      <td>2</td>\n",
       "      <td>2</td>\n",
       "      <td>2</td>\n",
       "      <td>2</td>\n",
       "      <td>NaN</td>\n",
       "      <td>NaN</td>\n",
       "      <td>NaN</td>\n",
       "      <td>11</td>\n",
       "      <td>1525</td>\n",
       "      <td>NaN</td>\n",
       "    </tr>\n",
       "    <tr>\n",
       "      <th>top</th>\n",
       "      <td>NaN</td>\n",
       "      <td>NaN</td>\n",
       "      <td>NaN</td>\n",
       "      <td>V</td>\n",
       "      <td>V</td>\n",
       "      <td>V</td>\n",
       "      <td>U</td>\n",
       "      <td>NaN</td>\n",
       "      <td>NaN</td>\n",
       "      <td>NaN</td>\n",
       "      <td>.</td>\n",
       "      <td>6088</td>\n",
       "      <td>NaN</td>\n",
       "    </tr>\n",
       "    <tr>\n",
       "      <th>freq</th>\n",
       "      <td>NaN</td>\n",
       "      <td>NaN</td>\n",
       "      <td>NaN</td>\n",
       "      <td>7066</td>\n",
       "      <td>5792</td>\n",
       "      <td>5791</td>\n",
       "      <td>5790</td>\n",
       "      <td>NaN</td>\n",
       "      <td>NaN</td>\n",
       "      <td>NaN</td>\n",
       "      <td>5791</td>\n",
       "      <td>238</td>\n",
       "      <td>NaN</td>\n",
       "    </tr>\n",
       "    <tr>\n",
       "      <th>mean</th>\n",
       "      <td>2013.646789</td>\n",
       "      <td>0.913672</td>\n",
       "      <td>0.281064</td>\n",
       "      <td>NaN</td>\n",
       "      <td>NaN</td>\n",
       "      <td>NaN</td>\n",
       "      <td>NaN</td>\n",
       "      <td>1818.152918</td>\n",
       "      <td>2.238049</td>\n",
       "      <td>1965.061715</td>\n",
       "      <td>NaN</td>\n",
       "      <td>NaN</td>\n",
       "      <td>0.228212</td>\n",
       "    </tr>\n",
       "    <tr>\n",
       "      <th>std</th>\n",
       "      <td>1.380660</td>\n",
       "      <td>0.233806</td>\n",
       "      <td>0.449540</td>\n",
       "      <td>NaN</td>\n",
       "      <td>NaN</td>\n",
       "      <td>NaN</td>\n",
       "      <td>NaN</td>\n",
       "      <td>2272.111284</td>\n",
       "      <td>0.961589</td>\n",
       "      <td>33.548619</td>\n",
       "      <td>NaN</td>\n",
       "      <td>NaN</td>\n",
       "      <td>0.419709</td>\n",
       "    </tr>\n",
       "    <tr>\n",
       "      <th>min</th>\n",
       "      <td>2012.000000</td>\n",
       "      <td>0.000000</td>\n",
       "      <td>0.000000</td>\n",
       "      <td>NaN</td>\n",
       "      <td>NaN</td>\n",
       "      <td>NaN</td>\n",
       "      <td>NaN</td>\n",
       "      <td>1.000000</td>\n",
       "      <td>1.000000</td>\n",
       "      <td>1545.000000</td>\n",
       "      <td>NaN</td>\n",
       "      <td>NaN</td>\n",
       "      <td>0.000000</td>\n",
       "    </tr>\n",
       "    <tr>\n",
       "      <th>25%</th>\n",
       "      <td>2012.000000</td>\n",
       "      <td>1.000000</td>\n",
       "      <td>0.000000</td>\n",
       "      <td>NaN</td>\n",
       "      <td>NaN</td>\n",
       "      <td>NaN</td>\n",
       "      <td>NaN</td>\n",
       "      <td>500.000000</td>\n",
       "      <td>2.000000</td>\n",
       "      <td>1960.000000</td>\n",
       "      <td>NaN</td>\n",
       "      <td>NaN</td>\n",
       "      <td>0.000000</td>\n",
       "    </tr>\n",
       "    <tr>\n",
       "      <th>50%</th>\n",
       "      <td>2013.000000</td>\n",
       "      <td>1.000000</td>\n",
       "      <td>0.000000</td>\n",
       "      <td>NaN</td>\n",
       "      <td>NaN</td>\n",
       "      <td>NaN</td>\n",
       "      <td>NaN</td>\n",
       "      <td>1002.000000</td>\n",
       "      <td>2.000000</td>\n",
       "      <td>1970.000000</td>\n",
       "      <td>NaN</td>\n",
       "      <td>NaN</td>\n",
       "      <td>0.000000</td>\n",
       "    </tr>\n",
       "    <tr>\n",
       "      <th>75%</th>\n",
       "      <td>2015.000000</td>\n",
       "      <td>1.000000</td>\n",
       "      <td>1.000000</td>\n",
       "      <td>NaN</td>\n",
       "      <td>NaN</td>\n",
       "      <td>NaN</td>\n",
       "      <td>NaN</td>\n",
       "      <td>2190.000000</td>\n",
       "      <td>3.000000</td>\n",
       "      <td>1980.000000</td>\n",
       "      <td>NaN</td>\n",
       "      <td>NaN</td>\n",
       "      <td>0.000000</td>\n",
       "    </tr>\n",
       "    <tr>\n",
       "      <th>max</th>\n",
       "      <td>2016.000000</td>\n",
       "      <td>1.000000</td>\n",
       "      <td>1.000000</td>\n",
       "      <td>NaN</td>\n",
       "      <td>NaN</td>\n",
       "      <td>NaN</td>\n",
       "      <td>NaN</td>\n",
       "      <td>30745.000000</td>\n",
       "      <td>4.000000</td>\n",
       "      <td>2016.000000</td>\n",
       "      <td>NaN</td>\n",
       "      <td>NaN</td>\n",
       "      <td>1.000000</td>\n",
       "    </tr>\n",
       "  </tbody>\n",
       "</table>\n",
       "</div>"
      ],
      "text/plain": [
       "        YearOfObservation  Insured_Period   Residential Building_Painted  \\\n",
       "count        10229.000000    10229.000000  10229.000000            10229   \n",
       "unique                NaN             NaN           NaN                2   \n",
       "top                   NaN             NaN           NaN                V   \n",
       "freq                  NaN             NaN           NaN             7066   \n",
       "mean          2013.646789        0.913672      0.281064              NaN   \n",
       "std              1.380660        0.233806      0.449540              NaN   \n",
       "min           2012.000000        0.000000      0.000000              NaN   \n",
       "25%           2012.000000        1.000000      0.000000              NaN   \n",
       "50%           2013.000000        1.000000      0.000000              NaN   \n",
       "75%           2015.000000        1.000000      1.000000              NaN   \n",
       "max           2016.000000        1.000000      1.000000              NaN   \n",
       "\n",
       "       Building_Fenced Garden Settlement  Building Dimension  Building_Type  \\\n",
       "count            10229  10218      10229        10110.000000   10229.000000   \n",
       "unique               2      2          2                 NaN            NaN   \n",
       "top                  V      V          U                 NaN            NaN   \n",
       "freq              5792   5791       5790                 NaN            NaN   \n",
       "mean               NaN    NaN        NaN         1818.152918       2.238049   \n",
       "std                NaN    NaN        NaN         2272.111284       0.961589   \n",
       "min                NaN    NaN        NaN            1.000000       1.000000   \n",
       "25%                NaN    NaN        NaN          500.000000       2.000000   \n",
       "50%                NaN    NaN        NaN         1002.000000       2.000000   \n",
       "75%                NaN    NaN        NaN         2190.000000       3.000000   \n",
       "max                NaN    NaN        NaN        30745.000000       4.000000   \n",
       "\n",
       "        Date_of_Occupancy NumberOfWindows Geo_Code        Claim  \n",
       "count         8993.000000           10229    10114  7160.000000  \n",
       "unique                NaN              11     1525          NaN  \n",
       "top                   NaN               .     6088          NaN  \n",
       "freq                  NaN            5791      238          NaN  \n",
       "mean          1965.061715             NaN      NaN     0.228212  \n",
       "std             33.548619             NaN      NaN     0.419709  \n",
       "min           1545.000000             NaN      NaN     0.000000  \n",
       "25%           1960.000000             NaN      NaN     0.000000  \n",
       "50%           1970.000000             NaN      NaN     0.000000  \n",
       "75%           1980.000000             NaN      NaN     0.000000  \n",
       "max           2016.000000             NaN      NaN     1.000000  "
      ]
     },
     "execution_count": 5,
     "metadata": {},
     "output_type": "execute_result"
    }
   ],
   "source": [
    "#check the descriptives \n",
    "data.describe(include='all')"
   ]
  },
  {
   "cell_type": "code",
   "execution_count": 6,
   "id": "d4b70e78",
   "metadata": {},
   "outputs": [
    {
     "name": "stdout",
     "output_type": "stream",
     "text": [
      "<class 'pandas.core.frame.DataFrame'>\n",
      "RangeIndex: 10229 entries, 0 to 10228\n",
      "Data columns (total 13 columns):\n",
      " #   Column              Non-Null Count  Dtype  \n",
      "---  ------              --------------  -----  \n",
      " 0   YearOfObservation   10229 non-null  int64  \n",
      " 1   Insured_Period      10229 non-null  float64\n",
      " 2   Residential         10229 non-null  int64  \n",
      " 3   Building_Painted    10229 non-null  object \n",
      " 4   Building_Fenced     10229 non-null  object \n",
      " 5   Garden              10218 non-null  object \n",
      " 6   Settlement          10229 non-null  object \n",
      " 7   Building Dimension  10110 non-null  float64\n",
      " 8   Building_Type       10229 non-null  int64  \n",
      " 9   Date_of_Occupancy   8993 non-null   float64\n",
      " 10  NumberOfWindows     10229 non-null  object \n",
      " 11  Geo_Code            10114 non-null  object \n",
      " 12  Claim               7160 non-null   float64\n",
      "dtypes: float64(4), int64(3), object(6)\n",
      "memory usage: 1.0+ MB\n"
     ]
    }
   ],
   "source": [
    "data.info()"
   ]
  },
  {
   "cell_type": "code",
   "execution_count": 7,
   "id": "480616e1",
   "metadata": {},
   "outputs": [
    {
     "data": {
      "text/plain": [
       "YearOfObservation        0\n",
       "Insured_Period           0\n",
       "Residential              0\n",
       "Building_Painted         0\n",
       "Building_Fenced          0\n",
       "Garden                  11\n",
       "Settlement               0\n",
       "Building Dimension     119\n",
       "Building_Type            0\n",
       "Date_of_Occupancy     1236\n",
       "NumberOfWindows          0\n",
       "Geo_Code               115\n",
       "Claim                 3069\n",
       "dtype: int64"
      ]
     },
     "execution_count": 7,
     "metadata": {},
     "output_type": "execute_result"
    }
   ],
   "source": [
    "#check for missing values \n",
    "data.isna().sum()"
   ]
  },
  {
   "cell_type": "code",
   "execution_count": 8,
   "id": "8d41edad",
   "metadata": {},
   "outputs": [
    {
     "name": "stdout",
     "output_type": "stream",
     "text": [
      "Data Shape : \t (10229, 13) \n",
      "\n",
      "% Of NAN Values :\n",
      " \n",
      "YearOfObservation      0.000000\n",
      "Insured_Period         0.000000\n",
      "Residential            0.000000\n",
      "Building_Painted       0.000000\n",
      "Building_Fenced        0.000000\n",
      "Garden                 0.107537\n",
      "Settlement             0.000000\n",
      "Building Dimension     1.163359\n",
      "Building_Type          0.000000\n",
      "Date_of_Occupancy     12.083293\n",
      "NumberOfWindows        0.000000\n",
      "Geo_Code               1.124255\n",
      "Claim                 30.002933\n",
      "dtype: float64\n",
      "\n",
      "Sum Of Duplicate Values :\t 34\n"
     ]
    }
   ],
   "source": [
    "## Data Statistics \n",
    "print(f'Data Shape : \\t {data.shape} \\n')\n",
    "print(f'% Of NAN Values :\\n \\n{data.isna().sum()/len(data)*100}\\n')\n",
    "print(f'Sum Of Duplicate Values :\\t {data.duplicated().sum()}')"
   ]
  },
  {
   "cell_type": "markdown",
   "id": "b3384e69",
   "metadata": {},
   "source": [
    "Note: Dealing with Missing values \n",
    "1. remove duplicates \n",
    "3. Replace the null values with mean for categorical and with mean for numerical data\n"
   ]
  },
  {
   "cell_type": "code",
   "execution_count": 9,
   "id": "82630756",
   "metadata": {},
   "outputs": [],
   "source": [
    "# removing duplicates rows \n",
    "data.drop_duplicates(inplace = True)"
   ]
  },
  {
   "cell_type": "code",
   "execution_count": 19,
   "id": "d52327c6",
   "metadata": {},
   "outputs": [
    {
     "data": {
      "text/plain": [
       "0    V\n",
       "Name: Garden, dtype: object"
      ]
     },
     "execution_count": 19,
     "metadata": {},
     "output_type": "execute_result"
    }
   ],
   "source": [
    "# check for the mode of the columns 'Garden'\n",
    "data['Garden'].mode()"
   ]
  },
  {
   "cell_type": "code",
   "execution_count": 20,
   "id": "ed70eeeb",
   "metadata": {},
   "outputs": [
    {
     "data": {
      "text/plain": [
       "1819.6649141950145"
      ]
     },
     "execution_count": 20,
     "metadata": {},
     "output_type": "execute_result"
    }
   ],
   "source": [
    "# check for the mode of the columns 'Building Dimension'\n",
    "data['Building Dimension'].mean()"
   ]
  },
  {
   "cell_type": "code",
   "execution_count": 21,
   "id": "00d72657",
   "metadata": {},
   "outputs": [
    {
     "data": {
      "text/plain": [
       "0    1960.0\n",
       "Name: Date_of_Occupancy, dtype: float64"
      ]
     },
     "execution_count": 21,
     "metadata": {},
     "output_type": "execute_result"
    }
   ],
   "source": [
    "# check for the mode of the columns 'Date_of_Occupancy'\n",
    "data['Date_of_Occupancy'].mode()"
   ]
  },
  {
   "cell_type": "code",
   "execution_count": 23,
   "id": "7d08ac09",
   "metadata": {},
   "outputs": [
    {
     "data": {
      "text/plain": [
       "0    6088\n",
       "Name: Geo_Code, dtype: object"
      ]
     },
     "execution_count": 23,
     "metadata": {},
     "output_type": "execute_result"
    }
   ],
   "source": [
    "# check for the mode of the columns 'Geo_Code'\n",
    "data[\"Geo_Code\"].mode()"
   ]
  },
  {
   "cell_type": "code",
   "execution_count": 22,
   "id": "3eec8059",
   "metadata": {},
   "outputs": [
    {
     "data": {
      "text/plain": [
       "0    0.0\n",
       "Name: Claim, dtype: float64"
      ]
     },
     "execution_count": 22,
     "metadata": {},
     "output_type": "execute_result"
    }
   ],
   "source": [
    "# check for the mode of the columns 'Claim'\n",
    "data['Claim'].mode()"
   ]
  },
  {
   "cell_type": "code",
   "execution_count": 28,
   "id": "03f4d9c3",
   "metadata": {},
   "outputs": [],
   "source": [
    "values = {\"Garden\":'V',\n",
    "          \"Building Dimension\":1819.6649141950145,\n",
    "          \"Date_of_Occupancy\":1960.0,\n",
    "          \"Geo_Code\":6088,\n",
    "          \"Claim\":0.0}"
   ]
  },
  {
   "cell_type": "code",
   "execution_count": 29,
   "id": "6907deae",
   "metadata": {},
   "outputs": [],
   "source": [
    "# Replace all NaN value;'Garden','Date_of_Occupancy','Geo_code','Claim' with the mode\n",
    "# and 'Building Dimension' with the mean \n",
    "\n",
    "data.fillna(value=values, inplace=True)"
   ]
  },
  {
   "cell_type": "markdown",
   "id": "19b66192",
   "metadata": {},
   "source": [
    "Check for inconsistency in the data "
   ]
  },
  {
   "cell_type": "code",
   "execution_count": 31,
   "id": "772bec90",
   "metadata": {},
   "outputs": [
    {
     "name": "stdout",
     "output_type": "stream",
     "text": [
      "<class 'pandas.core.frame.DataFrame'>\n",
      "Int64Index: 10195 entries, 0 to 10227\n",
      "Data columns (total 13 columns):\n",
      " #   Column              Non-Null Count  Dtype  \n",
      "---  ------              --------------  -----  \n",
      " 0   YearOfObservation   10195 non-null  int64  \n",
      " 1   Insured_Period      10195 non-null  float64\n",
      " 2   Residential         10195 non-null  int64  \n",
      " 3   Building_Painted    10195 non-null  object \n",
      " 4   Building_Fenced     10195 non-null  object \n",
      " 5   Garden              10195 non-null  object \n",
      " 6   Settlement          10195 non-null  object \n",
      " 7   Building Dimension  10195 non-null  float64\n",
      " 8   Building_Type       10195 non-null  int64  \n",
      " 9   Date_of_Occupancy   10195 non-null  float64\n",
      " 10  NumberOfWindows     10195 non-null  object \n",
      " 11  Geo_Code            10195 non-null  object \n",
      " 12  Claim               10195 non-null  float64\n",
      "dtypes: float64(4), int64(3), object(6)\n",
      "memory usage: 1.1+ MB\n"
     ]
    }
   ],
   "source": [
    "data.info()"
   ]
  },
  {
   "cell_type": "code",
   "execution_count": 32,
   "id": "5c88bdf0",
   "metadata": {},
   "outputs": [
    {
     "data": {
      "text/plain": [
       "array([2013, 2015, 2014, 2012, 2016], dtype=int64)"
      ]
     },
     "execution_count": 32,
     "metadata": {},
     "output_type": "execute_result"
    }
   ],
   "source": [
    "data['YearOfObservation'].unique()"
   ]
  },
  {
   "cell_type": "code",
   "execution_count": 33,
   "id": "dc04acb5",
   "metadata": {},
   "outputs": [
    {
     "data": {
      "text/plain": [
       "array([1.        , 0.24109589, 0.84383562, 0.95628415, 0.99726776,\n",
       "       0.08493151, 0.85753425, 0.29589041, 0.        , 0.78142077,\n",
       "       0.91506849, 0.98630137, 0.16164384, 0.99726027, 0.09589041,\n",
       "       0.66575343, 0.89315069, 0.02459016, 0.58082192, 0.83287671,\n",
       "       0.26027397, 0.7479452 , 0.41803279, 0.10410959, 0.76986301,\n",
       "       0.02465753, 0.47671233, 0.86575342, 0.55464481, 0.16393443,\n",
       "       0.44808743, 0.50273224, 0.75136612, 0.08196721, 0.46849315,\n",
       "       0.79726027, 0.31506849, 0.59452055, 0.74863388, 0.17534247,\n",
       "       0.11780822, 0.12054795, 0.49589041, 0.91530055, 0.48087432,\n",
       "       0.78082192, 0.02191781, 0.49453552, 0.2431694 , 0.24863388,\n",
       "       0.69589041, 0.94794521, 0.91256831, 0.50410959, 0.82739726,\n",
       "       0.52054795, 0.33333333, 0.58196721, 0.86885246, 0.57923497,\n",
       "       0.83606557, 0.66393443, 0.98356164, 0.24657534, 0.99453552,\n",
       "       0.74590164, 0.79178082, 0.19452055, 0.96721311, 0.41643836,\n",
       "       0.95342466, 0.41369863, 0.25205479, 0.80273973, 0.98907104,\n",
       "       0.38356164, 0.91780822, 0.25136612, 0.70491803, 0.15068493,\n",
       "       0.48493151, 0.96448087, 0.62191781, 0.12021858, 0.63114754,\n",
       "       0.21369863, 0.92328767, 0.82786885, 0.3369863 , 0.32876712,\n",
       "       0.84931507, 0.81967213, 0.42076503, 0.84657534, 0.41530055,\n",
       "       0.64657534, 0.96712329, 0.27123288, 0.89863014, 0.33972603,\n",
       "       0.66849315, 0.50958904, 0.78356164, 0.08767123, 0.03835616,\n",
       "       0.75409836, 0.29315069, 0.57103825, 0.25956284, 0.75342466,\n",
       "       0.65753425, 0.44383562, 0.67123288, 0.72876712, 0.16666667,\n",
       "       0.79452055, 0.43169399, 0.35890411, 0.4109589 , 0.18356164,\n",
       "       0.03005465, 0.21917808, 0.77808219, 0.32328767, 0.39344262,\n",
       "       0.47540984, 0.46575342, 0.22465753, 0.73150685, 0.19125683,\n",
       "       0.46721312, 0.49315068, 0.24590164, 0.97808219, 0.91232877,\n",
       "       0.90163934, 0.54644809, 0.09315068, 0.5369863 , 0.01639344,\n",
       "       0.36712329, 0.45753425, 0.95890411, 0.25479452, 0.83835616,\n",
       "       0.08219178, 0.61202186, 0.23770492, 0.80327869, 0.14754098,\n",
       "       0.03825137, 0.16712329, 0.12876712, 0.87123288, 0.74520548,\n",
       "       0.33060109, 0.0739726 , 0.07671233, 0.08469945, 0.15890411,\n",
       "       0.14246575, 0.23561644, 0.72054794, 0.12328767, 0.53972603,\n",
       "       0.13150685, 0.89041096, 0.29781421, 0.21311475, 0.83333333,\n",
       "       0.61369863, 0.9726776 , 0.77868852, 0.35245902, 0.58469945,\n",
       "       0.93715847, 0.71311475, 0.95616438, 0.48219178, 0.3479452 ,\n",
       "       0.18630137, 0.2109589 , 0.45081967, 0.95355191, 0.82240437,\n",
       "       0.6420765 , 0.63387978, 0.96438356, 0.86849315, 0.56284153,\n",
       "       0.37704918, 0.57377049, 0.10684932, 0.23013699, 0.63013699,\n",
       "       0.88219178, 0.21643836, 0.81643836, 0.10958904, 0.1890411 ,\n",
       "       0.8739726 , 0.26849315, 0.75068493, 0.84109589, 0.68032787,\n",
       "       0.82191781, 0.86027397, 0.59726027, 0.56712329, 0.43561644,\n",
       "       0.54098361, 0.33424657, 0.63287671, 0.30874317, 0.43715847,\n",
       "       0.57808219, 0.92076503, 0.93150685, 0.32054795, 0.81369863,\n",
       "       0.87431694, 0.7369863 , 0.715847  , 0.45355191, 0.16438356,\n",
       "       0.77534247, 0.8       , 0.83060109, 0.03278689, 0.60547945,\n",
       "       0.49726776, 0.06027397, 0.42896175, 0.9260274 , 0.58630137,\n",
       "       0.19726027, 0.06010929, 0.60655738, 0.19398907, 0.43835616,\n",
       "       0.45901639, 0.27671233, 0.81917808, 0.66666667, 0.45479452,\n",
       "       0.22191781, 0.85479452, 0.95068493, 0.90710382, 0.8442623 ,\n",
       "       0.88767123, 0.94246575, 0.94520548, 0.60928962, 0.97260274,\n",
       "       0.53551913, 0.09863014, 0.44535519, 0.64109589, 0.9369863 ,\n",
       "       0.67486339, 0.17260274, 0.07103825, 0.90684931, 0.48767123,\n",
       "       0.19672131, 0.70958904, 0.51780822, 0.30136986, 0.06557377,\n",
       "       0.89344262, 0.88493151, 0.47123288, 0.47945205, 0.93424657,\n",
       "       0.22739726, 0.90136986, 0.20547945, 0.99452055, 0.34426229,\n",
       "       0.29508197, 0.2       , 0.6630137 , 0.82465753, 0.52328767,\n",
       "       0.0520548 , 0.75616438, 0.7890411 , 0.15300546, 0.55616438,\n",
       "       0.10928962, 0.51092896, 0.76712329, 0.5273224 , 0.36164384,\n",
       "       0.96174863, 0.84699454, 0.30054645, 0.28493151, 0.83879781,\n",
       "       0.53424657, 0.89071038, 0.00273224, 0.80547945, 0.97534247,\n",
       "       0.54520548, 0.87978142, 0.04918033, 0.04644809, 0.79781421,\n",
       "       0.2630137 , 0.56010929, 0.88251366, 0.20821918, 0.04109589,\n",
       "       0.38082192, 0.18082192, 0.88797814, 0.90958904, 0.24931507,\n",
       "       0.78961749, 0.31147541, 0.96164384, 0.73424658, 0.12295082,\n",
       "       0.14480874, 0.95081967, 0.29041096, 0.65205479, 0.1369863 ,\n",
       "       0.30327869, 0.1147541 , 0.15846995, 0.79508197, 0.6       ,\n",
       "       0.90983607, 0.46448087, 0.83013699, 0.56438356, 0.34520548,\n",
       "       0.4520548 , 0.33150685, 0.54371585, 0.01092896, 0.34153005,\n",
       "       0.17759563, 0.69315068, 0.04383562, 0.5       , 0.54918033,\n",
       "       0.44931507, 0.20218579, 0.07945205, 0.71038251, 0.37808219,\n",
       "       0.68852459, 0.52185792, 0.5260274 , 0.69863014, 0.6739726 ,\n",
       "       0.05191257, 0.5479452 , 0.60382514, 0.79234973, 0.7431694 ,\n",
       "       0.16986301, 0.9890411 , 0.70218579, 0.80821918, 0.46994536,\n",
       "       0.05753425, 0.75956284, 0.60821918, 0.68219178, 0.07923497,\n",
       "       0.33879781, 0.18032787, 0.06830601, 0.37260274, 0.94262295,\n",
       "       0.17213115, 0.92896175, 0.85519126, 0.32786885, 0.99178082,\n",
       "       0.81147541, 0.05479452, 0.78630137, 0.8109589 , 0.43442623,\n",
       "       0.67759563, 0.40273973, 0.96986301, 0.15342466, 0.58356164,\n",
       "       0.04657534, 0.66027397, 0.03561644, 0.73972603, 0.94535519,\n",
       "       0.03013699, 0.36986301, 0.4       , 0.35616438, 0.01643836,\n",
       "       0.7704918 , 0.1260274 , 0.61917808, 0.57534247, 0.37534247,\n",
       "       0.06284153, 0.68493151, 0.54246575, 0.32513661, 0.09016393,\n",
       "       0.4726776 , 0.03551913, 0.36438356, 0.70410959, 0.68306011,\n",
       "       0.71780822, 0.6109589 , 0.10136986, 0.62465753, 0.55890411,\n",
       "       0.35068493, 0.03287671, 0.12568306, 0.65300546, 0.77260274,\n",
       "       0.98360656, 0.31967213, 0.49180328, 0.02739726, 0.20273973,\n",
       "       0.39178082, 0.90410959, 0.93972603, 0.67671233, 0.69041096,\n",
       "       0.28142077, 0.3260274 , 0.68767123, 0.42191781, 0.87671233,\n",
       "       0.59178082, 0.51232877, 0.36612022, 0.24383562, 0.64383562,\n",
       "       0.22131148, 0.04931507, 0.09041096, 0.44657534, 0.50546448,\n",
       "       0.35342466, 0.06849315, 0.28219178, 0.86612022, 0.0109589 ,\n",
       "       0.70765027, 0.45628415, 0.17486339, 0.30410959, 0.13661202,\n",
       "       0.40547945, 0.86338798])"
      ]
     },
     "execution_count": 33,
     "metadata": {},
     "output_type": "execute_result"
    }
   ],
   "source": [
    "data['Insured_Period'].unique()"
   ]
  },
  {
   "cell_type": "code",
   "execution_count": 34,
   "id": "5a4ee809",
   "metadata": {},
   "outputs": [
    {
     "data": {
      "text/plain": [
       "array([0, 1], dtype=int64)"
      ]
     },
     "execution_count": 34,
     "metadata": {},
     "output_type": "execute_result"
    }
   ],
   "source": [
    "data['Residential'].unique()"
   ]
  },
  {
   "cell_type": "code",
   "execution_count": 35,
   "id": "32a7fc24",
   "metadata": {},
   "outputs": [
    {
     "data": {
      "text/plain": [
       "array(['N', 'V'], dtype=object)"
      ]
     },
     "execution_count": 35,
     "metadata": {},
     "output_type": "execute_result"
    }
   ],
   "source": [
    "data['Building_Painted'].unique()"
   ]
  },
  {
   "cell_type": "code",
   "execution_count": 36,
   "id": "646d111b",
   "metadata": {},
   "outputs": [
    {
     "data": {
      "text/plain": [
       "array(['V', 'N'], dtype=object)"
      ]
     },
     "execution_count": 36,
     "metadata": {},
     "output_type": "execute_result"
    }
   ],
   "source": [
    "data['Building_Fenced'].unique()"
   ]
  },
  {
   "cell_type": "code",
   "execution_count": 37,
   "id": "cc0910e0",
   "metadata": {},
   "outputs": [
    {
     "data": {
      "text/plain": [
       "array(['V', 'O'], dtype=object)"
      ]
     },
     "execution_count": 37,
     "metadata": {},
     "output_type": "execute_result"
    }
   ],
   "source": [
    "data['Garden'].unique()"
   ]
  },
  {
   "cell_type": "code",
   "execution_count": 38,
   "id": "7b44cf86",
   "metadata": {},
   "outputs": [
    {
     "data": {
      "text/plain": [
       "array(['U', 'R'], dtype=object)"
      ]
     },
     "execution_count": 38,
     "metadata": {},
     "output_type": "execute_result"
    }
   ],
   "source": [
    "data['Settlement'].unique()"
   ]
  },
  {
   "cell_type": "code",
   "execution_count": 39,
   "id": "ad524275",
   "metadata": {},
   "outputs": [
    {
     "data": {
      "text/plain": [
       "array([ 290.,  490.,  595., ..., 3530., 1888., 2575.])"
      ]
     },
     "execution_count": 39,
     "metadata": {},
     "output_type": "execute_result"
    }
   ],
   "source": [
    "data['Building Dimension'].unique()"
   ]
  },
  {
   "cell_type": "code",
   "execution_count": 40,
   "id": "2f73cbd4",
   "metadata": {},
   "outputs": [
    {
     "data": {
      "text/plain": [
       "array([1, 2, 4, 3], dtype=int64)"
      ]
     },
     "execution_count": 40,
     "metadata": {},
     "output_type": "execute_result"
    }
   ],
   "source": [
    "data['Building_Type'].unique()"
   ]
  },
  {
   "cell_type": "code",
   "execution_count": 41,
   "id": "6227aeaa",
   "metadata": {},
   "outputs": [
    {
     "data": {
      "text/plain": [
       "array([1960., 1850., 1800., 1980., 1988., 2013., 2011., 1550., 1900.,\n",
       "       2007., 1970., 1950., 1700., 1976., 1940., 1920., 1982., 1972.,\n",
       "       2010., 1971., 1995., 2006., 1999., 1969., 1985., 1965., 1981.,\n",
       "       1975., 1997., 2003., 1990., 1930., 1973., 1991., 1974., 1978.,\n",
       "       1967., 1927., 1952., 1957., 2009., 1977., 1890., 1949., 1951.,\n",
       "       2008., 1987., 2000., 1962., 1956., 1993., 1912., 1983., 1954.,\n",
       "       1968., 2004., 1936., 1958., 1966., 1953., 1979., 1946., 1955.,\n",
       "       2001., 1870., 1961., 2015., 1613., 1964., 1984., 2014., 2002.,\n",
       "       1986., 1992., 2005., 2012., 1910., 1945., 1864., 1942., 1939.,\n",
       "       1934., 1998., 1908., 1948., 1860., 1926., 1938., 1895., 1545.,\n",
       "       1959., 1989., 1996., 1963., 1840., 2016., 1718., 1600., 1875.,\n",
       "       1898., 1880., 1915., 1994., 1810., 1937., 1907., 1931., 1925.,\n",
       "       1935., 1824., 1914., 1750., 1846., 1903., 1905., 1906., 1830.,\n",
       "       1923., 1924., 1928., 1947., 1911., 1901., 1902., 1904., 1919.,\n",
       "       1896., 1913., 1893., 1820., 1884., 1871., 1780., 1929., 1922.,\n",
       "       1856., 1803., 1854., 1932.])"
      ]
     },
     "execution_count": 41,
     "metadata": {},
     "output_type": "execute_result"
    }
   ],
   "source": [
    "data['Date_of_Occupancy'].unique()"
   ]
  },
  {
   "cell_type": "code",
   "execution_count": 42,
   "id": "8801a466",
   "metadata": {},
   "outputs": [
    {
     "data": {
      "text/plain": [
       "array(['   .', '4', '3', '2', '5', '>=10', '6', '7', '9', '8', '1'],\n",
       "      dtype=object)"
      ]
     },
     "execution_count": 42,
     "metadata": {},
     "output_type": "execute_result"
    }
   ],
   "source": [
    "data['NumberOfWindows'].unique()"
   ]
  },
  {
   "cell_type": "code",
   "execution_count": 43,
   "id": "c5573c70",
   "metadata": {},
   "outputs": [
    {
     "data": {
      "text/plain": [
       "array(['1053', '1143', '1160', ..., '2B037', '2B298', '2B309'],\n",
       "      dtype=object)"
      ]
     },
     "execution_count": 43,
     "metadata": {},
     "output_type": "execute_result"
    }
   ],
   "source": [
    "data['Geo_Code'].unique()"
   ]
  },
  {
   "cell_type": "code",
   "execution_count": 44,
   "id": "61e91ec8",
   "metadata": {},
   "outputs": [
    {
     "data": {
      "text/plain": [
       "array([0., 1.])"
      ]
     },
     "execution_count": 44,
     "metadata": {},
     "output_type": "execute_result"
    }
   ],
   "source": [
    "data['Claim'].unique()"
   ]
  },
  {
   "cell_type": "markdown",
   "id": "b991d5d8",
   "metadata": {},
   "source": [
    "Dealing with inconsistencies"
   ]
  },
  {
   "cell_type": "code",
   "execution_count": 45,
   "id": "f4d4696d",
   "metadata": {},
   "outputs": [
    {
     "data": {
      "text/plain": [
       "array(['6 Months - 1 Year', '0 - 5 Months'], dtype=object)"
      ]
     },
     "execution_count": 45,
     "metadata": {},
     "output_type": "execute_result"
    }
   ],
   "source": [
    "# Type Conversion\n",
    "data['Insured_Period'] = pd.to_numeric(data['Insured_Period'])\n",
    "\n",
    "# Filtering\n",
    "dfLess50Percent = data[data['Insured_Period'] <= 0.50]\n",
    "dfOver50Percent = data[data['Insured_Period'] > 0.50]\n",
    "\n",
    "# Values Replacement\n",
    "data['Insured_Period'].replace(dfLess50Percent['Insured_Period'].values, \"0 - 5 Months\", inplace=True)\n",
    "data['Insured_Period'].replace(dfOver50Percent['Insured_Period'].values, \"6 Months - 1 Year\", inplace=True)\n",
    "\n",
    "# Unique Values\n",
    "data['Insured_Period'].unique()"
   ]
  },
  {
   "cell_type": "code",
   "execution_count": 58,
   "id": "6511797b",
   "metadata": {},
   "outputs": [],
   "source": [
    "# Replace incosistent '  .' with 4 the second mode and '>=10' with 10 since 10 is the highest value recorded \n",
    "data['NumberOfWindows'].replace({'   .':4, '>=10':10}, inplace=True)\n",
    "\n",
    "# change to dtype to int64\n",
    "data['NumberOfWindows'] = data['NumberOfWindows'].astype('int64')\n",
    "#data['NumberOfWindows'].str.isdigit().sum()\n",
    "#df = data[data['NumberOfWindows'].str.isdigit()]"
   ]
  },
  {
   "cell_type": "code",
   "execution_count": 62,
   "id": "2400988f",
   "metadata": {},
   "outputs": [],
   "source": [
    "#change dtype to 'int64'\n",
    "\n",
    "data['Date_of_Occupancy'] = data['Date_of_Occupancy'].astype('int64')\n",
    "data['Claim'] = data['Claim'].astype('int64')\n",
    "data['Building Dimension'] = data['Building Dimension'].astype('int64')\n",
    "data['']"
   ]
  },
  {
   "cell_type": "code",
   "execution_count": 64,
   "id": "05262327",
   "metadata": {},
   "outputs": [],
   "source": [
    "# Replace (N-Painted, V-Not Painted)\n",
    "data['Building_Painted'].replace('N', 'Painted', inplace=True)\n",
    "data['Building_Painted'].replace('V', 'Not Painted', inplace=True)\n",
    "# Replace (V-has garden; O-no garden)\n",
    "data['Garden'].replace({'V':'Has Garden','O':'No Garden'}, inplace=True)\n",
    "# Replace (N-Fenced, V-Not Fenced)\n",
    "data['Building_Fenced'].replace({'N':'Fenced','V':'Not Fenced'},inplace=True)\n",
    "# Replace (R- rural area; U- urban area)\n",
    "data['Settlement'].replace({'R': 'Rural area','U': 'Urban area'},inplace=True)"
   ]
  },
  {
   "cell_type": "code",
   "execution_count": 68,
   "id": "862c43af",
   "metadata": {},
   "outputs": [],
   "source": [
    "#  Rename columns\n",
    "data.rename({'Insured_Period':'Insurance Period', \n",
    "           'Building_Type':'Building Type', \n",
    "           'Building_Painted': 'Building Painted',\n",
    "           'Building_Fenced' : 'Building Fenced',\n",
    "           'NumberOfWindows' : 'Number of Windows',\n",
    "           'Geo_Code': 'Geo Code',\n",
    "           'Date_of_Occupancy':'Date Of Occupancy',\n",
    "           'YearOfObservation':'Year of Observation'},\n",
    "          axis=1, inplace=True)"
   ]
  },
  {
   "cell_type": "code",
   "execution_count": 74,
   "id": "70af9e96",
   "metadata": {},
   "outputs": [],
   "source": [
    "Insurance_cleaned = data.copy()"
   ]
  },
  {
   "cell_type": "code",
   "execution_count": 76,
   "id": "b18df101",
   "metadata": {},
   "outputs": [],
   "source": [
    "Insurance_cleaned.to_csv('Insurance_cleaned.csv')"
   ]
  },
  {
   "cell_type": "code",
   "execution_count": 77,
   "id": "57ffc667",
   "metadata": {},
   "outputs": [
    {
     "data": {
      "text/html": [
       "<div>\n",
       "<style scoped>\n",
       "    .dataframe tbody tr th:only-of-type {\n",
       "        vertical-align: middle;\n",
       "    }\n",
       "\n",
       "    .dataframe tbody tr th {\n",
       "        vertical-align: top;\n",
       "    }\n",
       "\n",
       "    .dataframe thead th {\n",
       "        text-align: right;\n",
       "    }\n",
       "</style>\n",
       "<table border=\"1\" class=\"dataframe\">\n",
       "  <thead>\n",
       "    <tr style=\"text-align: right;\">\n",
       "      <th></th>\n",
       "      <th>Year of Observation</th>\n",
       "      <th>Insurance Period</th>\n",
       "      <th>Residential</th>\n",
       "      <th>Building Painted</th>\n",
       "      <th>Building Fenced</th>\n",
       "      <th>Garden</th>\n",
       "      <th>Settlement</th>\n",
       "      <th>Building Dimension</th>\n",
       "      <th>Building Type</th>\n",
       "      <th>Date Of Occupancy</th>\n",
       "      <th>Number of Windows</th>\n",
       "      <th>Geo Code</th>\n",
       "      <th>Claim</th>\n",
       "    </tr>\n",
       "  </thead>\n",
       "  <tbody>\n",
       "    <tr>\n",
       "      <th>0</th>\n",
       "      <td>2013</td>\n",
       "      <td>6 Months - 1 Year</td>\n",
       "      <td>0</td>\n",
       "      <td>Painted</td>\n",
       "      <td>Not Fenced</td>\n",
       "      <td>Has Garden</td>\n",
       "      <td>Urban area</td>\n",
       "      <td>290</td>\n",
       "      <td>1</td>\n",
       "      <td>1960</td>\n",
       "      <td>4</td>\n",
       "      <td>1053</td>\n",
       "      <td>0</td>\n",
       "    </tr>\n",
       "    <tr>\n",
       "      <th>1</th>\n",
       "      <td>2015</td>\n",
       "      <td>6 Months - 1 Year</td>\n",
       "      <td>0</td>\n",
       "      <td>Not Painted</td>\n",
       "      <td>Fenced</td>\n",
       "      <td>No Garden</td>\n",
       "      <td>Rural area</td>\n",
       "      <td>490</td>\n",
       "      <td>1</td>\n",
       "      <td>1850</td>\n",
       "      <td>4</td>\n",
       "      <td>1053</td>\n",
       "      <td>0</td>\n",
       "    </tr>\n",
       "    <tr>\n",
       "      <th>2</th>\n",
       "      <td>2014</td>\n",
       "      <td>6 Months - 1 Year</td>\n",
       "      <td>0</td>\n",
       "      <td>Painted</td>\n",
       "      <td>Not Fenced</td>\n",
       "      <td>Has Garden</td>\n",
       "      <td>Urban area</td>\n",
       "      <td>595</td>\n",
       "      <td>1</td>\n",
       "      <td>1960</td>\n",
       "      <td>4</td>\n",
       "      <td>1053</td>\n",
       "      <td>0</td>\n",
       "    </tr>\n",
       "    <tr>\n",
       "      <th>3</th>\n",
       "      <td>2013</td>\n",
       "      <td>6 Months - 1 Year</td>\n",
       "      <td>0</td>\n",
       "      <td>Not Painted</td>\n",
       "      <td>Not Fenced</td>\n",
       "      <td>Has Garden</td>\n",
       "      <td>Urban area</td>\n",
       "      <td>2840</td>\n",
       "      <td>1</td>\n",
       "      <td>1960</td>\n",
       "      <td>4</td>\n",
       "      <td>1053</td>\n",
       "      <td>0</td>\n",
       "    </tr>\n",
       "    <tr>\n",
       "      <th>4</th>\n",
       "      <td>2014</td>\n",
       "      <td>6 Months - 1 Year</td>\n",
       "      <td>0</td>\n",
       "      <td>Not Painted</td>\n",
       "      <td>Fenced</td>\n",
       "      <td>No Garden</td>\n",
       "      <td>Rural area</td>\n",
       "      <td>680</td>\n",
       "      <td>1</td>\n",
       "      <td>1800</td>\n",
       "      <td>3</td>\n",
       "      <td>1053</td>\n",
       "      <td>0</td>\n",
       "    </tr>\n",
       "    <tr>\n",
       "      <th>...</th>\n",
       "      <td>...</td>\n",
       "      <td>...</td>\n",
       "      <td>...</td>\n",
       "      <td>...</td>\n",
       "      <td>...</td>\n",
       "      <td>...</td>\n",
       "      <td>...</td>\n",
       "      <td>...</td>\n",
       "      <td>...</td>\n",
       "      <td>...</td>\n",
       "      <td>...</td>\n",
       "      <td>...</td>\n",
       "      <td>...</td>\n",
       "    </tr>\n",
       "    <tr>\n",
       "      <th>10223</th>\n",
       "      <td>2012</td>\n",
       "      <td>6 Months - 1 Year</td>\n",
       "      <td>0</td>\n",
       "      <td>Not Painted</td>\n",
       "      <td>Not Fenced</td>\n",
       "      <td>Has Garden</td>\n",
       "      <td>Urban area</td>\n",
       "      <td>1819</td>\n",
       "      <td>4</td>\n",
       "      <td>1900</td>\n",
       "      <td>4</td>\n",
       "      <td>6088</td>\n",
       "      <td>0</td>\n",
       "    </tr>\n",
       "    <tr>\n",
       "      <th>10224</th>\n",
       "      <td>2015</td>\n",
       "      <td>6 Months - 1 Year</td>\n",
       "      <td>0</td>\n",
       "      <td>Not Painted</td>\n",
       "      <td>Not Fenced</td>\n",
       "      <td>Has Garden</td>\n",
       "      <td>Urban area</td>\n",
       "      <td>1819</td>\n",
       "      <td>4</td>\n",
       "      <td>1900</td>\n",
       "      <td>4</td>\n",
       "      <td>6088</td>\n",
       "      <td>0</td>\n",
       "    </tr>\n",
       "    <tr>\n",
       "      <th>10225</th>\n",
       "      <td>2012</td>\n",
       "      <td>6 Months - 1 Year</td>\n",
       "      <td>0</td>\n",
       "      <td>Not Painted</td>\n",
       "      <td>Not Fenced</td>\n",
       "      <td>Has Garden</td>\n",
       "      <td>Urban area</td>\n",
       "      <td>1819</td>\n",
       "      <td>2</td>\n",
       "      <td>1948</td>\n",
       "      <td>4</td>\n",
       "      <td>6088</td>\n",
       "      <td>0</td>\n",
       "    </tr>\n",
       "    <tr>\n",
       "      <th>10226</th>\n",
       "      <td>2012</td>\n",
       "      <td>6 Months - 1 Year</td>\n",
       "      <td>0</td>\n",
       "      <td>Not Painted</td>\n",
       "      <td>Not Fenced</td>\n",
       "      <td>Has Garden</td>\n",
       "      <td>Urban area</td>\n",
       "      <td>1819</td>\n",
       "      <td>2</td>\n",
       "      <td>1993</td>\n",
       "      <td>4</td>\n",
       "      <td>6088</td>\n",
       "      <td>0</td>\n",
       "    </tr>\n",
       "    <tr>\n",
       "      <th>10227</th>\n",
       "      <td>2013</td>\n",
       "      <td>6 Months - 1 Year</td>\n",
       "      <td>0</td>\n",
       "      <td>Not Painted</td>\n",
       "      <td>Not Fenced</td>\n",
       "      <td>Has Garden</td>\n",
       "      <td>Urban area</td>\n",
       "      <td>1819</td>\n",
       "      <td>1</td>\n",
       "      <td>1800</td>\n",
       "      <td>4</td>\n",
       "      <td>6088</td>\n",
       "      <td>0</td>\n",
       "    </tr>\n",
       "  </tbody>\n",
       "</table>\n",
       "<p>10195 rows × 13 columns</p>\n",
       "</div>"
      ],
      "text/plain": [
       "       Year of Observation   Insurance Period  Residential Building Painted  \\\n",
       "0                     2013  6 Months - 1 Year            0          Painted   \n",
       "1                     2015  6 Months - 1 Year            0      Not Painted   \n",
       "2                     2014  6 Months - 1 Year            0          Painted   \n",
       "3                     2013  6 Months - 1 Year            0      Not Painted   \n",
       "4                     2014  6 Months - 1 Year            0      Not Painted   \n",
       "...                    ...                ...          ...              ...   \n",
       "10223                 2012  6 Months - 1 Year            0      Not Painted   \n",
       "10224                 2015  6 Months - 1 Year            0      Not Painted   \n",
       "10225                 2012  6 Months - 1 Year            0      Not Painted   \n",
       "10226                 2012  6 Months - 1 Year            0      Not Painted   \n",
       "10227                 2013  6 Months - 1 Year            0      Not Painted   \n",
       "\n",
       "      Building Fenced      Garden  Settlement  Building Dimension  \\\n",
       "0          Not Fenced  Has Garden  Urban area                 290   \n",
       "1              Fenced   No Garden  Rural area                 490   \n",
       "2          Not Fenced  Has Garden  Urban area                 595   \n",
       "3          Not Fenced  Has Garden  Urban area                2840   \n",
       "4              Fenced   No Garden  Rural area                 680   \n",
       "...               ...         ...         ...                 ...   \n",
       "10223      Not Fenced  Has Garden  Urban area                1819   \n",
       "10224      Not Fenced  Has Garden  Urban area                1819   \n",
       "10225      Not Fenced  Has Garden  Urban area                1819   \n",
       "10226      Not Fenced  Has Garden  Urban area                1819   \n",
       "10227      Not Fenced  Has Garden  Urban area                1819   \n",
       "\n",
       "       Building Type  Date Of Occupancy  Number of Windows Geo Code  Claim  \n",
       "0                  1               1960                  4     1053      0  \n",
       "1                  1               1850                  4     1053      0  \n",
       "2                  1               1960                  4     1053      0  \n",
       "3                  1               1960                  4     1053      0  \n",
       "4                  1               1800                  3     1053      0  \n",
       "...              ...                ...                ...      ...    ...  \n",
       "10223              4               1900                  4     6088      0  \n",
       "10224              4               1900                  4     6088      0  \n",
       "10225              2               1948                  4     6088      0  \n",
       "10226              2               1993                  4     6088      0  \n",
       "10227              1               1800                  4     6088      0  \n",
       "\n",
       "[10195 rows x 13 columns]"
      ]
     },
     "execution_count": 77,
     "metadata": {},
     "output_type": "execute_result"
    }
   ],
   "source": [
    "data"
   ]
  },
  {
   "cell_type": "code",
   "execution_count": null,
   "id": "e7a7a9a1",
   "metadata": {},
   "outputs": [],
   "source": []
  }
 ],
 "metadata": {
  "kernelspec": {
   "display_name": "Python 3 (ipykernel)",
   "language": "python",
   "name": "python3"
  },
  "language_info": {
   "codemirror_mode": {
    "name": "ipython",
    "version": 3
   },
   "file_extension": ".py",
   "mimetype": "text/x-python",
   "name": "python",
   "nbconvert_exporter": "python",
   "pygments_lexer": "ipython3",
   "version": "3.9.12"
  }
 },
 "nbformat": 4,
 "nbformat_minor": 5
}
