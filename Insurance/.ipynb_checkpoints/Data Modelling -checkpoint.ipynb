{
 "cells": [
  {
   "cell_type": "code",
   "execution_count": 1,
   "id": "a9eaf95f",
   "metadata": {},
   "outputs": [],
   "source": [
    "import pandas as pd\n",
    "import numpy as np\n",
    "from sklearn.model_selection import train_test_split\n",
    "from sklearn.ensemble import RandomForestRegressor\n",
    "from sklearn.pipeline import Pipeline \n",
    "from sklearn.impute import SimpleImputer\n",
    "from sklearn.model_selection import cross_val_score\n",
    "from sklearn.preprocessing import LabelEncoder"
   ]
  },
  {
   "cell_type": "code",
   "execution_count": 2,
   "id": "0c345652",
   "metadata": {},
   "outputs": [],
   "source": [
    "data = pd.read_csv(\"Datasets/insurance_cleaned.csv\")"
   ]
  },
  {
   "cell_type": "code",
   "execution_count": null,
   "id": "532fa03e",
   "metadata": {},
   "outputs": [],
   "source": [
    "data.head()"
   ]
  },
  {
   "cell_type": "code",
   "execution_count": null,
   "id": "4af522f1",
   "metadata": {
    "scrolled": true
   },
   "outputs": [],
   "source": [
    "data.tail()"
   ]
  },
  {
   "cell_type": "code",
   "execution_count": 3,
   "id": "fb2b8058",
   "metadata": {},
   "outputs": [
    {
     "name": "stdout",
     "output_type": "stream",
     "text": [
      "<class 'pandas.core.frame.DataFrame'>\n",
      "RangeIndex: 10195 entries, 0 to 10194\n",
      "Data columns (total 14 columns):\n",
      " #   Column               Non-Null Count  Dtype \n",
      "---  ------               --------------  ----- \n",
      " 0   Unnamed: 0           10195 non-null  int64 \n",
      " 1   Year of Observation  10195 non-null  int64 \n",
      " 2   Insurance Period     10195 non-null  object\n",
      " 3   Residential          10195 non-null  int64 \n",
      " 4   Building Painted     10195 non-null  object\n",
      " 5   Building Fenced      10195 non-null  object\n",
      " 6   Garden               10195 non-null  object\n",
      " 7   Settlement           10195 non-null  object\n",
      " 8   Building Dimension   10195 non-null  int64 \n",
      " 9   Building Type        10195 non-null  int64 \n",
      " 10  Date Of Occupancy    10195 non-null  int64 \n",
      " 11  Number of Windows    10195 non-null  int64 \n",
      " 12  Geo Code             10195 non-null  object\n",
      " 13  Claim                10195 non-null  int64 \n",
      "dtypes: int64(8), object(6)\n",
      "memory usage: 1.1+ MB\n"
     ]
    }
   ],
   "source": [
    "data.info()"
   ]
  },
  {
   "cell_type": "code",
   "execution_count": 4,
   "id": "66997df2",
   "metadata": {},
   "outputs": [
    {
     "data": {
      "text/plain": [
       "1525"
      ]
     },
     "execution_count": 4,
     "metadata": {},
     "output_type": "execute_result"
    }
   ],
   "source": [
    "data[\"Geo Code\"].nunique()"
   ]
  },
  {
   "cell_type": "markdown",
   "id": "7482902a",
   "metadata": {},
   "source": [
    "Data Preprocessing "
   ]
  },
  {
   "cell_type": "code",
   "execution_count": 6,
   "id": "b7dc4c0a",
   "metadata": {},
   "outputs": [],
   "source": [
    "# drop the geocode columns it contains too many categories \n",
    "data1 = data.drop([\"Geo Code\",\"Unnamed: 0\"],axis=1)"
   ]
  },
  {
   "cell_type": "code",
   "execution_count": 7,
   "id": "010ebfc7",
   "metadata": {
    "scrolled": true
   },
   "outputs": [
    {
     "data": {
      "text/html": [
       "<div>\n",
       "<style scoped>\n",
       "    .dataframe tbody tr th:only-of-type {\n",
       "        vertical-align: middle;\n",
       "    }\n",
       "\n",
       "    .dataframe tbody tr th {\n",
       "        vertical-align: top;\n",
       "    }\n",
       "\n",
       "    .dataframe thead th {\n",
       "        text-align: right;\n",
       "    }\n",
       "</style>\n",
       "<table border=\"1\" class=\"dataframe\">\n",
       "  <thead>\n",
       "    <tr style=\"text-align: right;\">\n",
       "      <th></th>\n",
       "      <th>Year of Observation</th>\n",
       "      <th>Insurance Period</th>\n",
       "      <th>Residential</th>\n",
       "      <th>Building Painted</th>\n",
       "      <th>Building Fenced</th>\n",
       "      <th>Garden</th>\n",
       "      <th>Settlement</th>\n",
       "      <th>Building Dimension</th>\n",
       "      <th>Building Type</th>\n",
       "      <th>Date Of Occupancy</th>\n",
       "      <th>Number of Windows</th>\n",
       "      <th>Claim</th>\n",
       "    </tr>\n",
       "  </thead>\n",
       "  <tbody>\n",
       "    <tr>\n",
       "      <th>0</th>\n",
       "      <td>2013</td>\n",
       "      <td>6 Months - 1 Year</td>\n",
       "      <td>0</td>\n",
       "      <td>Painted</td>\n",
       "      <td>Not Fenced</td>\n",
       "      <td>Has Garden</td>\n",
       "      <td>Urban area</td>\n",
       "      <td>290</td>\n",
       "      <td>1</td>\n",
       "      <td>1960</td>\n",
       "      <td>4</td>\n",
       "      <td>0</td>\n",
       "    </tr>\n",
       "    <tr>\n",
       "      <th>1</th>\n",
       "      <td>2015</td>\n",
       "      <td>6 Months - 1 Year</td>\n",
       "      <td>0</td>\n",
       "      <td>Not Painted</td>\n",
       "      <td>Fenced</td>\n",
       "      <td>No Garden</td>\n",
       "      <td>Rural area</td>\n",
       "      <td>490</td>\n",
       "      <td>1</td>\n",
       "      <td>1850</td>\n",
       "      <td>4</td>\n",
       "      <td>0</td>\n",
       "    </tr>\n",
       "    <tr>\n",
       "      <th>2</th>\n",
       "      <td>2014</td>\n",
       "      <td>6 Months - 1 Year</td>\n",
       "      <td>0</td>\n",
       "      <td>Painted</td>\n",
       "      <td>Not Fenced</td>\n",
       "      <td>Has Garden</td>\n",
       "      <td>Urban area</td>\n",
       "      <td>595</td>\n",
       "      <td>1</td>\n",
       "      <td>1960</td>\n",
       "      <td>4</td>\n",
       "      <td>0</td>\n",
       "    </tr>\n",
       "    <tr>\n",
       "      <th>3</th>\n",
       "      <td>2013</td>\n",
       "      <td>6 Months - 1 Year</td>\n",
       "      <td>0</td>\n",
       "      <td>Not Painted</td>\n",
       "      <td>Not Fenced</td>\n",
       "      <td>Has Garden</td>\n",
       "      <td>Urban area</td>\n",
       "      <td>2840</td>\n",
       "      <td>1</td>\n",
       "      <td>1960</td>\n",
       "      <td>4</td>\n",
       "      <td>0</td>\n",
       "    </tr>\n",
       "    <tr>\n",
       "      <th>4</th>\n",
       "      <td>2014</td>\n",
       "      <td>6 Months - 1 Year</td>\n",
       "      <td>0</td>\n",
       "      <td>Not Painted</td>\n",
       "      <td>Fenced</td>\n",
       "      <td>No Garden</td>\n",
       "      <td>Rural area</td>\n",
       "      <td>680</td>\n",
       "      <td>1</td>\n",
       "      <td>1800</td>\n",
       "      <td>3</td>\n",
       "      <td>0</td>\n",
       "    </tr>\n",
       "  </tbody>\n",
       "</table>\n",
       "</div>"
      ],
      "text/plain": [
       "   Year of Observation   Insurance Period  Residential Building Painted  \\\n",
       "0                 2013  6 Months - 1 Year            0          Painted   \n",
       "1                 2015  6 Months - 1 Year            0      Not Painted   \n",
       "2                 2014  6 Months - 1 Year            0          Painted   \n",
       "3                 2013  6 Months - 1 Year            0      Not Painted   \n",
       "4                 2014  6 Months - 1 Year            0      Not Painted   \n",
       "\n",
       "  Building Fenced      Garden  Settlement  Building Dimension  Building Type  \\\n",
       "0      Not Fenced  Has Garden  Urban area                 290              1   \n",
       "1          Fenced   No Garden  Rural area                 490              1   \n",
       "2      Not Fenced  Has Garden  Urban area                 595              1   \n",
       "3      Not Fenced  Has Garden  Urban area                2840              1   \n",
       "4          Fenced   No Garden  Rural area                 680              1   \n",
       "\n",
       "   Date Of Occupancy  Number of Windows  Claim  \n",
       "0               1960                  4      0  \n",
       "1               1850                  4      0  \n",
       "2               1960                  4      0  \n",
       "3               1960                  4      0  \n",
       "4               1800                  3      0  "
      ]
     },
     "execution_count": 7,
     "metadata": {},
     "output_type": "execute_result"
    }
   ],
   "source": [
    "data1.head()"
   ]
  },
  {
   "cell_type": "code",
   "execution_count": null,
   "id": "5944cf2b",
   "metadata": {},
   "outputs": [],
   "source": [
    "# Encode categorical variables  \n",
    "encode = LabelEncoder()\n",
    "df_col = list(data1.columns)\n",
    "for i in range(len(df_col)):\n",
    "    if data1[df_col[i]].dtype == \"object\"\n",
    "       data1[df_col[i]] = encode.fit_transform(data1[df_col[i]])"
   ]
  },
  {
   "cell_type": "code",
   "execution_count": null,
   "id": "6bb6dcd0",
   "metadata": {},
   "outputs": [],
   "source": [
    "data.head()"
   ]
  },
  {
   "cell_type": "code",
   "execution_count": null,
   "id": "9d4fcbee",
   "metadata": {},
   "outputs": [],
   "source": []
  }
 ],
 "metadata": {
  "kernelspec": {
   "display_name": "Python 3 (ipykernel)",
   "language": "python",
   "name": "python3"
  },
  "language_info": {
   "codemirror_mode": {
    "name": "ipython",
    "version": 3
   },
   "file_extension": ".py",
   "mimetype": "text/x-python",
   "name": "python",
   "nbconvert_exporter": "python",
   "pygments_lexer": "ipython3",
   "version": "3.9.12"
  }
 },
 "nbformat": 4,
 "nbformat_minor": 5
}
