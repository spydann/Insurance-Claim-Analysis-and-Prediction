{
 "cells": [
  {
   "cell_type": "code",
   "execution_count": 1,
   "id": "dd0d73a3",
   "metadata": {},
   "outputs": [],
   "source": [
    "# Import Relevant Libraries \n",
    "\n",
    "import pandas as pd\n",
    "import numpy as np \n",
    "import matplotlib.pyplot as plt \n",
    "import seaborn as sns \n",
    "\n",
    "\n",
    "sns.set()"
   ]
  },
  {
   "cell_type": "code",
   "execution_count": 2,
   "id": "5b56f9da",
   "metadata": {},
   "outputs": [],
   "source": [
    "# Read the cleaned data \n",
    "cleaned_data = pd.read_csv('Datasets/Insurance_cleaned.csv')"
   ]
  },
  {
   "cell_type": "code",
   "execution_count": 3,
   "id": "9f76efcf",
   "metadata": {},
   "outputs": [
    {
     "data": {
      "text/html": [
       "<div>\n",
       "<style scoped>\n",
       "    .dataframe tbody tr th:only-of-type {\n",
       "        vertical-align: middle;\n",
       "    }\n",
       "\n",
       "    .dataframe tbody tr th {\n",
       "        vertical-align: top;\n",
       "    }\n",
       "\n",
       "    .dataframe thead th {\n",
       "        text-align: right;\n",
       "    }\n",
       "</style>\n",
       "<table border=\"1\" class=\"dataframe\">\n",
       "  <thead>\n",
       "    <tr style=\"text-align: right;\">\n",
       "      <th></th>\n",
       "      <th>Year of Observation</th>\n",
       "      <th>Insurance Period</th>\n",
       "      <th>Residential</th>\n",
       "      <th>Building Painted</th>\n",
       "      <th>Building Fenced</th>\n",
       "      <th>Garden</th>\n",
       "      <th>Settlement</th>\n",
       "      <th>Building Dimension</th>\n",
       "      <th>Building Type</th>\n",
       "      <th>Date Of Occupancy</th>\n",
       "      <th>Number of Windows</th>\n",
       "      <th>Geo Code</th>\n",
       "      <th>Claim</th>\n",
       "    </tr>\n",
       "  </thead>\n",
       "  <tbody>\n",
       "    <tr>\n",
       "      <th>0</th>\n",
       "      <td>2013-01-01</td>\n",
       "      <td>6 Months - 1 Year</td>\n",
       "      <td>0</td>\n",
       "      <td>Painted</td>\n",
       "      <td>Not Fenced</td>\n",
       "      <td>Has Garden</td>\n",
       "      <td>Urban area</td>\n",
       "      <td>290</td>\n",
       "      <td>1</td>\n",
       "      <td>1960</td>\n",
       "      <td>4</td>\n",
       "      <td>1053</td>\n",
       "      <td>0</td>\n",
       "    </tr>\n",
       "    <tr>\n",
       "      <th>1</th>\n",
       "      <td>2015-01-01</td>\n",
       "      <td>6 Months - 1 Year</td>\n",
       "      <td>0</td>\n",
       "      <td>Not Painted</td>\n",
       "      <td>Fenced</td>\n",
       "      <td>No Garden</td>\n",
       "      <td>Rural area</td>\n",
       "      <td>490</td>\n",
       "      <td>1</td>\n",
       "      <td>1850</td>\n",
       "      <td>4</td>\n",
       "      <td>1053</td>\n",
       "      <td>0</td>\n",
       "    </tr>\n",
       "    <tr>\n",
       "      <th>2</th>\n",
       "      <td>2014-01-01</td>\n",
       "      <td>6 Months - 1 Year</td>\n",
       "      <td>0</td>\n",
       "      <td>Painted</td>\n",
       "      <td>Not Fenced</td>\n",
       "      <td>Has Garden</td>\n",
       "      <td>Urban area</td>\n",
       "      <td>595</td>\n",
       "      <td>1</td>\n",
       "      <td>1960</td>\n",
       "      <td>4</td>\n",
       "      <td>1053</td>\n",
       "      <td>0</td>\n",
       "    </tr>\n",
       "    <tr>\n",
       "      <th>3</th>\n",
       "      <td>2013-01-01</td>\n",
       "      <td>6 Months - 1 Year</td>\n",
       "      <td>0</td>\n",
       "      <td>Not Painted</td>\n",
       "      <td>Not Fenced</td>\n",
       "      <td>Has Garden</td>\n",
       "      <td>Urban area</td>\n",
       "      <td>2840</td>\n",
       "      <td>1</td>\n",
       "      <td>1960</td>\n",
       "      <td>4</td>\n",
       "      <td>1053</td>\n",
       "      <td>0</td>\n",
       "    </tr>\n",
       "    <tr>\n",
       "      <th>4</th>\n",
       "      <td>2014-01-01</td>\n",
       "      <td>6 Months - 1 Year</td>\n",
       "      <td>0</td>\n",
       "      <td>Not Painted</td>\n",
       "      <td>Fenced</td>\n",
       "      <td>No Garden</td>\n",
       "      <td>Rural area</td>\n",
       "      <td>680</td>\n",
       "      <td>1</td>\n",
       "      <td>1800</td>\n",
       "      <td>3</td>\n",
       "      <td>1053</td>\n",
       "      <td>0</td>\n",
       "    </tr>\n",
       "  </tbody>\n",
       "</table>\n",
       "</div>"
      ],
      "text/plain": [
       "  Year of Observation   Insurance Period  Residential Building Painted  \\\n",
       "0          2013-01-01  6 Months - 1 Year            0          Painted   \n",
       "1          2015-01-01  6 Months - 1 Year            0      Not Painted   \n",
       "2          2014-01-01  6 Months - 1 Year            0          Painted   \n",
       "3          2013-01-01  6 Months - 1 Year            0      Not Painted   \n",
       "4          2014-01-01  6 Months - 1 Year            0      Not Painted   \n",
       "\n",
       "  Building Fenced      Garden  Settlement  Building Dimension  Building Type  \\\n",
       "0      Not Fenced  Has Garden  Urban area                 290              1   \n",
       "1          Fenced   No Garden  Rural area                 490              1   \n",
       "2      Not Fenced  Has Garden  Urban area                 595              1   \n",
       "3      Not Fenced  Has Garden  Urban area                2840              1   \n",
       "4          Fenced   No Garden  Rural area                 680              1   \n",
       "\n",
       "   Date Of Occupancy  Number of Windows Geo Code  Claim  \n",
       "0               1960                  4     1053      0  \n",
       "1               1850                  4     1053      0  \n",
       "2               1960                  4     1053      0  \n",
       "3               1960                  4     1053      0  \n",
       "4               1800                  3     1053      0  "
      ]
     },
     "execution_count": 3,
     "metadata": {},
     "output_type": "execute_result"
    }
   ],
   "source": [
    "data = cleaned_data.copy()\n",
    "\n",
    "# drop index\n",
    "data = data.drop(['Unnamed: 0'], axis=1)\n",
    "data.reset_index(drop=True, inplace=True)\n",
    "\n",
    "data.head()"
   ]
  },
  {
   "cell_type": "code",
   "execution_count": 4,
   "id": "8b11cdb2",
   "metadata": {
    "scrolled": true
   },
   "outputs": [
    {
     "data": {
      "text/html": [
       "<div>\n",
       "<style scoped>\n",
       "    .dataframe tbody tr th:only-of-type {\n",
       "        vertical-align: middle;\n",
       "    }\n",
       "\n",
       "    .dataframe tbody tr th {\n",
       "        vertical-align: top;\n",
       "    }\n",
       "\n",
       "    .dataframe thead th {\n",
       "        text-align: right;\n",
       "    }\n",
       "</style>\n",
       "<table border=\"1\" class=\"dataframe\">\n",
       "  <thead>\n",
       "    <tr style=\"text-align: right;\">\n",
       "      <th></th>\n",
       "      <th>Year of Observation</th>\n",
       "      <th>Insurance Period</th>\n",
       "      <th>Residential</th>\n",
       "      <th>Building Painted</th>\n",
       "      <th>Building Fenced</th>\n",
       "      <th>Garden</th>\n",
       "      <th>Settlement</th>\n",
       "      <th>Building Dimension</th>\n",
       "      <th>Building Type</th>\n",
       "      <th>Date Of Occupancy</th>\n",
       "      <th>Number of Windows</th>\n",
       "      <th>Geo Code</th>\n",
       "      <th>Claim</th>\n",
       "    </tr>\n",
       "  </thead>\n",
       "  <tbody>\n",
       "    <tr>\n",
       "      <th>7143</th>\n",
       "      <td>2012-01-01</td>\n",
       "      <td>6 Months - 1 Year</td>\n",
       "      <td>1</td>\n",
       "      <td>Not Painted</td>\n",
       "      <td>Not Fenced</td>\n",
       "      <td>Has Garden</td>\n",
       "      <td>Urban area</td>\n",
       "      <td>1819</td>\n",
       "      <td>1</td>\n",
       "      <td>2001</td>\n",
       "      <td>4</td>\n",
       "      <td>6088</td>\n",
       "      <td>0</td>\n",
       "    </tr>\n",
       "    <tr>\n",
       "      <th>7144</th>\n",
       "      <td>2013-01-01</td>\n",
       "      <td>6 Months - 1 Year</td>\n",
       "      <td>0</td>\n",
       "      <td>Not Painted</td>\n",
       "      <td>Not Fenced</td>\n",
       "      <td>Has Garden</td>\n",
       "      <td>Urban area</td>\n",
       "      <td>1819</td>\n",
       "      <td>2</td>\n",
       "      <td>1980</td>\n",
       "      <td>4</td>\n",
       "      <td>6088</td>\n",
       "      <td>1</td>\n",
       "    </tr>\n",
       "    <tr>\n",
       "      <th>7145</th>\n",
       "      <td>2016-01-01</td>\n",
       "      <td>0 - 5 Months</td>\n",
       "      <td>0</td>\n",
       "      <td>Not Painted</td>\n",
       "      <td>Not Fenced</td>\n",
       "      <td>Has Garden</td>\n",
       "      <td>Urban area</td>\n",
       "      <td>1819</td>\n",
       "      <td>1</td>\n",
       "      <td>1992</td>\n",
       "      <td>4</td>\n",
       "      <td>6088</td>\n",
       "      <td>0</td>\n",
       "    </tr>\n",
       "    <tr>\n",
       "      <th>7146</th>\n",
       "      <td>2013-01-01</td>\n",
       "      <td>6 Months - 1 Year</td>\n",
       "      <td>0</td>\n",
       "      <td>Not Painted</td>\n",
       "      <td>Not Fenced</td>\n",
       "      <td>Has Garden</td>\n",
       "      <td>Urban area</td>\n",
       "      <td>1819</td>\n",
       "      <td>1</td>\n",
       "      <td>1972</td>\n",
       "      <td>4</td>\n",
       "      <td>6088</td>\n",
       "      <td>0</td>\n",
       "    </tr>\n",
       "    <tr>\n",
       "      <th>7147</th>\n",
       "      <td>2014-01-01</td>\n",
       "      <td>6 Months - 1 Year</td>\n",
       "      <td>0</td>\n",
       "      <td>Not Painted</td>\n",
       "      <td>Not Fenced</td>\n",
       "      <td>Has Garden</td>\n",
       "      <td>Urban area</td>\n",
       "      <td>1819</td>\n",
       "      <td>1</td>\n",
       "      <td>2004</td>\n",
       "      <td>4</td>\n",
       "      <td>6088</td>\n",
       "      <td>0</td>\n",
       "    </tr>\n",
       "  </tbody>\n",
       "</table>\n",
       "</div>"
      ],
      "text/plain": [
       "     Year of Observation   Insurance Period  Residential Building Painted  \\\n",
       "7143          2012-01-01  6 Months - 1 Year            1      Not Painted   \n",
       "7144          2013-01-01  6 Months - 1 Year            0      Not Painted   \n",
       "7145          2016-01-01       0 - 5 Months            0      Not Painted   \n",
       "7146          2013-01-01  6 Months - 1 Year            0      Not Painted   \n",
       "7147          2014-01-01  6 Months - 1 Year            0      Not Painted   \n",
       "\n",
       "     Building Fenced      Garden  Settlement  Building Dimension  \\\n",
       "7143      Not Fenced  Has Garden  Urban area                1819   \n",
       "7144      Not Fenced  Has Garden  Urban area                1819   \n",
       "7145      Not Fenced  Has Garden  Urban area                1819   \n",
       "7146      Not Fenced  Has Garden  Urban area                1819   \n",
       "7147      Not Fenced  Has Garden  Urban area                1819   \n",
       "\n",
       "      Building Type  Date Of Occupancy  Number of Windows Geo Code  Claim  \n",
       "7143              1               2001                  4     6088      0  \n",
       "7144              2               1980                  4     6088      1  \n",
       "7145              1               1992                  4     6088      0  \n",
       "7146              1               1972                  4     6088      0  \n",
       "7147              1               2004                  4     6088      0  "
      ]
     },
     "execution_count": 4,
     "metadata": {},
     "output_type": "execute_result"
    }
   ],
   "source": [
    "data.tail()"
   ]
  },
  {
   "cell_type": "code",
   "execution_count": 5,
   "id": "8955d2f5",
   "metadata": {},
   "outputs": [
    {
     "data": {
      "text/html": [
       "<div>\n",
       "<style scoped>\n",
       "    .dataframe tbody tr th:only-of-type {\n",
       "        vertical-align: middle;\n",
       "    }\n",
       "\n",
       "    .dataframe tbody tr th {\n",
       "        vertical-align: top;\n",
       "    }\n",
       "\n",
       "    .dataframe thead th {\n",
       "        text-align: right;\n",
       "    }\n",
       "</style>\n",
       "<table border=\"1\" class=\"dataframe\">\n",
       "  <thead>\n",
       "    <tr style=\"text-align: right;\">\n",
       "      <th></th>\n",
       "      <th>Residential</th>\n",
       "      <th>Building Dimension</th>\n",
       "      <th>Building Type</th>\n",
       "      <th>Date Of Occupancy</th>\n",
       "      <th>Number of Windows</th>\n",
       "      <th>Claim</th>\n",
       "    </tr>\n",
       "  </thead>\n",
       "  <tbody>\n",
       "    <tr>\n",
       "      <th>count</th>\n",
       "      <td>7148.000000</td>\n",
       "      <td>7148.000000</td>\n",
       "      <td>7148.000000</td>\n",
       "      <td>7148.000000</td>\n",
       "      <td>7148.000000</td>\n",
       "      <td>7148.000000</td>\n",
       "    </tr>\n",
       "    <tr>\n",
       "      <th>mean</th>\n",
       "      <td>0.305400</td>\n",
       "      <td>1882.147454</td>\n",
       "      <td>2.186626</td>\n",
       "      <td>1964.118215</td>\n",
       "      <td>4.167040</td>\n",
       "      <td>0.228316</td>\n",
       "    </tr>\n",
       "    <tr>\n",
       "      <th>std</th>\n",
       "      <td>0.460609</td>\n",
       "      <td>2261.963222</td>\n",
       "      <td>0.941186</td>\n",
       "      <td>34.738361</td>\n",
       "      <td>1.295154</td>\n",
       "      <td>0.419776</td>\n",
       "    </tr>\n",
       "    <tr>\n",
       "      <th>min</th>\n",
       "      <td>0.000000</td>\n",
       "      <td>1.000000</td>\n",
       "      <td>1.000000</td>\n",
       "      <td>1545.000000</td>\n",
       "      <td>1.000000</td>\n",
       "      <td>0.000000</td>\n",
       "    </tr>\n",
       "    <tr>\n",
       "      <th>25%</th>\n",
       "      <td>0.000000</td>\n",
       "      <td>530.000000</td>\n",
       "      <td>2.000000</td>\n",
       "      <td>1960.000000</td>\n",
       "      <td>4.000000</td>\n",
       "      <td>0.000000</td>\n",
       "    </tr>\n",
       "    <tr>\n",
       "      <th>50%</th>\n",
       "      <td>0.000000</td>\n",
       "      <td>1100.000000</td>\n",
       "      <td>2.000000</td>\n",
       "      <td>1960.000000</td>\n",
       "      <td>4.000000</td>\n",
       "      <td>0.000000</td>\n",
       "    </tr>\n",
       "    <tr>\n",
       "      <th>75%</th>\n",
       "      <td>1.000000</td>\n",
       "      <td>2250.000000</td>\n",
       "      <td>3.000000</td>\n",
       "      <td>1980.000000</td>\n",
       "      <td>4.000000</td>\n",
       "      <td>0.000000</td>\n",
       "    </tr>\n",
       "    <tr>\n",
       "      <th>max</th>\n",
       "      <td>1.000000</td>\n",
       "      <td>20940.000000</td>\n",
       "      <td>4.000000</td>\n",
       "      <td>2016.000000</td>\n",
       "      <td>10.000000</td>\n",
       "      <td>1.000000</td>\n",
       "    </tr>\n",
       "  </tbody>\n",
       "</table>\n",
       "</div>"
      ],
      "text/plain": [
       "       Residential  Building Dimension  Building Type  Date Of Occupancy  \\\n",
       "count  7148.000000         7148.000000    7148.000000        7148.000000   \n",
       "mean      0.305400         1882.147454       2.186626        1964.118215   \n",
       "std       0.460609         2261.963222       0.941186          34.738361   \n",
       "min       0.000000            1.000000       1.000000        1545.000000   \n",
       "25%       0.000000          530.000000       2.000000        1960.000000   \n",
       "50%       0.000000         1100.000000       2.000000        1960.000000   \n",
       "75%       1.000000         2250.000000       3.000000        1980.000000   \n",
       "max       1.000000        20940.000000       4.000000        2016.000000   \n",
       "\n",
       "       Number of Windows        Claim  \n",
       "count        7148.000000  7148.000000  \n",
       "mean            4.167040     0.228316  \n",
       "std             1.295154     0.419776  \n",
       "min             1.000000     0.000000  \n",
       "25%             4.000000     0.000000  \n",
       "50%             4.000000     0.000000  \n",
       "75%             4.000000     0.000000  \n",
       "max            10.000000     1.000000  "
      ]
     },
     "execution_count": 5,
     "metadata": {},
     "output_type": "execute_result"
    }
   ],
   "source": [
    "# descriptives \n",
    "data.describe()"
   ]
  },
  {
   "cell_type": "markdown",
   "id": "3d6f04b3",
   "metadata": {},
   "source": [
    "# Exploratory Data Analysis\n"
   ]
  },
  {
   "cell_type": "markdown",
   "id": "8b5f4a45",
   "metadata": {},
   "source": [
    "Hypothesis \n",
    "\n",
    "1. Does Fenced Building Claim Insurance than Building Not Fenced?\n",
    "2. Does Longer Insurance Period Claim Insurance than shorter Period?\n",
    "3. what is the Percentage of Insurance Claim in Rural areas and Urban areas?\n",
    "4. What is the Trend of insurance made over the years?\n",
    "5. Does Residential Properties have longer Insurance Period?\n",
    "6. check if our targets variable is balanced? "
   ]
  },
  {
   "cell_type": "markdown",
   "id": "6126e84e",
   "metadata": {},
   "source": [
    "# Does Number of Insurance made increase over the year of observation?"
   ]
  },
  {
   "cell_type": "code",
   "execution_count": 6,
   "id": "45203072",
   "metadata": {},
   "outputs": [
    {
     "data": {
      "image/png": "[encoded data removed]",
      "text/plain": [
       "<Figure size 432x288 with 1 Axes>"
      ]
     },
     "metadata": {},
     "output_type": "display_data"
    }
   ],
   "source": [
    "Year_of_observation = data['Year of Observation'].value_counts()\n",
    "\n",
    "sns.pointplot(x=Year_of_observation.index, y=Year_of_observation.values,color='green')\n",
    "plt.title(\"Number of Insurance made from (2012-2016)\",fontsize=15)\n",
    "plt.xlabel(\"Year of Observation\")\n",
    "\n",
    "plt.show()"
   ]
  },
  {
   "cell_type": "code",
   "execution_count": 7,
   "id": "eace79d9",
   "metadata": {},
   "outputs": [
    {
     "data": {
      "image/png": "[encoded data removed]",
      "text/plain": [
       "<Figure size 432x288 with 1 Axes>"
      ]
     },
     "metadata": {},
     "output_type": "display_data"
    }
   ],
   "source": [
    "data[data['Claim'] == 1].groupby('Year of Observation')['Claim'].value_counts().plot(kind='bar', \n",
    "                                                                    title= 'Total Insurance claim across Year of Obseravtions')\n",
    "plt.show()"
   ]
  },
  {
   "cell_type": "code",
   "execution_count": 8,
   "id": "40def6d2",
   "metadata": {
    "scrolled": true
   },
   "outputs": [
    {
     "data": {
      "text/html": [
       "<div>\n",
       "<style scoped>\n",
       "    .dataframe tbody tr th:only-of-type {\n",
       "        vertical-align: middle;\n",
       "    }\n",
       "\n",
       "    .dataframe tbody tr th {\n",
       "        vertical-align: top;\n",
       "    }\n",
       "\n",
       "    .dataframe thead th {\n",
       "        text-align: right;\n",
       "    }\n",
       "</style>\n",
       "<table border=\"1\" class=\"dataframe\">\n",
       "  <thead>\n",
       "    <tr style=\"text-align: right;\">\n",
       "      <th>Claim</th>\n",
       "      <th>0</th>\n",
       "      <th>1</th>\n",
       "      <th>sum</th>\n",
       "      <th>Not Claimed %</th>\n",
       "      <th>Claimed %</th>\n",
       "    </tr>\n",
       "    <tr>\n",
       "      <th>Year of Observation</th>\n",
       "      <th></th>\n",
       "      <th></th>\n",
       "      <th></th>\n",
       "      <th></th>\n",
       "      <th></th>\n",
       "    </tr>\n",
       "  </thead>\n",
       "  <tbody>\n",
       "    <tr>\n",
       "      <th>2012-01-01</th>\n",
       "      <td>1429</td>\n",
       "      <td>422</td>\n",
       "      <td>1851</td>\n",
       "      <td>77.201513</td>\n",
       "      <td>22.798487</td>\n",
       "    </tr>\n",
       "    <tr>\n",
       "      <th>2013-01-01</th>\n",
       "      <td>1384</td>\n",
       "      <td>424</td>\n",
       "      <td>1808</td>\n",
       "      <td>76.548673</td>\n",
       "      <td>23.451327</td>\n",
       "    </tr>\n",
       "    <tr>\n",
       "      <th>2014-01-01</th>\n",
       "      <td>1033</td>\n",
       "      <td>339</td>\n",
       "      <td>1372</td>\n",
       "      <td>75.291545</td>\n",
       "      <td>24.708455</td>\n",
       "    </tr>\n",
       "    <tr>\n",
       "      <th>2015-01-01</th>\n",
       "      <td>842</td>\n",
       "      <td>232</td>\n",
       "      <td>1074</td>\n",
       "      <td>78.398510</td>\n",
       "      <td>21.601490</td>\n",
       "    </tr>\n",
       "    <tr>\n",
       "      <th>2016-01-01</th>\n",
       "      <td>828</td>\n",
       "      <td>215</td>\n",
       "      <td>1043</td>\n",
       "      <td>79.386385</td>\n",
       "      <td>20.613615</td>\n",
       "    </tr>\n",
       "  </tbody>\n",
       "</table>\n",
       "</div>"
      ],
      "text/plain": [
       "Claim                   0    1   sum  Not Claimed %  Claimed %\n",
       "Year of Observation                                           \n",
       "2012-01-01           1429  422  1851      77.201513  22.798487\n",
       "2013-01-01           1384  424  1808      76.548673  23.451327\n",
       "2014-01-01           1033  339  1372      75.291545  24.708455\n",
       "2015-01-01            842  232  1074      78.398510  21.601490\n",
       "2016-01-01            828  215  1043      79.386385  20.613615"
      ]
     },
     "execution_count": 8,
     "metadata": {},
     "output_type": "execute_result"
    }
   ],
   "source": [
    "df_0 = pd.DataFrame(data.groupby('Year of Observation')[['Claim','Year of Observation']].value_counts(), columns=['Counts'])\n",
    "df_0 = df_0.reset_index()\n",
    "\n",
    "df_0_pivot = df_0.pivot(values = 'Counts', index='Year of Observation', columns=['Claim'])\n",
    "df_0_pivot['sum'] = df_0_pivot[0] + df_0_pivot[1]\n",
    "df_0_pivot['Not Claimed %'] = (df_0_pivot[0]/df_0_pivot['sum'])*100\n",
    "df_0_pivot['Claimed %'] =  (df_0_pivot[1]/df_0_pivot['sum'])*100\n",
    "\n",
    "df_0_pivot"
   ]
  },
  {
   "cell_type": "code",
   "execution_count": 9,
   "id": "e3b90dbd",
   "metadata": {},
   "outputs": [
    {
     "data": {
      "image/png": "[encoded data removed]",
      "text/plain": [
       "<Figure size 432x288 with 1 Axes>"
      ]
     },
     "metadata": {},
     "output_type": "display_data"
    }
   ],
   "source": [
    "df_0_pivot['Claimed %'].plot(kind='bar',title = 'Percentage of Insurance Claimed each Year of Observation')\n",
    "\n",
    "plt.show()"
   ]
  },
  {
   "cell_type": "code",
   "execution_count": 10,
   "id": "3f0ade33",
   "metadata": {},
   "outputs": [
    {
     "data": {
      "image/png": "[encoded data removed]",
      "text/plain": [
       "<Figure size 432x288 with 1 Axes>"
      ]
     },
     "metadata": {},
     "output_type": "display_data"
    }
   ],
   "source": [
    "df_0_pivot['Not Claimed %'].plot(kind='bar',title = 'Percentage of Insurance Not Claimed each Year of Observation')\n",
    "\n",
    "plt.show()"
   ]
  },
  {
   "cell_type": "markdown",
   "id": "e58918cc",
   "metadata": {},
   "source": [
    "# Is the targets variable is balanced?"
   ]
  },
  {
   "cell_type": "code",
   "execution_count": 11,
   "id": "942588f5",
   "metadata": {},
   "outputs": [
    {
     "name": "stderr",
     "output_type": "stream",
     "text": [
      "C:\\Users\\User\\anaconda3\\lib\\site-packages\\seaborn\\_decorators.py:36: FutureWarning: Pass the following variable as a keyword arg: x. From version 0.12, the only valid positional argument will be `data`, and passing other arguments without an explicit keyword will result in an error or misinterpretation.\n",
      "  warnings.warn(\n"
     ]
    },
    {
     "data": {
      "image/png": "[encoded data removed]",
      "text/plain": [
       "<Figure size 432x288 with 1 Axes>"
      ]
     },
     "metadata": {},
     "output_type": "display_data"
    }
   ],
   "source": [
    "sns.countplot(data['Claim'])\n",
    "\n",
    "plt.show()"
   ]
  },
  {
   "cell_type": "markdown",
   "id": "51ed1be7",
   "metadata": {},
   "source": [
    "This Claim column consists of the Insurance Claimed and Not Claimed and the Countplot above visualizes the amount of Insurance Claimed and Not Claimed.\n",
    "Majority of the Insurance happens not to be claimed leaving Insurance Claimed to be the Minority.\n",
    "\n",
    "Why are Majority of the Insurance Not Claimed?\n",
    "This Plot only shows us the majority, to gain futher insight about the Insurance Not Claimed \n",
    "we'd have to check for what Claimed and non claimed insurance consists by comparing with other variables."
   ]
  },
  {
   "cell_type": "markdown",
   "id": "b996acfa",
   "metadata": {},
   "source": [
    "# Does Fenced Building Claim Insurance than Building Not Fenced?"
   ]
  },
  {
   "cell_type": "code",
   "execution_count": 12,
   "id": "781e480a",
   "metadata": {},
   "outputs": [],
   "source": [
    "# Visualize the Insurance Claimed between Fenced Building and Not Fenced Building \n",
    "\n",
    "Fenced_gb = data.groupby('Building Fenced')[['Claim','Building Fenced']].value_counts()\n",
    "df_1 = pd.DataFrame({'Building Type': ['Fenced','Not Fenced'],'Claimed':[901,731], 'Not Claimed':[3531,5032]})"
   ]
  },
  {
   "cell_type": "code",
   "execution_count": 13,
   "id": "91b2745b",
   "metadata": {},
   "outputs": [
    {
     "data": {
      "image/png": "[encoded data removed]",
      "text/plain": [
       "<Figure size 432x288 with 1 Axes>"
      ]
     },
     "metadata": {},
     "output_type": "display_data"
    }
   ],
   "source": [
    "#plot the bar chart\n",
    "n = len(df_1)\n",
    "r = np.arange(n)\n",
    "width = 0.25\n",
    "\n",
    "plt.bar(r,df_1['Claimed'], color = 'darkblue',\n",
    "       width = width, edgecolor = 'black',label='Claim')\n",
    "plt.bar(r + width,df_1['Not Claimed'], color='y',\n",
    "       width = width, edgecolor = 'black',label='Not Claimed')\n",
    "\n",
    "plt.xlabel('Building',fontsize = 14)\n",
    "plt.ylabel('Counts', fontsize = 14)\n",
    "plt.title('Fenced and Not Fenced Insurance Claim Counts',fontsize = 16)\n",
    "plt.grid(False)\n",
    "plt.xticks(r + width/2,['Fenced','Not Fenced'])\n",
    "plt.legend()\n",
    "\n",
    "plt.show()\n"
   ]
  },
  {
   "cell_type": "code",
   "execution_count": 14,
   "id": "25d10aeb",
   "metadata": {},
   "outputs": [
    {
     "data": {
      "text/html": [
       "<div>\n",
       "<style scoped>\n",
       "    .dataframe tbody tr th:only-of-type {\n",
       "        vertical-align: middle;\n",
       "    }\n",
       "\n",
       "    .dataframe tbody tr th {\n",
       "        vertical-align: top;\n",
       "    }\n",
       "\n",
       "    .dataframe thead th {\n",
       "        text-align: right;\n",
       "    }\n",
       "</style>\n",
       "<table border=\"1\" class=\"dataframe\">\n",
       "  <thead>\n",
       "    <tr style=\"text-align: right;\">\n",
       "      <th></th>\n",
       "      <th>Building Type</th>\n",
       "      <th>Claimed</th>\n",
       "      <th>Not Claimed</th>\n",
       "      <th>Claimed %</th>\n",
       "      <th>Not Claimed %</th>\n",
       "    </tr>\n",
       "  </thead>\n",
       "  <tbody>\n",
       "    <tr>\n",
       "      <th>0</th>\n",
       "      <td>Fenced</td>\n",
       "      <td>901</td>\n",
       "      <td>3531</td>\n",
       "      <td>55.208333</td>\n",
       "      <td>41.235548</td>\n",
       "    </tr>\n",
       "    <tr>\n",
       "      <th>1</th>\n",
       "      <td>Not Fenced</td>\n",
       "      <td>731</td>\n",
       "      <td>5032</td>\n",
       "      <td>44.791667</td>\n",
       "      <td>58.764452</td>\n",
       "    </tr>\n",
       "  </tbody>\n",
       "</table>\n",
       "</div>"
      ],
      "text/plain": [
       "  Building Type  Claimed  Not Claimed  Claimed %  Not Claimed %\n",
       "0        Fenced      901         3531  55.208333      41.235548\n",
       "1    Not Fenced      731         5032  44.791667      58.764452"
      ]
     },
     "execution_count": 14,
     "metadata": {},
     "output_type": "execute_result"
    }
   ],
   "source": [
    "df_1['Claimed %'] = (df_1['Claimed']/df_1['Claimed'].sum())*100\n",
    "df_1['Not Claimed %'] = (df_1['Not Claimed']/df_1['Not Claimed'].sum())*100\n",
    "df_1"
   ]
  },
  {
   "cell_type": "code",
   "execution_count": null,
   "id": "11a4bea3",
   "metadata": {},
   "outputs": [],
   "source": []
  },
  {
   "cell_type": "markdown",
   "id": "f4dfe331",
   "metadata": {},
   "source": [
    "According to the visuals \n",
    "Fenced Building does have higher insurance claim than Building Not Fenced \n",
    "The Bar chat also implies that whether a Building is fenced or not, it is not a strong determinant of insurance Claim"
   ]
  },
  {
   "cell_type": "markdown",
   "id": "04053197",
   "metadata": {},
   "source": [
    "# Does Longer Insurance Period Claim Insurance than shorter Period?"
   ]
  },
  {
   "cell_type": "code",
   "execution_count": 15,
   "id": "c9524898",
   "metadata": {},
   "outputs": [
    {
     "data": {
      "image/png": "[encoded data removed]",
      "text/plain": [
       "<Figure size 432x288 with 1 Axes>"
      ]
     },
     "metadata": {},
     "output_type": "display_data"
    }
   ],
   "source": [
    "# Insurance Claim Period \n",
    "\n",
    "df_2 = pd.DataFrame(data.groupby('Insurance Period')[['Claim','Insurance Period']].value_counts(), columns=[\"Counts\"])\n",
    "df_2 = df_2.reset_index()\n",
    "df_pivot = df_2.pivot(index='Insurance Period', values ='Counts', columns=['Claim'])\n",
    "\n",
    "n = len(df_pivot)\n",
    "r = range(n)\n",
    "width = 0.25\n",
    "\n",
    "\n",
    "plt.bar(r,df_pivot.loc[:,0], color='green', \n",
    "       width=width,label=\"Not Claimed\")\n",
    "plt.bar(r,df_pivot.loc[:,1], color='darkblue',\n",
    "       width=width, label=\"Claimed\")\n",
    "plt.xlabel(\"Insurance Period\")\n",
    "plt.ylabel(\"Counts\")\n",
    "plt.xticks(r, ['0-5 Months','6 Months - 1 Year'])\n",
    "plt.legend()\n",
    "\n",
    "plt.show()\n"
   ]
  },
  {
   "cell_type": "code",
   "execution_count": null,
   "id": "cc7c5f54",
   "metadata": {},
   "outputs": [],
   "source": []
  },
  {
   "cell_type": "markdown",
   "id": "3e775ad5",
   "metadata": {},
   "source": [
    "The Insurance period doesn't really explains much on the Insurance Claim\n",
    "but rather shows that Majority of the insurance made are six months upwards"
   ]
  },
  {
   "cell_type": "markdown",
   "id": "b7471dc1",
   "metadata": {},
   "source": [
    "# what is the Percentage of Insurance Claim in Rural areas and Urban areas?"
   ]
  },
  {
   "cell_type": "code",
   "execution_count": 16,
   "id": "e8ccf560",
   "metadata": {
    "scrolled": true
   },
   "outputs": [
    {
     "data": {
      "image/png": "[encoded data removed]",
      "text/plain": [
       "<Figure size 432x288 with 1 Axes>"
      ]
     },
     "metadata": {},
     "output_type": "display_data"
    }
   ],
   "source": [
    "data.groupby('Settlement')['Claim'].value_counts().plot(kind= \"pie\",autopct=\"%1.2f%%\")\n",
    "plt.title(\"Percentage of Insurance Claim across Settlements\",fontsize=15)\n",
    "\n",
    "plt.show()"
   ]
  },
  {
   "cell_type": "code",
   "execution_count": null,
   "id": "6841cb3e",
   "metadata": {},
   "outputs": [],
   "source": []
  },
  {
   "cell_type": "markdown",
   "id": "0195784a",
   "metadata": {},
   "source": [
    "# Does Residential Properties have longer Insurance Period?"
   ]
  },
  {
   "cell_type": "code",
   "execution_count": 17,
   "id": "fcb4f5b2",
   "metadata": {},
   "outputs": [],
   "source": [
    "df_5 = pd.DataFrame(data.groupby('Insurance Period')[['Insurance Period','Residential']].value_counts(),columns=['Counts'])\n",
    "df_5 = df_5.reset_index()"
   ]
  },
  {
   "cell_type": "code",
   "execution_count": 18,
   "id": "9b03b814",
   "metadata": {},
   "outputs": [
    {
     "data": {
      "image/png": "[encoded data removed]",
      "text/plain": [
       "<Figure size 432x360 with 1 Axes>"
      ]
     },
     "metadata": {},
     "output_type": "display_data"
    }
   ],
   "source": [
    "plt.figure(figsize=(6,5))\n",
    "\n",
    "sns.barplot(data=df_5, x='Insurance Period', y= 'Counts',hue=\"Residential\",palette = ['darkblue','green'] )\n",
    "\n",
    "plt.show()"
   ]
  },
  {
   "cell_type": "code",
   "execution_count": 19,
   "id": "3ff15b13",
   "metadata": {},
   "outputs": [],
   "source": [
    "# plot insured period of residential and non residential properties \n",
    "\n",
    "Groupby = pd.DataFrame(data.groupby('Insurance Period')['Residential'].value_counts(),\n",
    "                      \n",
    "                      )\n",
    "Groupby.rename(columns={'Residential':'Counts'},inplace=True)\n",
    "Groupby.reset_index(inplace=True)\n",
    "\n",
    "residential = Groupby[Groupby['Residential'] == 1]\n",
    "non_residential = Groupby[Groupby['Residential'] == 0]\n"
   ]
  },
  {
   "cell_type": "code",
   "execution_count": 20,
   "id": "837487b9",
   "metadata": {},
   "outputs": [
    {
     "data": {
      "image/png": "[encoded data removed]",
      "text/plain": [
       "<Figure size 576x432 with 1 Axes>"
      ]
     },
     "metadata": {},
     "output_type": "display_data"
    }
   ],
   "source": [
    "n = len(residential['Counts'])\n",
    "r = np.arange(n)\n",
    "width = 0.25\n",
    "\n",
    "plt.figure(figsize=(8,6))\n",
    "\n",
    "plt.bar(r,residential['Counts'], color='g',\n",
    "       width = width, edgecolor = 'black',label='Residential')\n",
    "plt.bar(r + width,non_residential['Counts'], color='b',\n",
    "       width = width, edgecolor = 'black',label='Non Residential')\n",
    "\n",
    "plt.xlabel('Insurance',fontsize = 14)\n",
    "plt.ylabel('Counts', fontsize = 14)\n",
    "plt.title('Insurance Period of Residential and Non Residential Properties',fontsize = 20)\n",
    "\n",
    "plt.xticks(r + width/2,['0 - 5 Months','6 Months - 1 Year'])\n",
    "plt.legend()\n",
    "\n",
    "plt.show()"
   ]
  },
  {
   "cell_type": "code",
   "execution_count": 21,
   "id": "e7664d54",
   "metadata": {},
   "outputs": [
    {
     "data": {
      "image/png": "[encoded data removed]",
      "text/plain": [
       "<Figure size 432x360 with 1 Axes>"
      ]
     },
     "metadata": {},
     "output_type": "display_data"
    }
   ],
   "source": [
    "df_6 = pd.DataFrame(data.groupby('Garden')[['Claim','Garden']].value_counts(),columns=['Counts'])\n",
    "df_6 = df_6.reset_index()\n",
    "\n",
    "plt.figure(figsize=(6,5))\n",
    "\n",
    "sns.barplot(data=df_6, x='Garden', y= 'Counts',hue=\"Claim\",palette = ['darkblue','green'] )\n",
    "\n",
    "plt.show()"
   ]
  },
  {
   "cell_type": "markdown",
   "id": "edaca923",
   "metadata": {},
   "source": [
    "# Conclusion"
   ]
  },
  {
   "cell_type": "code",
   "execution_count": 22,
   "id": "6f148868",
   "metadata": {},
   "outputs": [
    {
     "ename": "SyntaxError",
     "evalue": "invalid syntax (4080750429.py, line 1)",
     "output_type": "error",
     "traceback": [
      "\u001b[1;36m  Input \u001b[1;32mIn [22]\u001b[1;36m\u001b[0m\n\u001b[1;33m    Based on the brief analysis done on this Insurance dataset to discover the catergorical variables that contributes most to the target variable\u001b[0m\n\u001b[1;37m          ^\u001b[0m\n\u001b[1;31mSyntaxError\u001b[0m\u001b[1;31m:\u001b[0m invalid syntax\n"
     ]
    }
   ],
   "source": [
    "Based on the brief analysis done on this Insurance dataset to discover the catergorical variables that contributes most to the target variable \n",
    "(claimed & Not claimed).\n",
    "\n",
    "We were able to discover that the insurance made declines as the year passes by \n"
   ]
  },
  {
   "cell_type": "code",
   "execution_count": null,
   "id": "2e1381b2",
   "metadata": {},
   "outputs": [],
   "source": []
  }
 ],
 "metadata": {
  "kernelspec": {
   "display_name": "Python 3 (ipykernel)",
   "language": "python",
   "name": "python3"
  },
  "language_info": {
   "codemirror_mode": {
    "name": "ipython",
    "version": 3
   },
   "file_extension": ".py",
   "mimetype": "text/x-python",
   "name": "python",
   "nbconvert_exporter": "python",
   "pygments_lexer": "ipython3",
   "version": "3.9.12"
  }
 },
 "nbformat": 4,
 "nbformat_minor": 5
}
