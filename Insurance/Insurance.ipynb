{
 "cells": [
  {
   "cell_type": "code",
   "execution_count": 1,
   "id": "6bf0afea",
   "metadata": {},
   "outputs": [],
   "source": [
    "# Libraries\n",
    "import warnings\n",
    "warnings.filterwarnings('ignore')\n",
    "import numpy as np\n",
    "import pandas as pd\n",
    "import matplotlib.pyplot as plt\n",
    "%matplotlib inline\n",
    "import seaborn as sns"
   ]
  },
  {
   "cell_type": "code",
   "execution_count": 2,
   "id": "42f56c3d",
   "metadata": {
    "scrolled": true
   },
   "outputs": [],
   "source": [
    "# Read The Data\n",
    "\n",
    "df = pd.read_csv('InsuranceData.csv')\n",
    "# drop columns\n",
    "#df.drop(['Unnamed: 0','Customer Id'], axis=1, inplace=True)\n",
    "\n",
    "#df.reset_index(drop=True, inplace=True)"
   ]
  },
  {
   "cell_type": "code",
   "execution_count": 3,
   "id": "ea3c6427",
   "metadata": {},
   "outputs": [
    {
     "data": {
      "text/html": [
       "<div>\n",
       "<style scoped>\n",
       "    .dataframe tbody tr th:only-of-type {\n",
       "        vertical-align: middle;\n",
       "    }\n",
       "\n",
       "    .dataframe tbody tr th {\n",
       "        vertical-align: top;\n",
       "    }\n",
       "\n",
       "    .dataframe thead th {\n",
       "        text-align: right;\n",
       "    }\n",
       "</style>\n",
       "<table border=\"1\" class=\"dataframe\">\n",
       "  <thead>\n",
       "    <tr style=\"text-align: right;\">\n",
       "      <th></th>\n",
       "      <th>Unnamed: 0</th>\n",
       "      <th>Customer Id</th>\n",
       "      <th>YearOfObservation</th>\n",
       "      <th>Insured_Period</th>\n",
       "      <th>Residential</th>\n",
       "      <th>Building_Painted</th>\n",
       "      <th>Building_Fenced</th>\n",
       "      <th>Garden</th>\n",
       "      <th>Settlement</th>\n",
       "      <th>Building Dimension</th>\n",
       "      <th>Building_Type</th>\n",
       "      <th>Date_of_Occupancy</th>\n",
       "      <th>NumberOfWindows</th>\n",
       "      <th>Geo_Code</th>\n",
       "      <th>Claim</th>\n",
       "    </tr>\n",
       "  </thead>\n",
       "  <tbody>\n",
       "    <tr>\n",
       "      <th>0</th>\n",
       "      <td>0</td>\n",
       "      <td>H14663</td>\n",
       "      <td>2013</td>\n",
       "      <td>1.0</td>\n",
       "      <td>0</td>\n",
       "      <td>N</td>\n",
       "      <td>V</td>\n",
       "      <td>V</td>\n",
       "      <td>U</td>\n",
       "      <td>290.0</td>\n",
       "      <td>1</td>\n",
       "      <td>1960.0</td>\n",
       "      <td>.</td>\n",
       "      <td>1053</td>\n",
       "      <td>0.0</td>\n",
       "    </tr>\n",
       "    <tr>\n",
       "      <th>1</th>\n",
       "      <td>1</td>\n",
       "      <td>H2037</td>\n",
       "      <td>2015</td>\n",
       "      <td>1.0</td>\n",
       "      <td>0</td>\n",
       "      <td>V</td>\n",
       "      <td>N</td>\n",
       "      <td>O</td>\n",
       "      <td>R</td>\n",
       "      <td>490.0</td>\n",
       "      <td>1</td>\n",
       "      <td>1850.0</td>\n",
       "      <td>4</td>\n",
       "      <td>1053</td>\n",
       "      <td>0.0</td>\n",
       "    </tr>\n",
       "    <tr>\n",
       "      <th>2</th>\n",
       "      <td>2</td>\n",
       "      <td>H3802</td>\n",
       "      <td>2014</td>\n",
       "      <td>1.0</td>\n",
       "      <td>0</td>\n",
       "      <td>N</td>\n",
       "      <td>V</td>\n",
       "      <td>V</td>\n",
       "      <td>U</td>\n",
       "      <td>595.0</td>\n",
       "      <td>1</td>\n",
       "      <td>1960.0</td>\n",
       "      <td>.</td>\n",
       "      <td>1053</td>\n",
       "      <td>0.0</td>\n",
       "    </tr>\n",
       "    <tr>\n",
       "      <th>3</th>\n",
       "      <td>3</td>\n",
       "      <td>H3834</td>\n",
       "      <td>2013</td>\n",
       "      <td>1.0</td>\n",
       "      <td>0</td>\n",
       "      <td>V</td>\n",
       "      <td>V</td>\n",
       "      <td>V</td>\n",
       "      <td>U</td>\n",
       "      <td>2840.0</td>\n",
       "      <td>1</td>\n",
       "      <td>1960.0</td>\n",
       "      <td>.</td>\n",
       "      <td>1053</td>\n",
       "      <td>0.0</td>\n",
       "    </tr>\n",
       "    <tr>\n",
       "      <th>4</th>\n",
       "      <td>4</td>\n",
       "      <td>H5053</td>\n",
       "      <td>2014</td>\n",
       "      <td>1.0</td>\n",
       "      <td>0</td>\n",
       "      <td>V</td>\n",
       "      <td>N</td>\n",
       "      <td>O</td>\n",
       "      <td>R</td>\n",
       "      <td>680.0</td>\n",
       "      <td>1</td>\n",
       "      <td>1800.0</td>\n",
       "      <td>3</td>\n",
       "      <td>1053</td>\n",
       "      <td>0.0</td>\n",
       "    </tr>\n",
       "  </tbody>\n",
       "</table>\n",
       "</div>"
      ],
      "text/plain": [
       "   Unnamed: 0 Customer Id  YearOfObservation  Insured_Period  Residential  \\\n",
       "0           0      H14663               2013             1.0            0   \n",
       "1           1       H2037               2015             1.0            0   \n",
       "2           2       H3802               2014             1.0            0   \n",
       "3           3       H3834               2013             1.0            0   \n",
       "4           4       H5053               2014             1.0            0   \n",
       "\n",
       "  Building_Painted Building_Fenced Garden Settlement  Building Dimension  \\\n",
       "0                N               V      V          U               290.0   \n",
       "1                V               N      O          R               490.0   \n",
       "2                N               V      V          U               595.0   \n",
       "3                V               V      V          U              2840.0   \n",
       "4                V               N      O          R               680.0   \n",
       "\n",
       "   Building_Type  Date_of_Occupancy NumberOfWindows Geo_Code  Claim  \n",
       "0              1             1960.0               .     1053    0.0  \n",
       "1              1             1850.0               4     1053    0.0  \n",
       "2              1             1960.0               .     1053    0.0  \n",
       "3              1             1960.0               .     1053    0.0  \n",
       "4              1             1800.0               3     1053    0.0  "
      ]
     },
     "execution_count": 3,
     "metadata": {},
     "output_type": "execute_result"
    }
   ],
   "source": [
    "df.head()"
   ]
  },
  {
   "cell_type": "code",
   "execution_count": 4,
   "id": "b0e9dad0",
   "metadata": {},
   "outputs": [],
   "source": [
    "# Remove unnamed and customer column\n",
    "df.drop(['Unnamed: 0','Customer Id'], axis=1, inplace=True)\n",
    "\n",
    "df.reset_index(drop=True, inplace=True)"
   ]
  },
  {
   "cell_type": "code",
   "execution_count": 14,
   "id": "8288bcdb",
   "metadata": {},
   "outputs": [
    {
     "data": {
      "text/html": [
       "<div>\n",
       "<style scoped>\n",
       "    .dataframe tbody tr th:only-of-type {\n",
       "        vertical-align: middle;\n",
       "    }\n",
       "\n",
       "    .dataframe tbody tr th {\n",
       "        vertical-align: top;\n",
       "    }\n",
       "\n",
       "    .dataframe thead th {\n",
       "        text-align: right;\n",
       "    }\n",
       "</style>\n",
       "<table border=\"1\" class=\"dataframe\">\n",
       "  <thead>\n",
       "    <tr style=\"text-align: right;\">\n",
       "      <th></th>\n",
       "      <th>YearOfObservation</th>\n",
       "      <th>Insured_Period</th>\n",
       "      <th>Residential</th>\n",
       "      <th>Building_Painted</th>\n",
       "      <th>Building_Fenced</th>\n",
       "      <th>Garden</th>\n",
       "      <th>Settlement</th>\n",
       "      <th>Building Dimension</th>\n",
       "      <th>Building_Type</th>\n",
       "      <th>Date_of_Occupancy</th>\n",
       "      <th>NumberOfWindows</th>\n",
       "      <th>Geo_Code</th>\n",
       "      <th>Claim</th>\n",
       "    </tr>\n",
       "  </thead>\n",
       "  <tbody>\n",
       "    <tr>\n",
       "      <th>0</th>\n",
       "      <td>2013</td>\n",
       "      <td>1.0</td>\n",
       "      <td>0</td>\n",
       "      <td>N</td>\n",
       "      <td>V</td>\n",
       "      <td>V</td>\n",
       "      <td>U</td>\n",
       "      <td>290.0</td>\n",
       "      <td>1</td>\n",
       "      <td>1960.0</td>\n",
       "      <td>.</td>\n",
       "      <td>1053</td>\n",
       "      <td>0.0</td>\n",
       "    </tr>\n",
       "    <tr>\n",
       "      <th>1</th>\n",
       "      <td>2015</td>\n",
       "      <td>1.0</td>\n",
       "      <td>0</td>\n",
       "      <td>V</td>\n",
       "      <td>N</td>\n",
       "      <td>O</td>\n",
       "      <td>R</td>\n",
       "      <td>490.0</td>\n",
       "      <td>1</td>\n",
       "      <td>1850.0</td>\n",
       "      <td>4</td>\n",
       "      <td>1053</td>\n",
       "      <td>0.0</td>\n",
       "    </tr>\n",
       "    <tr>\n",
       "      <th>2</th>\n",
       "      <td>2014</td>\n",
       "      <td>1.0</td>\n",
       "      <td>0</td>\n",
       "      <td>N</td>\n",
       "      <td>V</td>\n",
       "      <td>V</td>\n",
       "      <td>U</td>\n",
       "      <td>595.0</td>\n",
       "      <td>1</td>\n",
       "      <td>1960.0</td>\n",
       "      <td>.</td>\n",
       "      <td>1053</td>\n",
       "      <td>0.0</td>\n",
       "    </tr>\n",
       "    <tr>\n",
       "      <th>3</th>\n",
       "      <td>2013</td>\n",
       "      <td>1.0</td>\n",
       "      <td>0</td>\n",
       "      <td>V</td>\n",
       "      <td>V</td>\n",
       "      <td>V</td>\n",
       "      <td>U</td>\n",
       "      <td>2840.0</td>\n",
       "      <td>1</td>\n",
       "      <td>1960.0</td>\n",
       "      <td>.</td>\n",
       "      <td>1053</td>\n",
       "      <td>0.0</td>\n",
       "    </tr>\n",
       "    <tr>\n",
       "      <th>4</th>\n",
       "      <td>2014</td>\n",
       "      <td>1.0</td>\n",
       "      <td>0</td>\n",
       "      <td>V</td>\n",
       "      <td>N</td>\n",
       "      <td>O</td>\n",
       "      <td>R</td>\n",
       "      <td>680.0</td>\n",
       "      <td>1</td>\n",
       "      <td>1800.0</td>\n",
       "      <td>3</td>\n",
       "      <td>1053</td>\n",
       "      <td>0.0</td>\n",
       "    </tr>\n",
       "  </tbody>\n",
       "</table>\n",
       "</div>"
      ],
      "text/plain": [
       "   YearOfObservation  Insured_Period  Residential Building_Painted  \\\n",
       "0               2013             1.0            0                N   \n",
       "1               2015             1.0            0                V   \n",
       "2               2014             1.0            0                N   \n",
       "3               2013             1.0            0                V   \n",
       "4               2014             1.0            0                V   \n",
       "\n",
       "  Building_Fenced Garden Settlement  Building Dimension  Building_Type  \\\n",
       "0               V      V          U               290.0              1   \n",
       "1               N      O          R               490.0              1   \n",
       "2               V      V          U               595.0              1   \n",
       "3               V      V          U              2840.0              1   \n",
       "4               N      O          R               680.0              1   \n",
       "\n",
       "   Date_of_Occupancy NumberOfWindows Geo_Code  Claim  \n",
       "0             1960.0               .     1053    0.0  \n",
       "1             1850.0               4     1053    0.0  \n",
       "2             1960.0               .     1053    0.0  \n",
       "3             1960.0               .     1053    0.0  \n",
       "4             1800.0               3     1053    0.0  "
      ]
     },
     "execution_count": 14,
     "metadata": {},
     "output_type": "execute_result"
    }
   ],
   "source": [
    "df.head()"
   ]
  },
  {
   "cell_type": "code",
   "execution_count": 6,
   "id": "2cca0141",
   "metadata": {},
   "outputs": [
    {
     "data": {
      "text/plain": [
       "(10229, 13)"
      ]
     },
     "execution_count": 6,
     "metadata": {},
     "output_type": "execute_result"
    }
   ],
   "source": [
    "df.shape"
   ]
  },
  {
   "cell_type": "code",
   "execution_count": null,
   "id": "133f0c12",
   "metadata": {},
   "outputs": [],
   "source": []
  },
  {
   "cell_type": "markdown",
   "id": "14405dea",
   "metadata": {},
   "source": [
    "**EXPLORATION DATA ANALYSIS**"
   ]
  },
  {
   "cell_type": "code",
   "execution_count": 5,
   "id": "229b2d7d",
   "metadata": {
    "scrolled": false
   },
   "outputs": [
    {
     "name": "stdout",
     "output_type": "stream",
     "text": [
      "<class 'pandas.core.frame.DataFrame'>\n",
      "RangeIndex: 10229 entries, 0 to 10228\n",
      "Data columns (total 13 columns):\n",
      " #   Column              Non-Null Count  Dtype  \n",
      "---  ------              --------------  -----  \n",
      " 0   YearOfObservation   10229 non-null  int64  \n",
      " 1   Insured_Period      10229 non-null  float64\n",
      " 2   Residential         10229 non-null  int64  \n",
      " 3   Building_Painted    10229 non-null  object \n",
      " 4   Building_Fenced     10229 non-null  object \n",
      " 5   Garden              10218 non-null  object \n",
      " 6   Settlement          10229 non-null  object \n",
      " 7   Building Dimension  10110 non-null  float64\n",
      " 8   Building_Type       10229 non-null  int64  \n",
      " 9   Date_of_Occupancy   8993 non-null   float64\n",
      " 10  NumberOfWindows     10229 non-null  object \n",
      " 11  Geo_Code            10114 non-null  object \n",
      " 12  Claim               7160 non-null   float64\n",
      "dtypes: float64(4), int64(3), object(6)\n",
      "memory usage: 1.0+ MB\n"
     ]
    }
   ],
   "source": [
    "df.info()"
   ]
  },
  {
   "cell_type": "code",
   "execution_count": 6,
   "id": "59232547",
   "metadata": {
    "scrolled": false
   },
   "outputs": [
    {
     "name": "stdout",
     "output_type": "stream",
     "text": [
      "Data Shape : \t (10229, 13) \n",
      "\n",
      "% Of NAN Values :\n",
      " \n",
      "YearOfObservation      0.000000\n",
      "Insured_Period         0.000000\n",
      "Residential            0.000000\n",
      "Building_Painted       0.000000\n",
      "Building_Fenced        0.000000\n",
      "Garden                 0.107537\n",
      "Settlement             0.000000\n",
      "Building Dimension     1.163359\n",
      "Building_Type          0.000000\n",
      "Date_of_Occupancy     12.083293\n",
      "NumberOfWindows        0.000000\n",
      "Geo_Code               1.124255\n",
      "Claim                 30.002933\n",
      "dtype: float64\n",
      "\n",
      "Sum Of Duplicate Values :\t 34\n"
     ]
    }
   ],
   "source": [
    "# Data Statistics \n",
    "print(f'Data Shape : \\t {df.shape} \\n')\n",
    "print(f'% Of NAN Values :\\n \\n{df.isna().sum()/len(df)*100}\\n')\n",
    "print(f'Sum Of Duplicate Values :\\t {df.duplicated().sum()}')"
   ]
  },
  {
   "cell_type": "code",
   "execution_count": 7,
   "id": "122df7a2",
   "metadata": {},
   "outputs": [
    {
     "data": {
      "text/html": [
       "<div>\n",
       "<style scoped>\n",
       "    .dataframe tbody tr th:only-of-type {\n",
       "        vertical-align: middle;\n",
       "    }\n",
       "\n",
       "    .dataframe tbody tr th {\n",
       "        vertical-align: top;\n",
       "    }\n",
       "\n",
       "    .dataframe thead th {\n",
       "        text-align: right;\n",
       "    }\n",
       "</style>\n",
       "<table border=\"1\" class=\"dataframe\">\n",
       "  <thead>\n",
       "    <tr style=\"text-align: right;\">\n",
       "      <th></th>\n",
       "      <th>YearOfObservation</th>\n",
       "      <th>Insured_Period</th>\n",
       "      <th>Residential</th>\n",
       "      <th>Building Dimension</th>\n",
       "      <th>Building_Type</th>\n",
       "      <th>Date_of_Occupancy</th>\n",
       "      <th>Claim</th>\n",
       "    </tr>\n",
       "  </thead>\n",
       "  <tbody>\n",
       "    <tr>\n",
       "      <th>count</th>\n",
       "      <td>10229.000000</td>\n",
       "      <td>10229.000000</td>\n",
       "      <td>10229.000000</td>\n",
       "      <td>10110.000000</td>\n",
       "      <td>10229.000000</td>\n",
       "      <td>8993.000000</td>\n",
       "      <td>7160.000000</td>\n",
       "    </tr>\n",
       "    <tr>\n",
       "      <th>mean</th>\n",
       "      <td>2013.646789</td>\n",
       "      <td>0.913672</td>\n",
       "      <td>0.281064</td>\n",
       "      <td>1818.152918</td>\n",
       "      <td>2.238049</td>\n",
       "      <td>1965.061715</td>\n",
       "      <td>0.228212</td>\n",
       "    </tr>\n",
       "    <tr>\n",
       "      <th>std</th>\n",
       "      <td>1.380660</td>\n",
       "      <td>0.233806</td>\n",
       "      <td>0.449540</td>\n",
       "      <td>2272.111284</td>\n",
       "      <td>0.961589</td>\n",
       "      <td>33.548619</td>\n",
       "      <td>0.419709</td>\n",
       "    </tr>\n",
       "    <tr>\n",
       "      <th>min</th>\n",
       "      <td>2012.000000</td>\n",
       "      <td>0.000000</td>\n",
       "      <td>0.000000</td>\n",
       "      <td>1.000000</td>\n",
       "      <td>1.000000</td>\n",
       "      <td>1545.000000</td>\n",
       "      <td>0.000000</td>\n",
       "    </tr>\n",
       "    <tr>\n",
       "      <th>25%</th>\n",
       "      <td>2012.000000</td>\n",
       "      <td>1.000000</td>\n",
       "      <td>0.000000</td>\n",
       "      <td>500.000000</td>\n",
       "      <td>2.000000</td>\n",
       "      <td>1960.000000</td>\n",
       "      <td>0.000000</td>\n",
       "    </tr>\n",
       "    <tr>\n",
       "      <th>50%</th>\n",
       "      <td>2013.000000</td>\n",
       "      <td>1.000000</td>\n",
       "      <td>0.000000</td>\n",
       "      <td>1002.000000</td>\n",
       "      <td>2.000000</td>\n",
       "      <td>1970.000000</td>\n",
       "      <td>0.000000</td>\n",
       "    </tr>\n",
       "    <tr>\n",
       "      <th>75%</th>\n",
       "      <td>2015.000000</td>\n",
       "      <td>1.000000</td>\n",
       "      <td>1.000000</td>\n",
       "      <td>2190.000000</td>\n",
       "      <td>3.000000</td>\n",
       "      <td>1980.000000</td>\n",
       "      <td>0.000000</td>\n",
       "    </tr>\n",
       "    <tr>\n",
       "      <th>max</th>\n",
       "      <td>2016.000000</td>\n",
       "      <td>1.000000</td>\n",
       "      <td>1.000000</td>\n",
       "      <td>30745.000000</td>\n",
       "      <td>4.000000</td>\n",
       "      <td>2016.000000</td>\n",
       "      <td>1.000000</td>\n",
       "    </tr>\n",
       "  </tbody>\n",
       "</table>\n",
       "</div>"
      ],
      "text/plain": [
       "       YearOfObservation  Insured_Period   Residential  Building Dimension  \\\n",
       "count       10229.000000    10229.000000  10229.000000        10110.000000   \n",
       "mean         2013.646789        0.913672      0.281064         1818.152918   \n",
       "std             1.380660        0.233806      0.449540         2272.111284   \n",
       "min          2012.000000        0.000000      0.000000            1.000000   \n",
       "25%          2012.000000        1.000000      0.000000          500.000000   \n",
       "50%          2013.000000        1.000000      0.000000         1002.000000   \n",
       "75%          2015.000000        1.000000      1.000000         2190.000000   \n",
       "max          2016.000000        1.000000      1.000000        30745.000000   \n",
       "\n",
       "       Building_Type  Date_of_Occupancy        Claim  \n",
       "count   10229.000000        8993.000000  7160.000000  \n",
       "mean        2.238049        1965.061715     0.228212  \n",
       "std         0.961589          33.548619     0.419709  \n",
       "min         1.000000        1545.000000     0.000000  \n",
       "25%         2.000000        1960.000000     0.000000  \n",
       "50%         2.000000        1970.000000     0.000000  \n",
       "75%         3.000000        1980.000000     0.000000  \n",
       "max         4.000000        2016.000000     1.000000  "
      ]
     },
     "execution_count": 7,
     "metadata": {},
     "output_type": "execute_result"
    }
   ],
   "source": [
    "df.describe()"
   ]
  },
  {
   "cell_type": "markdown",
   "id": "03958b2c",
   "metadata": {},
   "source": [
    "**DATA ENGINEERING**"
   ]
  },
  {
   "cell_type": "code",
   "execution_count": 34,
   "id": "cd05cbb5",
   "metadata": {},
   "outputs": [],
   "source": [
    "# Rename Columns \n",
    "# df.rename({'Insured_Period':'Insurance Period', 'Building_Type':'Building Type', 'Date_of_Occupancy':'Date Of Occupancy'},\n",
    "#          axis=1, inplace=True)"
   ]
  },
  {
   "cell_type": "code",
   "execution_count": 33,
   "id": "288e1adb",
   "metadata": {},
   "outputs": [
    {
     "data": {
      "text/html": [
       "<div>\n",
       "<style scoped>\n",
       "    .dataframe tbody tr th:only-of-type {\n",
       "        vertical-align: middle;\n",
       "    }\n",
       "\n",
       "    .dataframe tbody tr th {\n",
       "        vertical-align: top;\n",
       "    }\n",
       "\n",
       "    .dataframe thead th {\n",
       "        text-align: right;\n",
       "    }\n",
       "</style>\n",
       "<table border=\"1\" class=\"dataframe\">\n",
       "  <thead>\n",
       "    <tr style=\"text-align: right;\">\n",
       "      <th></th>\n",
       "      <th>YearOfObservation</th>\n",
       "      <th>Insurance Period</th>\n",
       "      <th>Residential</th>\n",
       "      <th>Building_Painted</th>\n",
       "      <th>Building_Fenced</th>\n",
       "      <th>Garden</th>\n",
       "      <th>Settlement</th>\n",
       "      <th>Building Dimension</th>\n",
       "      <th>Building Type</th>\n",
       "      <th>Date Of Occupancy</th>\n",
       "      <th>NumberOfWindows</th>\n",
       "      <th>Geo_Code</th>\n",
       "      <th>Claim</th>\n",
       "    </tr>\n",
       "  </thead>\n",
       "  <tbody>\n",
       "    <tr>\n",
       "      <th>0</th>\n",
       "      <td>2013</td>\n",
       "      <td>6 Months - 1 Year</td>\n",
       "      <td>0</td>\n",
       "      <td>Painted</td>\n",
       "      <td>V</td>\n",
       "      <td>V</td>\n",
       "      <td>U</td>\n",
       "      <td>290.0</td>\n",
       "      <td>1</td>\n",
       "      <td>1960.0</td>\n",
       "      <td>.</td>\n",
       "      <td>1053</td>\n",
       "      <td>0.0</td>\n",
       "    </tr>\n",
       "    <tr>\n",
       "      <th>1</th>\n",
       "      <td>2015</td>\n",
       "      <td>6 Months - 1 Year</td>\n",
       "      <td>0</td>\n",
       "      <td>Not Painted</td>\n",
       "      <td>N</td>\n",
       "      <td>O</td>\n",
       "      <td>R</td>\n",
       "      <td>490.0</td>\n",
       "      <td>1</td>\n",
       "      <td>1850.0</td>\n",
       "      <td>4</td>\n",
       "      <td>1053</td>\n",
       "      <td>0.0</td>\n",
       "    </tr>\n",
       "    <tr>\n",
       "      <th>2</th>\n",
       "      <td>2014</td>\n",
       "      <td>6 Months - 1 Year</td>\n",
       "      <td>0</td>\n",
       "      <td>Painted</td>\n",
       "      <td>V</td>\n",
       "      <td>V</td>\n",
       "      <td>U</td>\n",
       "      <td>595.0</td>\n",
       "      <td>1</td>\n",
       "      <td>1960.0</td>\n",
       "      <td>.</td>\n",
       "      <td>1053</td>\n",
       "      <td>0.0</td>\n",
       "    </tr>\n",
       "    <tr>\n",
       "      <th>3</th>\n",
       "      <td>2013</td>\n",
       "      <td>6 Months - 1 Year</td>\n",
       "      <td>0</td>\n",
       "      <td>Not Painted</td>\n",
       "      <td>V</td>\n",
       "      <td>V</td>\n",
       "      <td>U</td>\n",
       "      <td>2840.0</td>\n",
       "      <td>1</td>\n",
       "      <td>1960.0</td>\n",
       "      <td>.</td>\n",
       "      <td>1053</td>\n",
       "      <td>0.0</td>\n",
       "    </tr>\n",
       "    <tr>\n",
       "      <th>4</th>\n",
       "      <td>2014</td>\n",
       "      <td>6 Months - 1 Year</td>\n",
       "      <td>0</td>\n",
       "      <td>Not Painted</td>\n",
       "      <td>N</td>\n",
       "      <td>O</td>\n",
       "      <td>R</td>\n",
       "      <td>680.0</td>\n",
       "      <td>1</td>\n",
       "      <td>1800.0</td>\n",
       "      <td>3</td>\n",
       "      <td>1053</td>\n",
       "      <td>0.0</td>\n",
       "    </tr>\n",
       "  </tbody>\n",
       "</table>\n",
       "</div>"
      ],
      "text/plain": [
       "   YearOfObservation   Insurance Period  Residential Building_Painted  \\\n",
       "0               2013  6 Months - 1 Year            0          Painted   \n",
       "1               2015  6 Months - 1 Year            0      Not Painted   \n",
       "2               2014  6 Months - 1 Year            0          Painted   \n",
       "3               2013  6 Months - 1 Year            0      Not Painted   \n",
       "4               2014  6 Months - 1 Year            0      Not Painted   \n",
       "\n",
       "  Building_Fenced Garden Settlement  Building Dimension  Building Type  \\\n",
       "0               V      V          U               290.0              1   \n",
       "1               N      O          R               490.0              1   \n",
       "2               V      V          U               595.0              1   \n",
       "3               V      V          U              2840.0              1   \n",
       "4               N      O          R               680.0              1   \n",
       "\n",
       "   Date Of Occupancy NumberOfWindows Geo_Code  Claim  \n",
       "0             1960.0               .     1053    0.0  \n",
       "1             1850.0               4     1053    0.0  \n",
       "2             1960.0               .     1053    0.0  \n",
       "3             1960.0               .     1053    0.0  \n",
       "4             1800.0               3     1053    0.0  "
      ]
     },
     "execution_count": 33,
     "metadata": {},
     "output_type": "execute_result"
    }
   ],
   "source": [
    "df.head()"
   ]
  },
  {
   "cell_type": "code",
   "execution_count": 5,
   "id": "a6c2e2c2",
   "metadata": {
    "scrolled": true
   },
   "outputs": [
    {
     "data": {
      "text/plain": [
       "array(['6 Months - 1 Year', '0 - 5 Months'], dtype=object)"
      ]
     },
     "execution_count": 5,
     "metadata": {},
     "output_type": "execute_result"
    }
   ],
   "source": [
    "# Type Conversion\n",
    "df['Insured_Period'] = pd.to_numeric(df['Insured_Period'])\n",
    "\n",
    "# Filtering\n",
    "dfLess50Percent = df[df['Insured_Period'] <= 0.50]\n",
    "dfOver50Percent = df[df['Insured_Period'] > 0.50]\n",
    "\n",
    "# Values Replacement\n",
    "df['Insured_Period'].replace(dfLess50Percent['Insured_Period'].values, \"0 - 5 Months\", inplace=True)\n",
    "df['Insured_Period'].replace(dfOver50Percent['Insured_Period'].values, \"6 Months - 1 Year\", inplace=True)\n",
    "\n",
    "# Unique Values\n",
    "df['Insured_Period'].unique()"
   ]
  },
  {
   "cell_type": "code",
   "execution_count": 6,
   "id": "753acd09",
   "metadata": {},
   "outputs": [
    {
     "data": {
      "text/plain": [
       "array([2013, 2015, 2014, 2012, 2016], dtype=int64)"
      ]
     },
     "execution_count": 6,
     "metadata": {},
     "output_type": "execute_result"
    }
   ],
   "source": [
    "df['YearOfObservation'].unique()"
   ]
  },
  {
   "cell_type": "code",
   "execution_count": 7,
   "id": "598ba48a",
   "metadata": {},
   "outputs": [],
   "source": [
    "# Replace (N-Painted, V-Not Painted)\n",
    "df['Building_Painted'].replace('N', 'Painted', inplace=True)\n",
    "df['Building_Painted'].replace('V', 'Not Painted', inplace=True)"
   ]
  },
  {
   "cell_type": "code",
   "execution_count": 8,
   "id": "7a15406d",
   "metadata": {},
   "outputs": [],
   "source": [
    "# Replace (V-has garden; O-no garden)\n",
    "df['Garden'].replace('V', 'Has Garden', inplace=True)\n",
    "df['Garden'].replace('O', 'No Garden', inplace=True)"
   ]
  },
  {
   "cell_type": "code",
   "execution_count": 9,
   "id": "d65fa06f",
   "metadata": {},
   "outputs": [],
   "source": [
    "# Replace (N-Fenced, V-Not Fenced)\n",
    "df['Building_Fenced'].replace({'N':'Fenced','V':'Not Fenced'},inplace=True)"
   ]
  },
  {
   "cell_type": "code",
   "execution_count": 10,
   "id": "0883056e",
   "metadata": {},
   "outputs": [],
   "source": [
    "# Replace (R- rural area; U- urban area)\n",
    "df['Settlement'].replace({'R': 'Rural area','U': 'Urban area'},inplace=True)"
   ]
  },
  {
   "cell_type": "code",
   "execution_count": 11,
   "id": "7f4614b2",
   "metadata": {},
   "outputs": [],
   "source": [
    "#  Rename columns\n",
    "df.rename({'Insured_Period':'Insurance Period', \n",
    "           'Building_Type':'Building Type', \n",
    "           'Building_Painted': 'Building Painted',\n",
    "           'Building_Fenced' : 'Building Fenced',\n",
    "           'NumberOfWindows' : 'Number of Windows',\n",
    "           'Geo_Code': 'Geo Code',\n",
    "           'Date_of_Occupancy':'Date Of Occupancy',\n",
    "           'YearOfObservation':'Year of Observation'},\n",
    "          axis=1, inplace=True)"
   ]
  },
  {
   "cell_type": "code",
   "execution_count": 12,
   "id": "26636bd5",
   "metadata": {},
   "outputs": [
    {
     "data": {
      "text/plain": [
       "array(['   .', '4', '3', '2', '5', '>=10', '6', '7', '9', '8', '1'],\n",
       "      dtype=object)"
      ]
     },
     "execution_count": 12,
     "metadata": {},
     "output_type": "execute_result"
    }
   ],
   "source": [
    "df['Number of Windows'].unique()"
   ]
  },
  {
   "cell_type": "code",
   "execution_count": 13,
   "id": "55786b4e",
   "metadata": {},
   "outputs": [],
   "source": [
    "# Replace incosistent '  .' with 0 and '>=10' with 10\n",
    "df['Number of Windows'].replace({'   .':0, '>=10':10}, inplace=True)\n",
    "\n",
    "# change to dtype to int64\n",
    "df['Number of Windows'] = df['Number of Windows'].astype('int64')"
   ]
  },
  {
   "cell_type": "code",
   "execution_count": 14,
   "id": "b77c73f1",
   "metadata": {},
   "outputs": [
    {
     "data": {
      "text/html": [
       "<div>\n",
       "<style scoped>\n",
       "    .dataframe tbody tr th:only-of-type {\n",
       "        vertical-align: middle;\n",
       "    }\n",
       "\n",
       "    .dataframe tbody tr th {\n",
       "        vertical-align: top;\n",
       "    }\n",
       "\n",
       "    .dataframe thead th {\n",
       "        text-align: right;\n",
       "    }\n",
       "</style>\n",
       "<table border=\"1\" class=\"dataframe\">\n",
       "  <thead>\n",
       "    <tr style=\"text-align: right;\">\n",
       "      <th></th>\n",
       "      <th>Year of Observation</th>\n",
       "      <th>Insurance Period</th>\n",
       "      <th>Residential</th>\n",
       "      <th>Building Painted</th>\n",
       "      <th>Building Fenced</th>\n",
       "      <th>Garden</th>\n",
       "      <th>Settlement</th>\n",
       "      <th>Building Dimension</th>\n",
       "      <th>Building Type</th>\n",
       "      <th>Date Of Occupancy</th>\n",
       "      <th>Number of Windows</th>\n",
       "      <th>Geo Code</th>\n",
       "      <th>Claim</th>\n",
       "    </tr>\n",
       "  </thead>\n",
       "  <tbody>\n",
       "    <tr>\n",
       "      <th>0</th>\n",
       "      <td>2013</td>\n",
       "      <td>6 Months - 1 Year</td>\n",
       "      <td>0</td>\n",
       "      <td>Painted</td>\n",
       "      <td>Not Fenced</td>\n",
       "      <td>Has Garden</td>\n",
       "      <td>Urban area</td>\n",
       "      <td>290.0</td>\n",
       "      <td>1</td>\n",
       "      <td>1960.0</td>\n",
       "      <td>0</td>\n",
       "      <td>1053</td>\n",
       "      <td>0.0</td>\n",
       "    </tr>\n",
       "    <tr>\n",
       "      <th>1</th>\n",
       "      <td>2015</td>\n",
       "      <td>6 Months - 1 Year</td>\n",
       "      <td>0</td>\n",
       "      <td>Not Painted</td>\n",
       "      <td>Fenced</td>\n",
       "      <td>No Garden</td>\n",
       "      <td>Rural area</td>\n",
       "      <td>490.0</td>\n",
       "      <td>1</td>\n",
       "      <td>1850.0</td>\n",
       "      <td>4</td>\n",
       "      <td>1053</td>\n",
       "      <td>0.0</td>\n",
       "    </tr>\n",
       "    <tr>\n",
       "      <th>2</th>\n",
       "      <td>2014</td>\n",
       "      <td>6 Months - 1 Year</td>\n",
       "      <td>0</td>\n",
       "      <td>Painted</td>\n",
       "      <td>Not Fenced</td>\n",
       "      <td>Has Garden</td>\n",
       "      <td>Urban area</td>\n",
       "      <td>595.0</td>\n",
       "      <td>1</td>\n",
       "      <td>1960.0</td>\n",
       "      <td>0</td>\n",
       "      <td>1053</td>\n",
       "      <td>0.0</td>\n",
       "    </tr>\n",
       "    <tr>\n",
       "      <th>3</th>\n",
       "      <td>2013</td>\n",
       "      <td>6 Months - 1 Year</td>\n",
       "      <td>0</td>\n",
       "      <td>Not Painted</td>\n",
       "      <td>Not Fenced</td>\n",
       "      <td>Has Garden</td>\n",
       "      <td>Urban area</td>\n",
       "      <td>2840.0</td>\n",
       "      <td>1</td>\n",
       "      <td>1960.0</td>\n",
       "      <td>0</td>\n",
       "      <td>1053</td>\n",
       "      <td>0.0</td>\n",
       "    </tr>\n",
       "    <tr>\n",
       "      <th>4</th>\n",
       "      <td>2014</td>\n",
       "      <td>6 Months - 1 Year</td>\n",
       "      <td>0</td>\n",
       "      <td>Not Painted</td>\n",
       "      <td>Fenced</td>\n",
       "      <td>No Garden</td>\n",
       "      <td>Rural area</td>\n",
       "      <td>680.0</td>\n",
       "      <td>1</td>\n",
       "      <td>1800.0</td>\n",
       "      <td>3</td>\n",
       "      <td>1053</td>\n",
       "      <td>0.0</td>\n",
       "    </tr>\n",
       "  </tbody>\n",
       "</table>\n",
       "</div>"
      ],
      "text/plain": [
       "   Year of Observation   Insurance Period  Residential Building Painted  \\\n",
       "0                 2013  6 Months - 1 Year            0          Painted   \n",
       "1                 2015  6 Months - 1 Year            0      Not Painted   \n",
       "2                 2014  6 Months - 1 Year            0          Painted   \n",
       "3                 2013  6 Months - 1 Year            0      Not Painted   \n",
       "4                 2014  6 Months - 1 Year            0      Not Painted   \n",
       "\n",
       "  Building Fenced      Garden  Settlement  Building Dimension  Building Type  \\\n",
       "0      Not Fenced  Has Garden  Urban area               290.0              1   \n",
       "1          Fenced   No Garden  Rural area               490.0              1   \n",
       "2      Not Fenced  Has Garden  Urban area               595.0              1   \n",
       "3      Not Fenced  Has Garden  Urban area              2840.0              1   \n",
       "4          Fenced   No Garden  Rural area               680.0              1   \n",
       "\n",
       "   Date Of Occupancy  Number of Windows Geo Code  Claim  \n",
       "0             1960.0                  0     1053    0.0  \n",
       "1             1850.0                  4     1053    0.0  \n",
       "2             1960.0                  0     1053    0.0  \n",
       "3             1960.0                  0     1053    0.0  \n",
       "4             1800.0                  3     1053    0.0  "
      ]
     },
     "execution_count": 14,
     "metadata": {},
     "output_type": "execute_result"
    }
   ],
   "source": [
    "df.head()"
   ]
  },
  {
   "cell_type": "code",
   "execution_count": 15,
   "id": "1960ef69",
   "metadata": {},
   "outputs": [
    {
     "data": {
      "text/plain": [
       "1236"
      ]
     },
     "execution_count": 15,
     "metadata": {},
     "output_type": "execute_result"
    }
   ],
   "source": [
    "df['Date Of Occupancy'].isna().sum()"
   ]
  },
  {
   "cell_type": "code",
   "execution_count": 16,
   "id": "12298682",
   "metadata": {
    "scrolled": false
   },
   "outputs": [
    {
     "data": {
      "image/png": "[encoded data removed]",
      "text/plain": [
       "<Figure size 800x400 with 1 Axes>"
      ]
     },
     "metadata": {},
     "output_type": "display_data"
    }
   ],
   "source": [
    "yearByInsuredPeriod = df.groupby('Year of Observation')['Year of Observation'].count().sort_values(ascending=False)\n",
    "\n",
    "sns.set_theme(font_scale=1.0)\n",
    "plt.figure(figsize=(8,4))\n",
    "plt.title('Univariate Analysis Showing The Counts Of Insurance Made From 2013 - 2016', fontsize=15)\n",
    "plt.ylabel(\"Insurance Counts\")\n",
    "sns.lineplot(x=yearByInsuredPeriod.index, y=yearByInsuredPeriod.values);\n",
    "\n",
    "plt.savefig('figures\\CountsOfInsuranceMade')"
   ]
  },
  {
   "cell_type": "code",
   "execution_count": 17,
   "id": "bd07e49a",
   "metadata": {
    "scrolled": true
   },
   "outputs": [
    {
     "data": {
      "text/html": [
       "<div>\n",
       "<style scoped>\n",
       "    .dataframe tbody tr th:only-of-type {\n",
       "        vertical-align: middle;\n",
       "    }\n",
       "\n",
       "    .dataframe tbody tr th {\n",
       "        vertical-align: top;\n",
       "    }\n",
       "\n",
       "    .dataframe thead th {\n",
       "        text-align: right;\n",
       "    }\n",
       "</style>\n",
       "<table border=\"1\" class=\"dataframe\">\n",
       "  <thead>\n",
       "    <tr style=\"text-align: right;\">\n",
       "      <th></th>\n",
       "      <th>YearOfObservation</th>\n",
       "      <th>Insured_Period</th>\n",
       "      <th>Residential</th>\n",
       "      <th>Building_Painted</th>\n",
       "      <th>Building_Fenced</th>\n",
       "      <th>Garden</th>\n",
       "      <th>Settlement</th>\n",
       "      <th>Building Dimension</th>\n",
       "      <th>Building_Type</th>\n",
       "      <th>Date_of_Occupancy</th>\n",
       "      <th>NumberOfWindows</th>\n",
       "      <th>Geo_Code</th>\n",
       "      <th>Claim</th>\n",
       "    </tr>\n",
       "  </thead>\n",
       "  <tbody>\n",
       "    <tr>\n",
       "      <th>0</th>\n",
       "      <td>2013</td>\n",
       "      <td>6 Months - 1 Year</td>\n",
       "      <td>0</td>\n",
       "      <td>N</td>\n",
       "      <td>V</td>\n",
       "      <td>V</td>\n",
       "      <td>U</td>\n",
       "      <td>290.0</td>\n",
       "      <td>1</td>\n",
       "      <td>1960.0</td>\n",
       "      <td>.</td>\n",
       "      <td>1053</td>\n",
       "      <td>0.0</td>\n",
       "    </tr>\n",
       "    <tr>\n",
       "      <th>1</th>\n",
       "      <td>2015</td>\n",
       "      <td>6 Months - 1 Year</td>\n",
       "      <td>0</td>\n",
       "      <td>V</td>\n",
       "      <td>N</td>\n",
       "      <td>O</td>\n",
       "      <td>R</td>\n",
       "      <td>490.0</td>\n",
       "      <td>1</td>\n",
       "      <td>1850.0</td>\n",
       "      <td>4</td>\n",
       "      <td>1053</td>\n",
       "      <td>0.0</td>\n",
       "    </tr>\n",
       "    <tr>\n",
       "      <th>2</th>\n",
       "      <td>2014</td>\n",
       "      <td>6 Months - 1 Year</td>\n",
       "      <td>0</td>\n",
       "      <td>N</td>\n",
       "      <td>V</td>\n",
       "      <td>V</td>\n",
       "      <td>U</td>\n",
       "      <td>595.0</td>\n",
       "      <td>1</td>\n",
       "      <td>1960.0</td>\n",
       "      <td>.</td>\n",
       "      <td>1053</td>\n",
       "      <td>0.0</td>\n",
       "    </tr>\n",
       "    <tr>\n",
       "      <th>3</th>\n",
       "      <td>2013</td>\n",
       "      <td>6 Months - 1 Year</td>\n",
       "      <td>0</td>\n",
       "      <td>V</td>\n",
       "      <td>V</td>\n",
       "      <td>V</td>\n",
       "      <td>U</td>\n",
       "      <td>2840.0</td>\n",
       "      <td>1</td>\n",
       "      <td>1960.0</td>\n",
       "      <td>.</td>\n",
       "      <td>1053</td>\n",
       "      <td>0.0</td>\n",
       "    </tr>\n",
       "    <tr>\n",
       "      <th>4</th>\n",
       "      <td>2014</td>\n",
       "      <td>6 Months - 1 Year</td>\n",
       "      <td>0</td>\n",
       "      <td>V</td>\n",
       "      <td>N</td>\n",
       "      <td>O</td>\n",
       "      <td>R</td>\n",
       "      <td>680.0</td>\n",
       "      <td>1</td>\n",
       "      <td>1800.0</td>\n",
       "      <td>3</td>\n",
       "      <td>1053</td>\n",
       "      <td>0.0</td>\n",
       "    </tr>\n",
       "  </tbody>\n",
       "</table>\n",
       "</div>"
      ],
      "text/plain": [
       "   YearOfObservation     Insured_Period  Residential Building_Painted  \\\n",
       "0               2013  6 Months - 1 Year            0                N   \n",
       "1               2015  6 Months - 1 Year            0                V   \n",
       "2               2014  6 Months - 1 Year            0                N   \n",
       "3               2013  6 Months - 1 Year            0                V   \n",
       "4               2014  6 Months - 1 Year            0                V   \n",
       "\n",
       "  Building_Fenced Garden Settlement  Building Dimension  Building_Type  \\\n",
       "0               V      V          U               290.0              1   \n",
       "1               N      O          R               490.0              1   \n",
       "2               V      V          U               595.0              1   \n",
       "3               V      V          U              2840.0              1   \n",
       "4               N      O          R               680.0              1   \n",
       "\n",
       "   Date_of_Occupancy NumberOfWindows Geo_Code  Claim  \n",
       "0             1960.0               .     1053    0.0  \n",
       "1             1850.0               4     1053    0.0  \n",
       "2             1960.0               .     1053    0.0  \n",
       "3             1960.0               .     1053    0.0  \n",
       "4             1800.0               3     1053    0.0  "
      ]
     },
     "execution_count": 17,
     "metadata": {},
     "output_type": "execute_result"
    }
   ],
   "source": [
    "df.head()"
   ]
  },
  {
   "cell_type": "code",
   "execution_count": 50,
   "id": "cf7e3f2b",
   "metadata": {},
   "outputs": [
    {
     "data": {
      "image/png": "[encoded data removed]",
      "text/plain": [
       "<Figure size 1000x400 with 1 Axes>"
      ]
     },
     "metadata": {},
     "output_type": "display_data"
    }
   ],
   "source": [
    "# Replace Painted - Not Painted Buildings\n",
    "df['Building_Painted'].replace('N', 'Painted', inplace=True)\n",
    "df['Building_Painted'].replace('V', 'Not Painted', inplace=True)\n",
    "\n",
    "residentialBuilding = df.groupby('Building_Painted')['Building_Painted'].count().sort_values(ascending=False)\n",
    "sns.set_theme(font_scale=1.5)\n",
    "plt.figure(figsize=(10,4))\n",
    "sns.barplot(x = residentialBuilding.index, \n",
    "            y = residentialBuilding.values,hue=garden.index).set_title(\"Univariate Analysis Showing The Type Of Buildings (Painted - Not Painted)\",\n",
    "                                                     fontsize=15);\n",
    "# plt.legend()\n",
    "plt.savefig('figures/residentialBuildingCOunts')"
   ]
  },
  {
   "cell_type": "code",
   "execution_count": 16,
   "id": "621f4a09",
   "metadata": {},
   "outputs": [
    {
     "data": {
      "image/png": "[encoded data removed]",
      "text/plain": [
       "<Figure size 648x288 with 1 Axes>"
      ]
     },
     "metadata": {},
     "output_type": "display_data"
    }
   ],
   "source": [
    "# Replace Painted - Not Painted Buildings\n",
    "df['Garden'].replace('V', 'Has Garden', inplace=True)\n",
    "df['Garden'].replace('O', 'No Garden', inplace=True)\n",
    "\n",
    "# Garden Groupby\n",
    "garden = df.groupby('Garden').Garden.count().sort_values(ascending=False)\n",
    "\n",
    "plt.figure(figsize=(9,4))\n",
    "sns.set_theme(font_scale=1.5);\n",
    "plt.pie(garden, labels=garden.index, autopct='%1.1f%%');\n",
    "plt.title(\"Pie Plot Analysis Showing The Percentage Of Insured Properties With Gardens\");\n"
   ]
  },
  {
   "cell_type": "code",
   "execution_count": 17,
   "id": "3c9fdeef",
   "metadata": {},
   "outputs": [
    {
     "data": {
      "image/png": "[encoded data removed]",
      "text/plain": [
       "<Figure size 648x432 with 1 Axes>"
      ]
     },
     "metadata": {},
     "output_type": "display_data"
    }
   ],
   "source": [
    "# plot a pie chart of insured properties with fence and without fence\n",
    "Building_fenced = df['Building Fenced'].value_counts()\n",
    "\n",
    "plt.figure(figsize=(9,6))\n",
    "sns.set(font_scale=1.5)\n",
    "plt.pie(Building_fenced.values, labels=Building_fenced.index, autopct= '%1.2f%%')\n",
    "plt.title('Insured Properties Percentage with Fences and No Fences',fontsize = 20)\n",
    "\n",
    "plt.show()"
   ]
  },
  {
   "cell_type": "code",
   "execution_count": 18,
   "id": "4466a1ad",
   "metadata": {},
   "outputs": [
    {
     "data": {
      "image/png": "[encoded data removed]",
      "text/plain": [
       "<Figure size 648x432 with 1 Axes>"
      ]
     },
     "metadata": {},
     "output_type": "display_data"
    }
   ],
   "source": [
    "# plot a pie chart of insured properties with fence and without fence\n",
    "Settlement = df['Settlement'].value_counts()\n",
    "\n",
    "plt.figure(figsize=(9,6))\n",
    "sns.set(font_scale=1.5)\n",
    "plt.pie(Settlement.values, labels=Settlement.index, autopct= '%1.2f%%')\n",
    "plt.title('Insured Properties Percentage in Rural and Urban Areas',fontsize = 20)\n",
    "\n",
    "plt.show()"
   ]
  },
  {
   "cell_type": "code",
   "execution_count": 19,
   "id": "8575be82",
   "metadata": {},
   "outputs": [],
   "source": [
    "# plot insured period of residential and non residential properties \n",
    "\n",
    "Groupby = pd.DataFrame(df.groupby('Insurance Period')['Residential'].value_counts(),\n",
    "                      \n",
    "                      )\n",
    "Groupby.rename(columns={'Residential':'Counts'},inplace=True)\n",
    "Groupby.reset_index(inplace=True)\n",
    "\n",
    "residential = Groupby[Groupby['Residential'] == 1]\n",
    "non_residential = Groupby[Groupby['Residential'] == 0]\n"
   ]
  },
  {
   "cell_type": "code",
   "execution_count": 20,
   "id": "55d0a353",
   "metadata": {},
   "outputs": [
    {
     "data": {
      "image/png": "[encoded data removed]",
      "text/plain": [
       "<Figure size 576x432 with 1 Axes>"
      ]
     },
     "metadata": {},
     "output_type": "display_data"
    }
   ],
   "source": [
    "n = len(residential['Counts'])\n",
    "r = np.arange(n)\n",
    "width = 0.25\n",
    "\n",
    "plt.figure(figsize=(8,6))\n",
    "sns.set_theme(font_scale=1.5)\n",
    "plt.bar(r,residential['Counts'], color='g',\n",
    "       width = width, edgecolor = 'black',label='Residential')\n",
    "plt.bar(r + width,non_residential['Counts'], color='b',\n",
    "       width = width, edgecolor = 'black',label='Non Residential')\n",
    "\n",
    "plt.xlabel('Insurance',fontsize = 14)\n",
    "plt.ylabel('Counts', fontsize = 14)\n",
    "plt.title('Insurance Period of Residential and Non Residential Properties',fontsize = 20)\n",
    "\n",
    "plt.xticks(r + width/2,['0 - 5 Months','6 Months - 1 Year'])\n",
    "plt.legend()\n",
    "\n",
    "plt.show()"
   ]
  },
  {
   "cell_type": "code",
   "execution_count": 21,
   "id": "c599de34",
   "metadata": {},
   "outputs": [
    {
     "data": {
      "image/png": "[encoded data removed]",
      "text/plain": [
       "<Figure size 432x288 with 1 Axes>"
      ]
     },
     "metadata": {},
     "output_type": "display_data"
    }
   ],
   "source": [
    "# Plot the insurance properties number of windows \n",
    "\n",
    "number_of_windows = df['Number of Windows'].value_counts()\n",
    "\n",
    "sns.lineplot(x= number_of_windows.index , y= number_of_windows.values)\n",
    "plt.xlabel('Number of Windows',fontsize=14)\n",
    "plt.ylabel('Counts', fontsize=14)\n",
    "plt.title('Insurance Properties Number of Windows')\n",
    "\n",
    "plt.show()"
   ]
  },
  {
   "cell_type": "code",
   "execution_count": null,
   "id": "27f51f3f",
   "metadata": {},
   "outputs": [],
   "source": [
    "# Scatter plot of the building dimensions of insrance properties in years of observation \n",
    "# Also between rural and urban areas \n",
    "\n",
    "\n",
    "plt.figure(figsize=(10,6))\n",
    "sns.swarmplot(data=df,  x='Settlement', y= 'Building Dimension')"
   ]
  },
  {
   "cell_type": "code",
   "execution_count": null,
   "id": "4c3167f8",
   "metadata": {},
   "outputs": [],
   "source": [
    "sns.histplot(df['Date_of_Occupancy'])"
   ]
  },
  {
   "cell_type": "markdown",
   "id": "d5e3e0fd",
   "metadata": {},
   "source": [
    "**SUMMARY**\n",
    "\n",
    "1. "
   ]
  },
  {
   "cell_type": "markdown",
   "id": "f3a2e756",
   "metadata": {},
   "source": [
    "**DATA PREPROCESSING**"
   ]
  },
  {
   "cell_type": "code",
   "execution_count": null,
   "id": "06e4c8f6",
   "metadata": {},
   "outputs": [],
   "source": []
  }
 ],
 "metadata": {
  "kernelspec": {
   "display_name": "Python 3 (ipykernel)",
   "language": "python",
   "name": "python3"
  },
  "language_info": {
   "codemirror_mode": {
    "name": "ipython",
    "version": 3
   },
   "file_extension": ".py",
   "mimetype": "text/x-python",
   "name": "python",
   "nbconvert_exporter": "python",
   "pygments_lexer": "ipython3",
   "version": "3.9.12"
  }
 },
 "nbformat": 4,
 "nbformat_minor": 5
}
